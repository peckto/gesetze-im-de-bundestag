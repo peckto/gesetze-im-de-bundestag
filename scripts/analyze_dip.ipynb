{
 "cells": [
  {
   "cell_type": "code",
   "execution_count": 1,
   "id": "97ad2d24-a37c-4fc7-a95e-6876c49b062c",
   "metadata": {},
   "outputs": [],
   "source": [
    "import json\n",
    "import polars as pl"
   ]
  },
  {
   "cell_type": "code",
   "execution_count": 2,
   "id": "0c6ce133-86f6-4a87-ae73-862b46ed4554",
   "metadata": {},
   "outputs": [
    {
     "data": {
      "text/html": [
       "<div><style>\n",
       ".dataframe > thead > tr > th,\n",
       ".dataframe > tbody > tr > td {\n",
       "  text-align: right;\n",
       "}\n",
       "</style>\n",
       "<small>shape: (15,)</small><table border=\"1\" class=\"dataframe\"><thead><tr><th>beratungsstand</th></tr><tr><td>str</td></tr></thead><tbody><tr><td>&quot;Bundesrat hat zugestimmt&quot;</td></tr><tr><td>&quot;Verabschiedet&quot;</td></tr><tr><td>&quot;Den Ausschüssen zugewiesen&quot;</td></tr><tr><td>&quot;Angenommen&quot;</td></tr><tr><td>&quot;Verkündet&quot;</td></tr><tr><td>&quot;Überwiesen&quot;</td></tr><tr><td>&quot;Für erledigt erklärt&quot;</td></tr><tr><td>&quot;Noch nicht beraten&quot;</td></tr><tr><td>&quot;Zusammengeführt mit... (siehe Vorgangsablauf)&quot;</td></tr><tr><td>&quot;Dem Bundesrat zugeleitet - Noch nicht beraten&quot;</td></tr><tr><td>&quot;Dem Bundestag zugeleitet - Noch nicht beraten&quot;</td></tr><tr><td>&quot;Einbringung abgelehnt&quot;</td></tr><tr><td>&quot;Beschlussempfehlung liegt vor&quot;</td></tr><tr><td>&quot;Zurückgezogen&quot;</td></tr><tr><td>&quot;Abgelehnt&quot;</td></tr></tbody></table></div>"
      ],
      "text/plain": [
       "shape: (15,)\n",
       "Series: 'beratungsstand' [str]\n",
       "[\n",
       "\t\"Bundesrat hat zugestimmt\"\n",
       "\t\"Verabschiedet\"\n",
       "\t\"Den Ausschüssen zugewiesen\"\n",
       "\t\"Angenommen\"\n",
       "\t\"Verkündet\"\n",
       "\t\"Überwiesen\"\n",
       "\t\"Für erledigt erklärt\"\n",
       "\t\"Noch nicht beraten\"\n",
       "\t\"Zusammengeführt mit... (siehe Vorgangsablauf)\"\n",
       "\t\"Dem Bundesrat zugeleitet - Noch nicht beraten\"\n",
       "\t\"Dem Bundestag zugeleitet - Noch nicht beraten\"\n",
       "\t\"Einbringung abgelehnt\"\n",
       "\t\"Beschlussempfehlung liegt vor\"\n",
       "\t\"Zurückgezogen\"\n",
       "\t\"Abgelehnt\"\n",
       "]"
      ]
     },
     "execution_count": 2,
     "metadata": {},
     "output_type": "execute_result"
    }
   ],
   "source": [
    "df_vorgang = pl.read_json('vorgang.json')\n",
    "df_gesetze = df_vorgang.filter(pl.col('vorgangstyp') == 'Gesetzgebung')\n",
    "pl.Config(fmt_str_lengths=100)\n",
    "df_gesetze['beratungsstand'].unique()"
   ]
  },
  {
   "cell_type": "code",
   "execution_count": 3,
   "id": "2563ad5e-bd77-4fa3-bb9b-ceae20e8ae5e",
   "metadata": {},
   "outputs": [],
   "source": [
    "df_gesetze.write_json('gesetze.json', row_oriented=True)"
   ]
  },
  {
   "cell_type": "code",
   "execution_count": 4,
   "id": "e6797c73-25e0-45cd-b24b-65c03cde2a29",
   "metadata": {},
   "outputs": [
    {
     "data": {
      "text/html": [
       "<div><style>\n",
       ".dataframe > thead > tr > th,\n",
       ".dataframe > tbody > tr > td {\n",
       "  text-align: right;\n",
       "}\n",
       "</style>\n",
       "<small>shape: (1, 17)</small><table border=\"1\" class=\"dataframe\"><thead><tr><th>id</th><th>abstract</th><th>beratungsstand</th><th>vorgangstyp</th><th>gesta</th><th>sachgebiet</th><th>typ</th><th>wahlperiode</th><th>zustimmungsbeduerftigkeit</th><th>initiative</th><th>aktualisiert</th><th>deskriptor</th><th>titel</th><th>datum</th><th>vorgang_verlinkung</th><th>ratsdok</th><th>kom</th></tr><tr><td>str</td><td>str</td><td>str</td><td>str</td><td>str</td><td>list[str]</td><td>str</td><td>i64</td><td>list[str]</td><td>list[str]</td><td>str</td><td>list[struct[3]]</td><td>str</td><td>str</td><td>list[struct[5]]</td><td>str</td><td>str</td></tr></thead><tbody><tr><td>&quot;290871&quot;</td><td>&quot;Verstetigung pandemiebedingter befristeter Regelungen zur Ausnahme von Kalendermonaten mit Kurzarbe…</td><td>&quot;Angenommen&quot;</td><td>&quot;Gesetzgebung&quot;</td><td>&quot;G010&quot;</td><td>[&quot;Gesellschaftspolitik, soziale Gruppen&quot;, &quot;Soziale Sicherung&quot;]</td><td>&quot;Vorgang&quot;</td><td>20</td><td>[&quot;Nein, laut Gesetzesantrag (Drs 421/22)&quot;]</td><td>[&quot;Schleswig-Holstein&quot;]</td><td>&quot;2023-06-06T14:50:44+02:00&quot;</td><td>[{true,&quot;Bundeselterngeld- und Elternzeitgesetz&quot;,&quot;Rechtsmaterialien&quot;}, {false,&quot;COVID-19&quot;,&quot;Sachbegriffe&quot;}, … {true,&quot;Kurzarbeitergeld&quot;,&quot;Sachbegriffe&quot;}]</td><td>&quot;... Gesetz zur Änderung des Bundeselterngeld- und Elternzeitgesetzes (BEEG) - Bemessungszeitraum&quot;</td><td>&quot;2023-05-31&quot;</td><td>null</td><td>null</td><td>null</td></tr></tbody></table></div>"
      ],
      "text/plain": [
       "shape: (1, 17)\n",
       "┌────────┬──────────────┬────────────┬──────────────┬───┬────────────┬────────────┬─────────┬──────┐\n",
       "│ id     ┆ abstract     ┆ beratungss ┆ vorgangstyp  ┆ … ┆ datum      ┆ vorgang_ve ┆ ratsdok ┆ kom  │\n",
       "│ ---    ┆ ---          ┆ tand       ┆ ---          ┆   ┆ ---        ┆ rlinkung   ┆ ---     ┆ ---  │\n",
       "│ str    ┆ str          ┆ ---        ┆ str          ┆   ┆ str        ┆ ---        ┆ str     ┆ str  │\n",
       "│        ┆              ┆ str        ┆              ┆   ┆            ┆ list[struc ┆         ┆      │\n",
       "│        ┆              ┆            ┆              ┆   ┆            ┆ t[5]]      ┆         ┆      │\n",
       "╞════════╪══════════════╪════════════╪══════════════╪═══╪════════════╪════════════╪═════════╪══════╡\n",
       "│ 290871 ┆ Verstetigung ┆ Angenommen ┆ Gesetzgebung ┆ … ┆ 2023-05-31 ┆ null       ┆ null    ┆ null │\n",
       "│        ┆ pandemiebedi ┆            ┆              ┆   ┆            ┆            ┆         ┆      │\n",
       "│        ┆ ngter        ┆            ┆              ┆   ┆            ┆            ┆         ┆      │\n",
       "│        ┆ befristeter  ┆            ┆              ┆   ┆            ┆            ┆         ┆      │\n",
       "│        ┆ Regelungen   ┆            ┆              ┆   ┆            ┆            ┆         ┆      │\n",
       "│        ┆ zur Ausnahme ┆            ┆              ┆   ┆            ┆            ┆         ┆      │\n",
       "│        ┆ von Kalender ┆            ┆              ┆   ┆            ┆            ┆         ┆      │\n",
       "│        ┆ monaten mit  ┆            ┆              ┆   ┆            ┆            ┆         ┆      │\n",
       "│        ┆ Kurzarbei…   ┆            ┆              ┆   ┆            ┆            ┆         ┆      │\n",
       "└────────┴──────────────┴────────────┴──────────────┴───┴────────────┴────────────┴─────────┴──────┘"
      ]
     },
     "execution_count": 4,
     "metadata": {},
     "output_type": "execute_result"
    }
   ],
   "source": [
    "df_gesetze.filter(pl.col('beratungsstand') == 'Angenommen')"
   ]
  },
  {
   "cell_type": "code",
   "execution_count": null,
   "id": "46f61414-9939-4423-910f-41db94f781c8",
   "metadata": {},
   "outputs": [],
   "source": []
  }
 ],
 "metadata": {
  "kernelspec": {
   "display_name": "Python 3 (ipykernel)",
   "language": "python",
   "name": "python3"
  },
  "language_info": {
   "codemirror_mode": {
    "name": "ipython",
    "version": 3
   },
   "file_extension": ".py",
   "mimetype": "text/x-python",
   "name": "python",
   "nbconvert_exporter": "python",
   "pygments_lexer": "ipython3",
   "version": "3.11.5"
  }
 },
 "nbformat": 4,
 "nbformat_minor": 5
}
