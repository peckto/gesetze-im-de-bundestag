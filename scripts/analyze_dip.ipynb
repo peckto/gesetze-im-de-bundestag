{
 "cells": [
  {
   "cell_type": "code",
   "execution_count": 1,
   "id": "97ad2d24-a37c-4fc7-a95e-6876c49b062c",
   "metadata": {},
   "outputs": [
    {
     "name": "stderr",
     "output_type": "stream",
     "text": [
      "[nltk_data] Downloading package stopwords to /home/tobias/nltk_data...\n",
      "[nltk_data]   Package stopwords is already up-to-date!\n"
     ]
    },
    {
     "data": {
      "text/plain": [
       "True"
      ]
     },
     "execution_count": 1,
     "metadata": {},
     "output_type": "execute_result"
    }
   ],
   "source": [
    "import json\n",
    "import time\n",
    "import re\n",
    "import urllib\n",
    "from datetime import date\n",
    "import polars as pl\n",
    "import numpy as np\n",
    "import textdistance as td\n",
    "import requests\n",
    "from bs4 import BeautifulSoup\n",
    "import nltk\n",
    "from nltk.stem.cistem import Cistem\n",
    "from nltk.corpus import stopwords\n",
    "nltk.download('stopwords')"
   ]
  },
  {
   "cell_type": "code",
   "execution_count": 2,
   "id": "0c6ce133-86f6-4a87-ae73-862b46ed4554",
   "metadata": {},
   "outputs": [
    {
     "data": {
      "text/html": [
       "<div><style>\n",
       ".dataframe > thead > tr,\n",
       ".dataframe > tbody > tr {\n",
       "  text-align: right;\n",
       "  white-space: pre-wrap;\n",
       "}\n",
       "</style>\n",
       "<small>shape: (21,)</small><table border=\"1\" class=\"dataframe\"><thead><tr><th>beratungsstand</th></tr><tr><td>str</td></tr></thead><tbody><tr><td>&quot;Bundesrat hat Vermittlungsausschuss nicht angerufen&quot;</td></tr><tr><td>&quot;Abgelehnt&quot;</td></tr><tr><td>&quot;Abgeschlossen - Ergebnis siehe Vorgangsablauf&quot;</td></tr><tr><td>&quot;Noch nicht beraten&quot;</td></tr><tr><td>&quot;Bundesrat hat zugestimmt&quot;</td></tr><tr><td>&quot;Dem Bundestag zugeleitet - Noch nicht beraten&quot;</td></tr><tr><td>&quot;Verkündet&quot;</td></tr><tr><td>&quot;Beschlussempfehlung liegt vor&quot;</td></tr><tr><td>&quot;Bundesrat hat Zustimmung versagt&quot;</td></tr><tr><td>&quot;Im Vermittlungsverfahren&quot;</td></tr><tr><td>&quot;Für mit dem Grundgesetz unvereinbar erklärt&quot;</td></tr><tr><td>&quot;Verabschiedet&quot;</td></tr><tr><td>&quot;1. Durchgang im Bundesrat abgeschlossen&quot;</td></tr><tr><td>&quot;Abgeschlossen&quot;</td></tr><tr><td>&quot;Zusammengeführt mit... (siehe Vorgangsablauf)&quot;</td></tr><tr><td>&quot;Überwiesen&quot;</td></tr><tr><td>&quot;Zurückgezogen&quot;</td></tr><tr><td>&quot;Für erledigt erklärt&quot;</td></tr><tr><td>&quot;Den Ausschüssen zugewiesen&quot;</td></tr><tr><td>&quot;Einbringung abgelehnt&quot;</td></tr><tr><td>&quot;Dem Bundesrat zugeleitet - Noch nicht beraten&quot;</td></tr></tbody></table></div>"
      ],
      "text/plain": [
       "shape: (21,)\n",
       "Series: 'beratungsstand' [str]\n",
       "[\n",
       "\t\"Bundesrat hat Vermittlungsausschuss nicht angerufen\"\n",
       "\t\"Abgelehnt\"\n",
       "\t\"Abgeschlossen - Ergebnis siehe Vorgangsablauf\"\n",
       "\t\"Noch nicht beraten\"\n",
       "\t\"Bundesrat hat zugestimmt\"\n",
       "\t\"Dem Bundestag zugeleitet - Noch nicht beraten\"\n",
       "\t\"Verkündet\"\n",
       "\t\"Beschlussempfehlung liegt vor\"\n",
       "\t\"Bundesrat hat Zustimmung versagt\"\n",
       "\t\"Im Vermittlungsverfahren\"\n",
       "\t\"Für mit dem Grundgesetz unvereinbar erklärt\"\n",
       "\t\"Verabschiedet\"\n",
       "\t\"1. Durchgang im Bundesrat abgeschlossen\"\n",
       "\t\"Abgeschlossen\"\n",
       "\t\"Zusammengeführt mit... (siehe Vorgangsablauf)\"\n",
       "\t\"Überwiesen\"\n",
       "\t\"Zurückgezogen\"\n",
       "\t\"Für erledigt erklärt\"\n",
       "\t\"Den Ausschüssen zugewiesen\"\n",
       "\t\"Einbringung abgelehnt\"\n",
       "\t\"Dem Bundesrat zugeleitet - Noch nicht beraten\"\n",
       "]"
      ]
     },
     "execution_count": 2,
     "metadata": {},
     "output_type": "execute_result"
    }
   ],
   "source": [
    "schema={\n",
    "    'id': pl.Utf8,\n",
    "    'abstract': pl.Utf8,\n",
    "    'beratungsstand': pl.Utf8,\n",
    "    'vorgangstyp': pl.Utf8,\n",
    "    'gesta': pl.Utf8,\n",
    "    'archiv': pl.Utf8,\n",
    "    'sachgebiet': pl.List(pl.Utf8),\n",
    "    'typ': pl.Utf8,\n",
    "    'wahlperiode': pl.UInt64,\n",
    "    'zustimmungsbeduerftigkeit': pl.List(pl.Utf8),\n",
    "    'initiative': pl.List(pl.Utf8),\n",
    "    'deskriptor': pl.List(pl.Struct([\n",
    "        pl.Field('fundstelle', pl.Boolean),\n",
    "        pl.Field('name', pl.Utf8),\n",
    "        pl.Field('typ', pl.Utf8),\n",
    "    ])),\n",
    "    'aktualisiert': pl.Utf8,\n",
    "    'titel': pl.Utf8,\n",
    "    'datum': pl.Utf8,\n",
    "    'verkuendung': pl.List(pl.Struct([\n",
    "        pl.Field('verkuendungsdatum', pl.Utf8)\n",
    "    ]))\n",
    "}\n",
    "df_vorgang = pl.DataFrame(json.load(open('vorgang.json', encoding='utf-8')), schema=schema)\n",
    "df_gesetze = df_vorgang.filter(pl.col('vorgangstyp') == 'Gesetzgebung')\n",
    "pl.Config(fmt_str_lengths=100)\n",
    "df_gesetze['beratungsstand'].unique()"
   ]
  },
  {
   "cell_type": "code",
   "execution_count": 3,
   "id": "df422da7-434d-407b-99d5-d846824b3ec8",
   "metadata": {},
   "outputs": [],
   "source": [
    "df_vorgangspos = pl.read_json('vorgangsposition.json')\n",
    "df_vorgangspos = df_vorgangspos.with_columns(\n",
    "   pl.col(\"datum\").str.to_date(format=\"%Y-%m-%d\")\n",
    ")\n",
    "df_vorgangspos_gesetzgebung = df_vorgangspos.filter((pl.col('vorgangstyp') == 'Gesetzgebung') & (pl.col('typ') == 'Vorgangsposition'))\n",
    "df_vorgang_duration = df_vorgangspos_gesetzgebung.group_by(['vorgang_id']).agg([\n",
    "    pl.col('datum').min().alias('vorgang_start'), \n",
    "])"
   ]
  },
  {
   "cell_type": "code",
   "execution_count": 4,
   "id": "7d9a7b0e-e1d9-491a-bf8d-bce622d6594f",
   "metadata": {},
   "outputs": [
    {
     "data": {
      "text/html": [
       "<div><style>\n",
       ".dataframe > thead > tr,\n",
       ".dataframe > tbody > tr {\n",
       "  text-align: right;\n",
       "  white-space: pre-wrap;\n",
       "}\n",
       "</style>\n",
       "<small>shape: (5, 16)</small><table border=\"1\" class=\"dataframe\"><thead><tr><th>id</th><th>abstract</th><th>beratungsstand</th><th>vorgangstyp</th><th>gesta</th><th>archiv</th><th>sachgebiet</th><th>typ</th><th>wahlperiode</th><th>zustimmungsbeduerftigkeit</th><th>initiative</th><th>deskriptor</th><th>aktualisiert</th><th>titel</th><th>datum</th><th>verkuendung</th></tr><tr><td>str</td><td>str</td><td>str</td><td>str</td><td>str</td><td>str</td><td>list[str]</td><td>str</td><td>u64</td><td>list[str]</td><td>list[str]</td><td>list[struct[3]]</td><td>str</td><td>str</td><td>str</td><td>list[struct[1]]</td></tr></thead><tbody><tr><td>&quot;308708&quot;</td><td>&quot;Maßnahmen zur Steigerung der Attraktivität der beruflichen Bildung: Einführung eines Validierungsve…</td><td>&quot;Dem Bundestag zugeleitet - Noch nicht beraten&quot;</td><td>&quot;Gesetzgebung&quot;</td><td>&quot;K007&quot;</td><td>null</td><td>[&quot;Arbeit und Beschäftigung&quot;, &quot;Bildung und Erziehung&quot;, &quot;Medien, Kommunikation und Informationstechnik&quot;]</td><td>&quot;Vorgang&quot;</td><td>20</td><td>[&quot;Ja, laut Gesetzentwurf (Drs 73/24)&quot;]</td><td>[&quot;Bundesregierung&quot;]</td><td>[{false,&quot;Ausbildungsvertrag&quot;,&quot;Sachbegriffe&quot;}, {false,&quot;Behinderter&quot;,&quot;Sachbegriffe&quot;}, … {false,&quot;Schulzeugnis&quot;,&quot;Sachbegriffe&quot;}]</td><td>&quot;2024-03-27T17:08:03+01:00&quot;</td><td>&quot;Berufsbildungsvalidierungs- und -digitalisierungsgesetz (BVaDiG)&quot;</td><td>&quot;2024-03-27&quot;</td><td>null</td></tr><tr><td>&quot;302813&quot;</td><td>&quot;Ermöglichung massiver und zügiger Investitionen in Modernisierung und Ausbau von Eisenbahninfrastru…</td><td>&quot;Im Vermittlungsverfahren&quot;</td><td>&quot;Gesetzgebung&quot;</td><td>&quot;J015&quot;</td><td>null</td><td>[&quot;Verkehr&quot;, &quot;Öffentliche Finanzen, Steuern und Abgaben&quot;]</td><td>&quot;Vorgang&quot;</td><td>20</td><td>[&quot;Ja, laut Gesetzentwurf (Drs 379/23 (bes.eilbed.))&quot;]</td><td>[&quot;Bundesregierung&quot;]</td><td>[{false,&quot;Bahnstrecke&quot;,&quot;Sachbegriffe&quot;}, {false,&quot;Bahntechnik&quot;,&quot;Sachbegriffe&quot;}, … {false,&quot;Wettbewerb&quot;,&quot;Sachbegriffe&quot;}]</td><td>&quot;2024-03-27T09:36:30+01:00&quot;</td><td>&quot;Viertes Gesetz zur Änderung des Bundesschienenwegeausbaugesetzes&quot;</td><td>&quot;2024-03-26&quot;</td><td>null</td></tr><tr><td>&quot;300144&quot;</td><td>null</td><td>&quot;Bundesrat hat Zustimmung versagt&quot;</td><td>&quot;Gesetzgebung&quot;</td><td>&quot;B039&quot;</td><td>null</td><td>[&quot;Medien, Kommunikation und Informationstechnik&quot;, &quot;Staat und Verwaltung&quot;]</td><td>&quot;Vorgang&quot;</td><td>20</td><td>[&quot;Ja, laut Gesetzentwurf (Drs 226/23)&quot;]</td><td>[&quot;Bundesregierung&quot;]</td><td>[{false,&quot;Abgabenordnung&quot;,&quot;Rechtsmaterialien&quot;}, {false,&quot;Barrierefreiheit&quot;,&quot;Sachbegriffe&quot;}, … {false,&quot;Öffentliche Verwaltung&quot;,&quot;Sachbegriffe&quot;}]</td><td>&quot;2024-03-27T09:30:43+01:00&quot;</td><td>&quot;Gesetz zur Änderung des Onlinezugangsgesetzes sowie weiterer Vorschriften zur Digitalisierung der V…</td><td>&quot;2024-03-26&quot;</td><td>null</td></tr><tr><td>&quot;308776&quot;</td><td>&quot;Zustimmung zu dem am 21. Juli 2023 in Lauterbourg unterzeichneten Abkommen: Standardisierung grenzü…</td><td>&quot;Dem Bundestag zugeleitet - Noch nicht beraten&quot;</td><td>&quot;Gesetzgebung&quot;</td><td>&quot;XK002&quot;</td><td>null</td><td>[&quot;Arbeit und Beschäftigung&quot;, &quot;Bildung und Erziehung&quot;]</td><td>&quot;Vorgang&quot;</td><td>20</td><td>[&quot;Ja, laut Gesetzentwurf (Drs 76/24)&quot;]</td><td>[&quot;Bundesregierung&quot;]</td><td>[{false,&quot;Ausbildungsvertrag&quot;,&quot;Sachbegriffe&quot;}, {false,&quot;Auswärtige Kultur- und Bildungspolitik&quot;,&quot;Sachbegriffe&quot;}, … {false,&quot;Teilzeitarbeit&quot;,&quot;Sachbegriffe&quot;}]</td><td>&quot;2024-03-26T13:54:05+01:00&quot;</td><td>&quot;Gesetz zu dem Abkommen vom 21. Juli 2023 zwischen der Regierung der Bundesrepublik Deutschland und …</td><td>&quot;2024-03-22&quot;</td><td>null</td></tr><tr><td>&quot;308709&quot;</td><td>&quot;Zusammenfassung und anwendungsbezogene Konkretisierung der sich aus der Anwendung des BEPS-MLI erge…</td><td>&quot;Dem Bundestag zugeleitet - Noch nicht beraten&quot;</td><td>&quot;Gesetzgebung&quot;</td><td>&quot;D057&quot;</td><td>null</td><td>[&quot;Öffentliche Finanzen, Steuern und Abgaben&quot;]</td><td>&quot;Vorgang&quot;</td><td>20</td><td>[&quot;Ja, laut Gesetzentwurf (Drs 75/24)&quot;]</td><td>[&quot;Bundesregierung&quot;]</td><td>[{true,&quot;BEPS-MLI-Anwendungsgesetz&quot;,&quot;Rechtsmaterialien&quot;}, {false,&quot;Bundeszentralamt für Steuern&quot;,&quot;Institutionen&quot;}, … {false,&quot;Unternehmensbesteuerung&quot;,&quot;Sachbegriffe&quot;}]</td><td>&quot;2024-03-26T13:53:58+01:00&quot;</td><td>&quot;Gesetz zur Anwendung des Mehrseitigen Übereinkommens vom 24. November 2016 und zu weiteren Maßnahme…</td><td>&quot;2024-03-22&quot;</td><td>null</td></tr></tbody></table></div>"
      ],
      "text/plain": [
       "shape: (5, 16)\n",
       "┌────────┬────────────┬────────────┬───────────┬───┬───────────┬───────────┬───────────┬───────────┐\n",
       "│ id     ┆ abstract   ┆ beratungss ┆ vorgangst ┆ … ┆ aktualisi ┆ titel     ┆ datum     ┆ verkuendu │\n",
       "│ ---    ┆ ---        ┆ tand       ┆ yp        ┆   ┆ ert       ┆ ---       ┆ ---       ┆ ng        │\n",
       "│ str    ┆ str        ┆ ---        ┆ ---       ┆   ┆ ---       ┆ str       ┆ str       ┆ ---       │\n",
       "│        ┆            ┆ str        ┆ str       ┆   ┆ str       ┆           ┆           ┆ list[stru │\n",
       "│        ┆            ┆            ┆           ┆   ┆           ┆           ┆           ┆ ct[1]]    │\n",
       "╞════════╪════════════╪════════════╪═══════════╪═══╪═══════════╪═══════════╪═══════════╪═══════════╡\n",
       "│ 308708 ┆ Maßnahmen  ┆ Dem        ┆ Gesetzgeb ┆ … ┆ 2024-03-2 ┆ Berufsbil ┆ 2024-03-2 ┆ null      │\n",
       "│        ┆ zur        ┆ Bundestag  ┆ ung       ┆   ┆ 7T17:08:0 ┆ dungsvali ┆ 7         ┆           │\n",
       "│        ┆ Steigerung ┆ zugeleitet ┆           ┆   ┆ 3+01:00   ┆ dierungs- ┆           ┆           │\n",
       "│        ┆ der Attrak ┆ - Noch     ┆           ┆   ┆           ┆ und -digi ┆           ┆           │\n",
       "│        ┆ tivität    ┆ nicht      ┆           ┆   ┆           ┆ talisieru ┆           ┆           │\n",
       "│        ┆ der berufl ┆ beraten    ┆           ┆   ┆           ┆ ngsgesetz ┆           ┆           │\n",
       "│        ┆ ichen      ┆            ┆           ┆   ┆           ┆ (BVaDiG)  ┆           ┆           │\n",
       "│        ┆ Bildung:   ┆            ┆           ┆   ┆           ┆           ┆           ┆           │\n",
       "│        ┆ Einführung ┆            ┆           ┆   ┆           ┆           ┆           ┆           │\n",
       "│        ┆ eines Vali ┆            ┆           ┆   ┆           ┆           ┆           ┆           │\n",
       "│        ┆ dierungsve ┆            ┆           ┆   ┆           ┆           ┆           ┆           │\n",
       "│        ┆ r…         ┆            ┆           ┆   ┆           ┆           ┆           ┆           │\n",
       "│ 302813 ┆ Ermöglichu ┆ Im Vermitt ┆ Gesetzgeb ┆ … ┆ 2024-03-2 ┆ Viertes   ┆ 2024-03-2 ┆ null      │\n",
       "│        ┆ ng         ┆ lungsverfa ┆ ung       ┆   ┆ 7T09:36:3 ┆ Gesetz    ┆ 6         ┆           │\n",
       "│        ┆ massiver   ┆ hren       ┆           ┆   ┆ 0+01:00   ┆ zur       ┆           ┆           │\n",
       "│        ┆ und        ┆            ┆           ┆   ┆           ┆ Änderung  ┆           ┆           │\n",
       "│        ┆ zügiger    ┆            ┆           ┆   ┆           ┆ des Bunde ┆           ┆           │\n",
       "│        ┆ Investitio ┆            ┆           ┆   ┆           ┆ sschienen ┆           ┆           │\n",
       "│        ┆ nen in Mod ┆            ┆           ┆   ┆           ┆ wegeausba ┆           ┆           │\n",
       "│        ┆ ernisierun ┆            ┆           ┆   ┆           ┆ ugesetzes ┆           ┆           │\n",
       "│        ┆ g und      ┆            ┆           ┆   ┆           ┆           ┆           ┆           │\n",
       "│        ┆ Ausbau von ┆            ┆           ┆   ┆           ┆           ┆           ┆           │\n",
       "│        ┆ Eisenbahni ┆            ┆           ┆   ┆           ┆           ┆           ┆           │\n",
       "│        ┆ nfrastruk… ┆            ┆           ┆   ┆           ┆           ┆           ┆           │\n",
       "│ 300144 ┆ null       ┆ Bundesrat  ┆ Gesetzgeb ┆ … ┆ 2024-03-2 ┆ Gesetz    ┆ 2024-03-2 ┆ null      │\n",
       "│        ┆            ┆ hat        ┆ ung       ┆   ┆ 7T09:30:4 ┆ zur       ┆ 6         ┆           │\n",
       "│        ┆            ┆ Zustimmung ┆           ┆   ┆ 3+01:00   ┆ Änderung  ┆           ┆           │\n",
       "│        ┆            ┆ versagt    ┆           ┆   ┆           ┆ des Onlin ┆           ┆           │\n",
       "│        ┆            ┆            ┆           ┆   ┆           ┆ ezugangsg ┆           ┆           │\n",
       "│        ┆            ┆            ┆           ┆   ┆           ┆ esetzes   ┆           ┆           │\n",
       "│        ┆            ┆            ┆           ┆   ┆           ┆ sowie     ┆           ┆           │\n",
       "│        ┆            ┆            ┆           ┆   ┆           ┆ weiterer  ┆           ┆           │\n",
       "│        ┆            ┆            ┆           ┆   ┆           ┆ Vorschrif ┆           ┆           │\n",
       "│        ┆            ┆            ┆           ┆   ┆           ┆ ten zur   ┆           ┆           │\n",
       "│        ┆            ┆            ┆           ┆   ┆           ┆ Digitalis ┆           ┆           │\n",
       "│        ┆            ┆            ┆           ┆   ┆           ┆ ierung    ┆           ┆           │\n",
       "│        ┆            ┆            ┆           ┆   ┆           ┆ der Ve…   ┆           ┆           │\n",
       "│ 308776 ┆ Zustimmung ┆ Dem        ┆ Gesetzgeb ┆ … ┆ 2024-03-2 ┆ Gesetz zu ┆ 2024-03-2 ┆ null      │\n",
       "│        ┆ zu dem am  ┆ Bundestag  ┆ ung       ┆   ┆ 6T13:54:0 ┆ dem       ┆ 2         ┆           │\n",
       "│        ┆ 21. Juli   ┆ zugeleitet ┆           ┆   ┆ 5+01:00   ┆ Abkommen  ┆           ┆           │\n",
       "│        ┆ 2023 in    ┆ - Noch     ┆           ┆   ┆           ┆ vom 21.   ┆           ┆           │\n",
       "│        ┆ Lauterbour ┆ nicht      ┆           ┆   ┆           ┆ Juli 2023 ┆           ┆           │\n",
       "│        ┆ g unterzei ┆ beraten    ┆           ┆   ┆           ┆ zwischen  ┆           ┆           │\n",
       "│        ┆ chneten    ┆            ┆           ┆   ┆           ┆ der       ┆           ┆           │\n",
       "│        ┆ Abkommen:  ┆            ┆           ┆   ┆           ┆ Regierung ┆           ┆           │\n",
       "│        ┆ Standardis ┆            ┆           ┆   ┆           ┆ der Bunde ┆           ┆           │\n",
       "│        ┆ ierung     ┆            ┆           ┆   ┆           ┆ srepublik ┆           ┆           │\n",
       "│        ┆ grenzüb…   ┆            ┆           ┆   ┆           ┆ Deutschla ┆           ┆           │\n",
       "│        ┆            ┆            ┆           ┆   ┆           ┆ nd und d… ┆           ┆           │\n",
       "│ 308709 ┆ Zusammenfa ┆ Dem        ┆ Gesetzgeb ┆ … ┆ 2024-03-2 ┆ Gesetz    ┆ 2024-03-2 ┆ null      │\n",
       "│        ┆ ssung und  ┆ Bundestag  ┆ ung       ┆   ┆ 6T13:53:5 ┆ zur       ┆ 2         ┆           │\n",
       "│        ┆ anwendungs ┆ zugeleitet ┆           ┆   ┆ 8+01:00   ┆ Anwendung ┆           ┆           │\n",
       "│        ┆ bezogene   ┆ - Noch     ┆           ┆   ┆           ┆ des Mehrs ┆           ┆           │\n",
       "│        ┆ Konkretisi ┆ nicht      ┆           ┆   ┆           ┆ eitigen   ┆           ┆           │\n",
       "│        ┆ erung der  ┆ beraten    ┆           ┆   ┆           ┆ Übereinko ┆           ┆           │\n",
       "│        ┆ sich aus   ┆            ┆           ┆   ┆           ┆ mmens vom ┆           ┆           │\n",
       "│        ┆ der        ┆            ┆           ┆   ┆           ┆ 24.       ┆           ┆           │\n",
       "│        ┆ Anwendung  ┆            ┆           ┆   ┆           ┆ November  ┆           ┆           │\n",
       "│        ┆ des        ┆            ┆           ┆   ┆           ┆ 2016 und  ┆           ┆           │\n",
       "│        ┆ BEPS-MLI   ┆            ┆           ┆   ┆           ┆ zu        ┆           ┆           │\n",
       "│        ┆ ergeb…     ┆            ┆           ┆   ┆           ┆ weiteren  ┆           ┆           │\n",
       "│        ┆            ┆            ┆           ┆   ┆           ┆ Maßnahmen ┆           ┆           │\n",
       "└────────┴────────────┴────────────┴───────────┴───┴───────────┴───────────┴───────────┴───────────┘"
      ]
     },
     "execution_count": 4,
     "metadata": {},
     "output_type": "execute_result"
    }
   ],
   "source": [
    "df_gesetze.head()"
   ]
  },
  {
   "cell_type": "code",
   "execution_count": 5,
   "id": "46f61414-9939-4423-910f-41db94f781c8",
   "metadata": {},
   "outputs": [],
   "source": [
    "df_gesetze = df_gesetze.join(df_vorgang_duration.select(['vorgang_id', 'vorgang_start']), left_on='id', right_on='vorgang_id', how='left')"
   ]
  },
  {
   "cell_type": "code",
   "execution_count": 6,
   "id": "1b58a67e-21a4-42a0-af79-4509ce935344",
   "metadata": {},
   "outputs": [],
   "source": [
    "#df_vorgang_docs = df_vorgangspos.filter(pl.col('dokumentart') == 'Drucksache').group_by('vorgang_id').agg(pl.col('fundstelle').struct.field(\"dokumentnummer\").explode())\n",
    "#df_gesetze = df_gesetze.join(df_vorgang_docs.select(['vorgang_id', 'dokumentnummer']), left_on='id', right_on='vorgang_id', how='left')"
   ]
  },
  {
   "cell_type": "code",
   "execution_count": 7,
   "id": "89f4ca04-8678-4c2a-8be9-ef935ba42fe5",
   "metadata": {},
   "outputs": [],
   "source": [
    "today = date.today()\n",
    "df_gesetze = df_gesetze.with_columns(\n",
    "    pl.when(pl.col('beratungsstand') == 'Verkündet').then(\n",
    "        pl.col('verkuendung').list.eval(pl.col('').struct.field('verkuendungsdatum').str.to_date(format=\"%Y-%m-%d\")).list.min()\n",
    "    ).when(pl.col('beratungsstand') == 'Abgelehnt').then(\n",
    "        pl.col('datum').str.to_date(format=\"%Y-%m-%d\")\n",
    "    ).otherwise(today).alias('vorgang_end')\n",
    ")\n",
    "df_gesetze = df_gesetze.with_columns((pl.col('vorgang_end') - pl.col('vorgang_start')).dt.total_days().alias('vorgangsdauer'))"
   ]
  },
  {
   "cell_type": "code",
   "execution_count": 8,
   "id": "3c39d006-5656-4a1e-9cb8-f3d0fe5ab2b7",
   "metadata": {},
   "outputs": [],
   "source": [
    "reg_frag = ['Fraktion BÜNDNIS 90/DIE GRÜNEN', 'Fraktion der FDP', 'Fraktion der SPD']\n",
    "\n",
    "def fix_initiative(x):\n",
    "    return pl.when(x.list.set_intersection(reg_frag).len == len(reg_frag)).then(\n",
    "        x.list.set_difference(reg_frag)\n",
    "    ).otherwise(x)\n",
    "\n",
    "df_gesetze = df_gesetze.with_columns(pl.when(pl.col('initiative').list.set_intersection(reg_frag).list.len() == len(reg_frag)).then(\n",
    "        pl.col('initiative').list.set_difference(reg_frag).list.concat(pl.Series(['Bundesregierung']))\n",
    "    ).otherwise(pl.col('initiative')).alias('initiative'))"
   ]
  },
  {
   "cell_type": "code",
   "execution_count": 9,
   "id": "d497e172-3e80-46f3-a795-26dc0f720a69",
   "metadata": {},
   "outputs": [],
   "source": [
    "df_gesetze = df_gesetze.with_columns(pl.col('deskriptor').list.eval(pl.element().struct.field('name')).alias('keywords'))"
   ]
  },
  {
   "cell_type": "code",
   "execution_count": 10,
   "id": "2563ad5e-bd77-4fa3-bb9b-ceae20e8ae5e",
   "metadata": {},
   "outputs": [],
   "source": [
    "df_gesetze.select(pl.col(\"*\").exclude(\"abstract\", \"vorgangstyp\", \"gesta\", \"archiv\", \"typ\", \"deskriptor\")).write_json('gesetze.json', row_oriented=True)"
   ]
  },
  {
   "cell_type": "code",
   "execution_count": 11,
   "id": "eb76d5f4-c006-4278-8de0-73ce19e2048b",
   "metadata": {},
   "outputs": [
    {
     "data": {
      "text/html": [
       "<div><style>\n",
       ".dataframe > thead > tr,\n",
       ".dataframe > tbody > tr {\n",
       "  text-align: right;\n",
       "  white-space: pre-wrap;\n",
       "}\n",
       "</style>\n",
       "<small>shape: (8, 3)</small><table border=\"1\" class=\"dataframe\"><thead><tr><th>break_point</th><th>category</th><th>vorgangsdauer_count</th></tr><tr><td>f64</td><td>cat</td><td>u32</td></tr></thead><tbody><tr><td>7.0</td><td>&quot;(-inf, 7.0]&quot;</td><td>1</td></tr><tr><td>14.0</td><td>&quot;(7.0, 14.0]&quot;</td><td>3</td></tr><tr><td>30.0</td><td>&quot;(14.0, 30.0]&quot;</td><td>19</td></tr><tr><td>60.0</td><td>&quot;(30.0, 60.0]&quot;</td><td>22</td></tr><tr><td>120.0</td><td>&quot;(60.0, 120.0]&quot;</td><td>71</td></tr><tr><td>240.0</td><td>&quot;(120.0, 240.0]&quot;</td><td>109</td></tr><tr><td>365.0</td><td>&quot;(240.0, 365.0]&quot;</td><td>5</td></tr><tr><td>inf</td><td>&quot;(365.0, inf]&quot;</td><td>1</td></tr></tbody></table></div>"
      ],
      "text/plain": [
       "shape: (8, 3)\n",
       "┌─────────────┬────────────────┬─────────────────────┐\n",
       "│ break_point ┆ category       ┆ vorgangsdauer_count │\n",
       "│ ---         ┆ ---            ┆ ---                 │\n",
       "│ f64         ┆ cat            ┆ u32                 │\n",
       "╞═════════════╪════════════════╪═════════════════════╡\n",
       "│ 7.0         ┆ (-inf, 7.0]    ┆ 1                   │\n",
       "│ 14.0        ┆ (7.0, 14.0]    ┆ 3                   │\n",
       "│ 30.0        ┆ (14.0, 30.0]   ┆ 19                  │\n",
       "│ 60.0        ┆ (30.0, 60.0]   ┆ 22                  │\n",
       "│ 120.0       ┆ (60.0, 120.0]  ┆ 71                  │\n",
       "│ 240.0       ┆ (120.0, 240.0] ┆ 109                 │\n",
       "│ 365.0       ┆ (240.0, 365.0] ┆ 5                   │\n",
       "│ inf         ┆ (365.0, inf]   ┆ 1                   │\n",
       "└─────────────┴────────────────┴─────────────────────┘"
      ]
     },
     "execution_count": 11,
     "metadata": {},
     "output_type": "execute_result"
    }
   ],
   "source": [
    "df_gesetze_public = df_gesetze.filter(pl.col('beratungsstand') == 'Verkündet')\n",
    "bins = [7, 14, 30, 60, 120, 240, 365]\n",
    "duration_bin = np.digitize(df_gesetze_public.select('vorgangsdauer').to_series(), bins, right=True)\n",
    "df_gesetze_public.select('vorgangsdauer').to_series().hist(bins)"
   ]
  },
  {
   "cell_type": "code",
   "execution_count": 12,
   "id": "f64505de-ecb2-42fa-b269-8f304acebfe2",
   "metadata": {},
   "outputs": [
    {
     "data": {
      "text/html": [
       "<div><style>\n",
       ".dataframe > thead > tr,\n",
       ".dataframe > tbody > tr {\n",
       "  text-align: right;\n",
       "  white-space: pre-wrap;\n",
       "}\n",
       "</style>\n",
       "<small>shape: (1, 21)</small><table border=\"1\" class=\"dataframe\"><thead><tr><th>id</th><th>abstract</th><th>beratungsstand</th><th>vorgangstyp</th><th>gesta</th><th>archiv</th><th>sachgebiet</th><th>typ</th><th>wahlperiode</th><th>zustimmungsbeduerftigkeit</th><th>initiative</th><th>deskriptor</th><th>aktualisiert</th><th>titel</th><th>datum</th><th>verkuendung</th><th>vorgang_start</th><th>vorgang_end</th><th>vorgangsdauer</th><th>keywords</th><th>duration_bin</th></tr><tr><td>str</td><td>str</td><td>str</td><td>str</td><td>str</td><td>str</td><td>list[str]</td><td>str</td><td>u64</td><td>list[str]</td><td>list[str]</td><td>list[struct[3]]</td><td>str</td><td>str</td><td>str</td><td>list[struct[1]]</td><td>date</td><td>date</td><td>i64</td><td>list[str]</td><td>i64</td></tr></thead><tbody><tr><td>&quot;283063&quot;</td><td>&quot;Impfpflicht gegen COVID-19 bzw. Nachweis über Genesung oder Kontraindikation für Beschäftigte besti…</td><td>&quot;Verkündet&quot;</td><td>&quot;Gesetzgebung&quot;</td><td>&quot;M002&quot;</td><td>&quot;XX/2&quot;</td><td>[&quot;Gesundheit&quot;]</td><td>&quot;Vorgang&quot;</td><td>20</td><td>[&quot;Ja, laut Gesetzentwurf (Drs 20/188)&quot;, &quot;Ja, laut Verkündung (BGBl I)&quot;]</td><td>[&quot;Bundesregierung&quot;]</td><td>[{false,&quot;Apotheker&quot;,&quot;Sachbegriffe&quot;}, {false,&quot;Arbeitnehmer-Entsendegesetz&quot;,&quot;Rechtsmaterialien&quot;}, … {false,&quot;Zahnarzt&quot;,&quot;Sachbegriffe&quot;}]</td><td>&quot;2022-07-26T19:57:25+02:00&quot;</td><td>&quot;Gesetz zur Stärkung der Impfprävention gegen COVID-19 und zur Änderung weiterer Vorschriften im Zus…</td><td>&quot;2021-12-10&quot;</td><td>[{&quot;2021-12-11&quot;}]</td><td>2021-12-06</td><td>2021-12-11</td><td>5</td><td>[&quot;Apotheker&quot;, &quot;Arbeitnehmer-Entsendegesetz&quot;, … &quot;Zahnarzt&quot;]</td><td>0</td></tr></tbody></table></div>"
      ],
      "text/plain": [
       "shape: (1, 21)\n",
       "┌────────┬────────────┬────────────┬───────────┬───┬───────────┬───────────┬───────────┬───────────┐\n",
       "│ id     ┆ abstract   ┆ beratungss ┆ vorgangst ┆ … ┆ vorgang_e ┆ vorgangsd ┆ keywords  ┆ duration_ │\n",
       "│ ---    ┆ ---        ┆ tand       ┆ yp        ┆   ┆ nd        ┆ auer      ┆ ---       ┆ bin       │\n",
       "│ str    ┆ str        ┆ ---        ┆ ---       ┆   ┆ ---       ┆ ---       ┆ list[str] ┆ ---       │\n",
       "│        ┆            ┆ str        ┆ str       ┆   ┆ date      ┆ i64       ┆           ┆ i64       │\n",
       "╞════════╪════════════╪════════════╪═══════════╪═══╪═══════════╪═══════════╪═══════════╪═══════════╡\n",
       "│ 283063 ┆ Impfpflich ┆ Verkündet  ┆ Gesetzgeb ┆ … ┆ 2021-12-1 ┆ 5         ┆ [\"Apothek ┆ 0         │\n",
       "│        ┆ t gegen    ┆            ┆ ung       ┆   ┆ 1         ┆           ┆ er\", \"Arb ┆           │\n",
       "│        ┆ COVID-19   ┆            ┆           ┆   ┆           ┆           ┆ eitnehmer ┆           │\n",
       "│        ┆ bzw.       ┆            ┆           ┆   ┆           ┆           ┆ -Entsende ┆           │\n",
       "│        ┆ Nachweis   ┆            ┆           ┆   ┆           ┆           ┆ gesetz\",  ┆           │\n",
       "│        ┆ über       ┆            ┆           ┆   ┆           ┆           ┆ … \"Zahnar ┆           │\n",
       "│        ┆ Genesung   ┆            ┆           ┆   ┆           ┆           ┆ zt\"]      ┆           │\n",
       "│        ┆ oder Kontr ┆            ┆           ┆   ┆           ┆           ┆           ┆           │\n",
       "│        ┆ aindikatio ┆            ┆           ┆   ┆           ┆           ┆           ┆           │\n",
       "│        ┆ n für Besc ┆            ┆           ┆   ┆           ┆           ┆           ┆           │\n",
       "│        ┆ häftigte   ┆            ┆           ┆   ┆           ┆           ┆           ┆           │\n",
       "│        ┆ bestim…    ┆            ┆           ┆   ┆           ┆           ┆           ┆           │\n",
       "└────────┴────────────┴────────────┴───────────┴───┴───────────┴───────────┴───────────┴───────────┘"
      ]
     },
     "execution_count": 12,
     "metadata": {},
     "output_type": "execute_result"
    }
   ],
   "source": [
    "df_gesetze_public_bins = df_gesetze_public.with_columns(pl.from_numpy(duration_bin, schema=['duration_bin']))\n",
    "df_gesetze_public_bins.filter(pl.col('duration_bin') == pl.col('duration_bin').min())"
   ]
  },
  {
   "cell_type": "code",
   "execution_count": 13,
   "id": "aed89740-24dc-4fc5-9508-4d65baee2f2a",
   "metadata": {},
   "outputs": [
    {
     "data": {
      "text/html": [
       "<div><style>\n",
       ".dataframe > thead > tr,\n",
       ".dataframe > tbody > tr {\n",
       "  text-align: right;\n",
       "  white-space: pre-wrap;\n",
       "}\n",
       "</style>\n",
       "<small>shape: (1, 21)</small><table border=\"1\" class=\"dataframe\"><thead><tr><th>id</th><th>abstract</th><th>beratungsstand</th><th>vorgangstyp</th><th>gesta</th><th>archiv</th><th>sachgebiet</th><th>typ</th><th>wahlperiode</th><th>zustimmungsbeduerftigkeit</th><th>initiative</th><th>deskriptor</th><th>aktualisiert</th><th>titel</th><th>datum</th><th>verkuendung</th><th>vorgang_start</th><th>vorgang_end</th><th>vorgangsdauer</th><th>keywords</th><th>duration_bin</th></tr><tr><td>str</td><td>str</td><td>str</td><td>str</td><td>str</td><td>str</td><td>list[str]</td><td>str</td><td>u64</td><td>list[str]</td><td>list[str]</td><td>list[struct[3]]</td><td>str</td><td>str</td><td>str</td><td>list[struct[1]]</td><td>date</td><td>date</td><td>i64</td><td>list[str]</td><td>i64</td></tr></thead><tbody><tr><td>&quot;297317&quot;</td><td>null</td><td>&quot;Verkündet&quot;</td><td>&quot;Gesetzgebung&quot;</td><td>&quot;XB002&quot;</td><td>&quot;XX/225&quot;</td><td>[&quot;Europapolitik und Europäische Union&quot;]</td><td>&quot;Vorgang&quot;</td><td>20</td><td>[&quot;Ja, laut Gesetzentwurf (Drs 104/23)&quot;, &quot;Ja, laut Verkündung (BGBl II)&quot;]</td><td>[&quot;Bundesregierung&quot;]</td><td>[{false,&quot;Europawahl&quot;,&quot;Sachbegriffe&quot;}, {false,&quot;Europäisches Parlament&quot;,&quot;Institutionen&quot;}, {false,&quot;Sperrklausel&quot;,&quot;Sachbegriffe&quot;}]</td><td>&quot;2024-03-13T16:36:41+01:00&quot;</td><td>&quot;Gesetz zu dem Beschluss (EU, Euratom) 2018/994 des Rates der Europäischen Union vom 13. Juli 2018 z…</td><td>&quot;2023-07-07&quot;</td><td>[{&quot;2024-03-13&quot;}]</td><td>2023-03-10</td><td>2024-03-13</td><td>369</td><td>[&quot;Europawahl&quot;, &quot;Europäisches Parlament&quot;, &quot;Sperrklausel&quot;]</td><td>7</td></tr></tbody></table></div>"
      ],
      "text/plain": [
       "shape: (1, 21)\n",
       "┌────────┬──────────┬────────────┬────────────┬───┬────────────┬───────────┬───────────┬───────────┐\n",
       "│ id     ┆ abstract ┆ beratungss ┆ vorgangsty ┆ … ┆ vorgang_en ┆ vorgangsd ┆ keywords  ┆ duration_ │\n",
       "│ ---    ┆ ---      ┆ tand       ┆ p          ┆   ┆ d          ┆ auer      ┆ ---       ┆ bin       │\n",
       "│ str    ┆ str      ┆ ---        ┆ ---        ┆   ┆ ---        ┆ ---       ┆ list[str] ┆ ---       │\n",
       "│        ┆          ┆ str        ┆ str        ┆   ┆ date       ┆ i64       ┆           ┆ i64       │\n",
       "╞════════╪══════════╪════════════╪════════════╪═══╪════════════╪═══════════╪═══════════╪═══════════╡\n",
       "│ 297317 ┆ null     ┆ Verkündet  ┆ Gesetzgebu ┆ … ┆ 2024-03-13 ┆ 369       ┆ [\"Europaw ┆ 7         │\n",
       "│        ┆          ┆            ┆ ng         ┆   ┆            ┆           ┆ ahl\", \"Eu ┆           │\n",
       "│        ┆          ┆            ┆            ┆   ┆            ┆           ┆ ropäische ┆           │\n",
       "│        ┆          ┆            ┆            ┆   ┆            ┆           ┆ s Parlame ┆           │\n",
       "│        ┆          ┆            ┆            ┆   ┆            ┆           ┆ nt\", \"Spe ┆           │\n",
       "│        ┆          ┆            ┆            ┆   ┆            ┆           ┆ rrklausel ┆           │\n",
       "│        ┆          ┆            ┆            ┆   ┆            ┆           ┆ \"]        ┆           │\n",
       "└────────┴──────────┴────────────┴────────────┴───┴────────────┴───────────┴───────────┴───────────┘"
      ]
     },
     "execution_count": 13,
     "metadata": {},
     "output_type": "execute_result"
    }
   ],
   "source": [
    "df_gesetze_public_bins.filter(pl.col('duration_bin') == pl.col('duration_bin').max())"
   ]
  },
  {
   "cell_type": "code",
   "execution_count": 14,
   "id": "6d953f03-1ad3-483b-988e-9e72e188452b",
   "metadata": {},
   "outputs": [],
   "source": [
    "def map_gesetze(tokens):\n",
    "    overlap = df_gesetze.with_columns(pl.col('titel.stem').map_elements(lambda x: td.lcsstr.normalized_similarity(tokens, x)).alias('similarity')).select(['titel', 'titel.stem', 'id', 'similarity'])\n",
    "    overlap_ = overlap.sort('similarity', descending=True)\n",
    "    overlap = overlap_.filter(pl.col('similarity') > 0.4)\n",
    "    if overlap.shape[0] == 0:\n",
    "        print(overlap_.head())\n",
    "        raise RuntimeError('Count not find any Gesetze with similarity > 0.4')\n",
    "    if overlap.shape[0] > 1:\n",
    "        if overlap.row(1, named=True)['similarity'] * 2 > overlap.row(0, named=True)['similarity']:\n",
    "            print(f'Error: could not map gesetz: {tokens}')\n",
    "            print(overlap.head())\n",
    "            raise RuntimeError\n",
    "    #print(overlap.head())\n",
    "    return overlap.row(0, named=True)\n",
    "\n",
    "bad_words = [\n",
    "    'beratung',\n",
    "    'erst',\n",
    "    'zweit',\n",
    "    'dritt',\n",
    "    'gebrach',\n",
    "    'entwurf',\n",
    "    'eine'\n",
    "]\n",
    "stopwords_german = stopwords.words('german')\n",
    "def rm_stop_words(txt):\n",
    "    words = txt.split()\n",
    "    words = list(filter(lambda x: x not in stopwords_german, words))\n",
    "    return ' '.join(words)\n",
    "    \n",
    "def pre_process(txt):\n",
    "    txt = ' '.join(txt.split())\n",
    "    txt = re.sub(r'[a-z]\\)', '', txt)\n",
    "    txt = re.sub(r'des von der .*(fraktio|bundesregierung)', '', txt)\n",
    "    txt = re.sub(r'^–', '', txt)\n",
    "    for word in bad_words:\n",
    "        txt = txt.replace(word, '', 1)\n",
    "    return rm_stop_words(txt)\n",
    "\n",
    "stemmer = Cistem()\n",
    "def stem(txt):\n",
    "    words = []\n",
    "    for word in txt.split():\n",
    "        words.append(stemmer.segment(word)[0])\n",
    "    return ' '.join(words)\n",
    "\n",
    "def map_top_gesetze(soup):\n",
    "    tagesordnung = {}\n",
    "    for conf in soup.find_all('div', {'class': 'bt-conference-title'}):\n",
    "        sitzung = conf.text.strip()\n",
    "        print(sitzung)\n",
    "        top_l = []\n",
    "        for thema in conf.parent.parent.find_all('td', {'data-th': 'Thema'}):\n",
    "            if thema.p:\n",
    "                for top in str(thema.p).split('<br/><br/>'):\n",
    "                    top = BeautifulSoup(top, 'lxml')\n",
    "                    vorgang_id = None\n",
    "                    for a in top.find_all('a'):\n",
    "                        drucksache = df_vorgangspos.filter((pl.col('dokumentart') == 'Drucksache') & (pl.col('fundstelle').struct.field(\"drucksachetyp\") == 'Gesetzentwurf') & (pl.col('fundstelle').struct.field(\"pdf_url\") == a['href']))\n",
    "                        if drucksache.shape[0] == 0:\n",
    "                            continue\n",
    "                        if drucksache.shape[0] == 1:\n",
    "                            vorgang_id_new = drucksache.row(0, named=True)['vorgang_id']\n",
    "                            if vorgang_id and vorgang_id != vorgang_id_new:\n",
    "                                raise RuntimeError('vorgang id missmatch')\n",
    "                            vorgang_id = vorgang_id_new\n",
    "                        if drucksache.shape[0] > 1:\n",
    "                            print(drucksache)\n",
    "                            raise RuntimeError('Found multiple vorgang ids for document')\n",
    "                    if vorgang_id:\n",
    "                        gesetz = df_gesetze.filter(pl.col('id') == vorgang_id).row(0, named=True)\n",
    "                        print('* ' + gesetz['titel'])\n",
    "                        top_l.append(gesetz)\n",
    "                    else:\n",
    "                        txt_ = top.get_text(' ')\n",
    "                        for txt in txt_.split('Drucksache'):\n",
    "                            if 'gesetz' in txt.lower() and 'entwurf' in txt.lower():\n",
    "                                txt = stem(txt)\n",
    "                                txt = pre_process(txt)\n",
    "                                gesetz = map_gesetze(txt)\n",
    "                                print('* ' + gesetz['titel'])\n",
    "                                top_l.append(gesetz)\n",
    "        print()\n",
    "        tagesordnung[sitzung] = top_l\n",
    "    return tagesordnung\n",
    "\n",
    "def get_tagesordnung_gesetze(kw):\n",
    "    res = requests.get('https://www.bundestag.de/apps/plenar/plenar/conferenceweekDetail.form', {'year': 2024, 'week': kw, 'limit': 10})\n",
    "    time.sleep(0.3)\n",
    "    soup = BeautifulSoup(res.text, 'lxml')\n",
    "    return map_top_gesetze(soup)"
   ]
  },
  {
   "cell_type": "code",
   "execution_count": 15,
   "id": "08fee33d-a1d7-408a-bfeb-805a22e126bb",
   "metadata": {},
   "outputs": [],
   "source": [
    "df_gesetze = df_gesetze.with_columns(pl.col('titel').map_elements(stem).map_elements(rm_stop_words).alias('titel.stem'))"
   ]
  },
  {
   "cell_type": "code",
   "execution_count": 16,
   "id": "47f3e4d1-9700-4abc-84f2-06293eb565cd",
   "metadata": {},
   "outputs": [],
   "source": [
    "#df_vorgangspos.filter((pl.col('dokumentart') == 'Drucksache')).select(pl.col('fundstelle').struct.field(\"pdf_url\"))\n",
    "#df_vorgangspos.filter(pl.col('fundstelle').struct.field(\"pdf_url\").eq('https://dserver.bundestag.de/btd/20/106/2010664.pdf'))"
   ]
  },
  {
   "cell_type": "code",
   "execution_count": 17,
   "id": "9d99ca02-9aa7-4dc8-a983-df30439ba5bf",
   "metadata": {},
   "outputs": [
    {
     "name": "stdout",
     "output_type": "stream",
     "text": [
      "20. März 2024 (159. Sitzung)\n",
      "\n",
      "21. März 2024 (160. Sitzung)\n",
      "* Gesetz zur Durchführung der Verordnung (EU) 2022/2065 des Europäischen Parlaments und des Rates vom 19. Oktober 2022 über einen Binnenmarkt für digitale Dienste und zur Änderung der Richtlinie 2000/31/EG sowie zur Durchführung der Verordnung (EU) 2019/1150 des Europäischen Parlaments und des Rates vom 20. Juni 2019 zur Förderung von Fairness und Transparenz für gewerbliche Nutzer von Online-Vermittlungsdiensten und zur Änderung weiterer Gesetze\n",
      "* Gesetz zur rechtssicheren Einführung einer Bezahlkarte im Asylbewerberleistungsgesetz (Bezahlkartengesetz - BezahlkG)\n",
      "* Zweites Gesetz zur Änderung des Umweltstatistikgesetzes, zur Anpassung bestimmter Vorschriften über den Schutz geografischer Herkunftsangaben im Landwirtschaftsbereich und zur Änderung des Bundesnaturschutzgesetzes\n",
      "* Drittes Gesetz zur Änderung des Bundesschuldenwesengesetzes\n",
      "* Gesetz zu dem Übereinkommen vom 12. März 2019 zur Gründung des \"Square Kilometre Array\"-Observatoriums\n",
      "\n",
      "22. März 2024 (161. Sitzung)\n",
      "* Zweites Gesetz zur Änderung des Betriebsverfassungsgesetzes\n",
      "\n",
      "10. April 2024 (162. Sitzung)\n",
      "* Zweites Gesetz zur Änderung des Schwangerschaftskonfliktgesetzes\n",
      "* Gesetz zur Reform der missbräuchlichen Anerkennung von Vaterschaften\n",
      "\n",
      "11. April 2024 (163. Sitzung)\n",
      "* Gesetz zur Anwendung des Mehrseitigen Übereinkommens vom 24. November 2016 und zu weiteren Maßnahmen\n",
      "* Zweites Gesetz zur Reform des Kapitalanleger-Musterverfahrensgesetzes\n",
      "* Gesetz zur Bekämpfung des Wohnungseinbruchdiebstahls\n",
      "* Erstes Gesetz zur Änderung des GAP-Konditionalitäten-Gesetzes\n",
      "* Gesetz zur Verbesserung des Klimaschutzes beim Immissionsschutz, zur Beschleunigung immissionsschutzrechtlicher Genehmigungsverfahren und zur Umsetzung von EU-Recht\n",
      "\n",
      "12. April 2024 (164. Sitzung)\n",
      "\n"
     ]
    }
   ],
   "source": [
    "res = requests.get('https://www.bundestag.de/tagesordnung')\n",
    "soup = BeautifulSoup(res.text, 'lxml')\n",
    "div = soup.find('div', {'class': 'bt-module-row bt-module-row-sitzungsablauf'})\n",
    "url = urllib.parse.urlparse(div['data-dataloader-url'])\n",
    "week = int(urllib.parse.parse_qs(url.query)['week'][0])\n",
    "\n",
    "top = {}\n",
    "for prev in range(1, 10):\n",
    "    tagesordnung = get_tagesordnung_gesetze(week - prev)\n",
    "    if tagesordnung:\n",
    "        top.update(tagesordnung)\n",
    "        break\n",
    "top.update(get_tagesordnung_gesetze(week))\n",
    "for prev in range(1, 10):\n",
    "    tagesordnung = get_tagesordnung_gesetze(week + prev)\n",
    "    if tagesordnung:\n",
    "        top.update(tagesordnung)\n",
    "        break"
   ]
  },
  {
   "cell_type": "code",
   "execution_count": 18,
   "id": "60617dda-dea8-431a-bd18-a5cb6c985df5",
   "metadata": {},
   "outputs": [],
   "source": [
    "json.dump({day: [gesetz['id'] for gesetz in value] for day, value in top.items()}, open('tagesordnung.json', 'wt'))"
   ]
  },
  {
   "cell_type": "code",
   "execution_count": 19,
   "id": "1510372d-0e77-4675-a50b-3f9f8b7f755f",
   "metadata": {},
   "outputs": [
    {
     "data": {
      "text/plain": [
       "'gesetz rechtssich einführung'"
      ]
     },
     "execution_count": 19,
     "metadata": {},
     "output_type": "execute_result"
    }
   ],
   "source": [
    "pre_process(stem('Erste Beratung des von der CDU/CSU-Fraktion eingebrachten Gesetzentwurfs zur rechtssicheren Einführung '))"
   ]
  },
  {
   "cell_type": "code",
   "execution_count": 20,
   "id": "77137b23-6398-4652-aec1-695302139583",
   "metadata": {},
   "outputs": [
    {
     "data": {
      "text/plain": [
       "'gesetz durchführung'"
      ]
     },
     "execution_count": 20,
     "metadata": {},
     "output_type": "execute_result"
    }
   ],
   "source": [
    "pre_process(stem(' – Zweite und dritte Beratung des von der Bundesregierung eingebrachten Entwurfs eines Gesetzes zur Durchführung'))"
   ]
  },
  {
   "cell_type": "code",
   "execution_count": 21,
   "id": "a4b8d356-0f72-407c-b571-f378428eac75",
   "metadata": {},
   "outputs": [
    {
     "data": {
      "text/plain": [
       "'zweit gesetz änderung umweltstatistikgesetz'"
      ]
     },
     "execution_count": 21,
     "metadata": {},
     "output_type": "execute_result"
    }
   ],
   "source": [
    "pre_process(stem('a) Zweite und dritte Beratung des von der Bundesregierung eingebrachten Entwurfs eines Zweiten Gesetzes zur Änderung des Umweltstatistikgesetzes  '))"
   ]
  }
 ],
 "metadata": {
  "kernelspec": {
   "display_name": "Python 3 (ipykernel)",
   "language": "python",
   "name": "python3"
  },
  "language_info": {
   "codemirror_mode": {
    "name": "ipython",
    "version": 3
   },
   "file_extension": ".py",
   "mimetype": "text/x-python",
   "name": "python",
   "nbconvert_exporter": "python",
   "pygments_lexer": "ipython3",
   "version": "3.11.6"
  }
 },
 "nbformat": 4,
 "nbformat_minor": 5
}
