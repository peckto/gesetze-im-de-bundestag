{
 "cells": [
  {
   "cell_type": "code",
   "execution_count": 1,
   "id": "97ad2d24-a37c-4fc7-a95e-6876c49b062c",
   "metadata": {},
   "outputs": [],
   "source": [
    "import json\n",
    "import polars as pl\n",
    "import numpy as np"
   ]
  },
  {
   "cell_type": "code",
   "execution_count": 2,
   "id": "0c6ce133-86f6-4a87-ae73-862b46ed4554",
   "metadata": {},
   "outputs": [
    {
     "data": {
      "text/html": [
       "<div><style>\n",
       ".dataframe > thead > tr > th,\n",
       ".dataframe > tbody > tr > td {\n",
       "  text-align: right;\n",
       "  white-space: pre-wrap;\n",
       "}\n",
       "</style>\n",
       "<small>shape: (15,)</small><table border=\"1\" class=\"dataframe\"><thead><tr><th>beratungsstand</th></tr><tr><td>str</td></tr></thead><tbody><tr><td>&quot;Zusammengeführt mit... (siehe Vorgangsablauf)&quot;</td></tr><tr><td>&quot;Noch nicht beraten&quot;</td></tr><tr><td>&quot;Verabschiedet&quot;</td></tr><tr><td>&quot;Den Ausschüssen zugewiesen&quot;</td></tr><tr><td>&quot;Für erledigt erklärt&quot;</td></tr><tr><td>&quot;Zurückgezogen&quot;</td></tr><tr><td>&quot;Angenommen&quot;</td></tr><tr><td>&quot;Dem Bundestag zugeleitet - Noch nicht beraten&quot;</td></tr><tr><td>&quot;Einbringung abgelehnt&quot;</td></tr><tr><td>&quot;Verkündet&quot;</td></tr><tr><td>&quot;Abgelehnt&quot;</td></tr><tr><td>&quot;Bundesrat hat zugestimmt&quot;</td></tr><tr><td>&quot;Beschlussempfehlung liegt vor&quot;</td></tr><tr><td>&quot;Überwiesen&quot;</td></tr><tr><td>&quot;Dem Bundesrat zugeleitet - Noch nicht beraten&quot;</td></tr></tbody></table></div>"
      ],
      "text/plain": [
       "shape: (15,)\n",
       "Series: 'beratungsstand' [str]\n",
       "[\n",
       "\t\"Zusammengeführt mit... (siehe Vorgangsablauf)\"\n",
       "\t\"Noch nicht beraten\"\n",
       "\t\"Verabschiedet\"\n",
       "\t\"Den Ausschüssen zugewiesen\"\n",
       "\t\"Für erledigt erklärt\"\n",
       "\t\"Zurückgezogen\"\n",
       "\t\"Angenommen\"\n",
       "\t\"Dem Bundestag zugeleitet - Noch nicht beraten\"\n",
       "\t\"Einbringung abgelehnt\"\n",
       "\t\"Verkündet\"\n",
       "\t\"Abgelehnt\"\n",
       "\t\"Bundesrat hat zugestimmt\"\n",
       "\t\"Beschlussempfehlung liegt vor\"\n",
       "\t\"Überwiesen\"\n",
       "\t\"Dem Bundesrat zugeleitet - Noch nicht beraten\"\n",
       "]"
      ]
     },
     "execution_count": 2,
     "metadata": {},
     "output_type": "execute_result"
    }
   ],
   "source": [
    "df_vorgang = pl.read_json('vorgang.json')\n",
    "df_gesetze = df_vorgang.filter(pl.col('vorgangstyp') == 'Gesetzgebung')\n",
    "pl.Config(fmt_str_lengths=100)\n",
    "df_gesetze['beratungsstand'].unique()"
   ]
  },
  {
   "cell_type": "code",
   "execution_count": 3,
   "id": "df422da7-434d-407b-99d5-d846824b3ec8",
   "metadata": {},
   "outputs": [],
   "source": [
    "df_vorgangspos = pl.read_json('vorgangsposition.json')\n",
    "df_vorgangspos = df_vorgangspos.with_columns(\n",
    "   pl.col(\"datum\").str.to_date(format=\"%Y-%m-%d\")\n",
    ")\n",
    "df_vorgangspos = df_vorgangspos.filter((pl.col('vorgangstyp') == 'Gesetzgebung') & (pl.col('typ') == 'Vorgangsposition'))\n",
    "df_vorgang_duration = df_vorgangspos.group_by(['vorgang_id']).agg([pl.col('datum').min().alias('min'), pl.col('datum').max().alias('max')])\n",
    "df_vorgang_duration = df_vorgang_duration.with_columns((pl.col('max') - pl.col('min')).dt.days().alias('vorgangsdauer'))"
   ]
  },
  {
   "cell_type": "code",
   "execution_count": 4,
   "id": "46f61414-9939-4423-910f-41db94f781c8",
   "metadata": {},
   "outputs": [],
   "source": [
    "df_gesetze = df_gesetze.join(df_vorgang_duration.select(['vorgang_id', 'vorgangsdauer']), left_on='id', right_on='vorgang_id', how='left')"
   ]
  },
  {
   "cell_type": "code",
   "execution_count": 5,
   "id": "2563ad5e-bd77-4fa3-bb9b-ceae20e8ae5e",
   "metadata": {},
   "outputs": [],
   "source": [
    "df_gesetze.write_json('gesetze.json', row_oriented=True)"
   ]
  },
  {
   "cell_type": "code",
   "execution_count": 6,
   "id": "eb76d5f4-c006-4278-8de0-73ce19e2048b",
   "metadata": {},
   "outputs": [
    {
     "data": {
      "text/html": [
       "<div><style>\n",
       ".dataframe > thead > tr > th,\n",
       ".dataframe > tbody > tr > td {\n",
       "  text-align: right;\n",
       "  white-space: pre-wrap;\n",
       "}\n",
       "</style>\n",
       "<small>shape: (8, 3)</small><table border=\"1\" class=\"dataframe\"><thead><tr><th>break_point</th><th>category</th><th>vorgangsdauer_count</th></tr><tr><td>f64</td><td>cat</td><td>u32</td></tr></thead><tbody><tr><td>7.0</td><td>&quot;(-inf, 7.0]&quot;</td><td>2</td></tr><tr><td>14.0</td><td>&quot;(7.0, 14.0]&quot;</td><td>8</td></tr><tr><td>30.0</td><td>&quot;(14.0, 30.0]&quot;</td><td>15</td></tr><tr><td>60.0</td><td>&quot;(30.0, 60.0]&quot;</td><td>17</td></tr><tr><td>120.0</td><td>&quot;(60.0, 120.0]&quot;</td><td>64</td></tr><tr><td>240.0</td><td>&quot;(120.0, 240.0]&quot;</td><td>48</td></tr><tr><td>365.0</td><td>&quot;(240.0, 365.0]&quot;</td><td>5</td></tr><tr><td>inf</td><td>&quot;(365.0, inf]&quot;</td><td>3</td></tr></tbody></table></div>"
      ],
      "text/plain": [
       "shape: (8, 3)\n",
       "┌─────────────┬────────────────┬─────────────────────┐\n",
       "│ break_point ┆ category       ┆ vorgangsdauer_count │\n",
       "│ ---         ┆ ---            ┆ ---                 │\n",
       "│ f64         ┆ cat            ┆ u32                 │\n",
       "╞═════════════╪════════════════╪═════════════════════╡\n",
       "│ 7.0         ┆ (-inf, 7.0]    ┆ 2                   │\n",
       "│ 14.0        ┆ (7.0, 14.0]    ┆ 8                   │\n",
       "│ 30.0        ┆ (14.0, 30.0]   ┆ 15                  │\n",
       "│ 60.0        ┆ (30.0, 60.0]   ┆ 17                  │\n",
       "│ 120.0       ┆ (60.0, 120.0]  ┆ 64                  │\n",
       "│ 240.0       ┆ (120.0, 240.0] ┆ 48                  │\n",
       "│ 365.0       ┆ (240.0, 365.0] ┆ 5                   │\n",
       "│ inf         ┆ (365.0, inf]   ┆ 3                   │\n",
       "└─────────────┴────────────────┴─────────────────────┘"
      ]
     },
     "execution_count": 6,
     "metadata": {},
     "output_type": "execute_result"
    }
   ],
   "source": [
    "df_gesetze_public = df_gesetze.filter(pl.col('beratungsstand') == 'Verkündet')\n",
    "bins = [7, 14, 30, 60, 120, 240, 365]\n",
    "duration_bin = np.digitize(df_gesetze_public.select('vorgangsdauer').to_series(), bins, right=True)\n",
    "df_gesetze_public.select('vorgangsdauer').to_series().hist(bins)"
   ]
  },
  {
   "cell_type": "code",
   "execution_count": 7,
   "id": "f64505de-ecb2-42fa-b269-8f304acebfe2",
   "metadata": {},
   "outputs": [
    {
     "data": {
      "text/html": [
       "<div><style>\n",
       ".dataframe > thead > tr > th,\n",
       ".dataframe > tbody > tr > td {\n",
       "  text-align: right;\n",
       "  white-space: pre-wrap;\n",
       "}\n",
       "</style>\n",
       "<small>shape: (2, 19)</small><table border=\"1\" class=\"dataframe\"><thead><tr><th>id</th><th>abstract</th><th>beratungsstand</th><th>vorgangstyp</th><th>gesta</th><th>sachgebiet</th><th>typ</th><th>wahlperiode</th><th>zustimmungsbeduerftigkeit</th><th>initiative</th><th>aktualisiert</th><th>deskriptor</th><th>titel</th><th>datum</th><th>vorgang_verlinkung</th><th>ratsdok</th><th>kom</th><th>vorgangsdauer</th><th>duration_bin</th></tr><tr><td>str</td><td>str</td><td>str</td><td>str</td><td>str</td><td>list[str]</td><td>str</td><td>i64</td><td>list[str]</td><td>list[str]</td><td>str</td><td>list[struct[3]]</td><td>str</td><td>str</td><td>list[struct[5]]</td><td>str</td><td>str</td><td>i64</td><td>i64</td></tr></thead><tbody><tr><td>&quot;289160&quot;</td><td>&quot;Zustimmung zu den am 5. Juli 2022 in Brüssel unterzeichneten Protokollen zum Nordatlantikvertrag üb…</td><td>&quot;Verkündet&quot;</td><td>&quot;Gesetzgebung&quot;</td><td>&quot;XC002&quot;</td><td>[&quot;Verteidigung&quot;]</td><td>&quot;Vorgang&quot;</td><td>20</td><td>[&quot;Nein, laut Gesetzentwurf (Drs 20/2534)&quot;, &quot;Nein, laut Verkündung (BGBl I)&quot;]</td><td>[&quot;Fraktion BÜNDNIS 90/DIE GRÜNEN&quot;, &quot;Fraktion der CDU/CSU&quot;, … &quot;Fraktion der SPD&quot;]</td><td>&quot;2023-04-27T11:12:50+02:00&quot;</td><td>[{true,&quot;Finnland&quot;,&quot;Geograph. Begriffe&quot;}, {false,&quot;Militärbündnis&quot;,&quot;Sachbegriffe&quot;}, … {true,&quot;Schweden&quot;,&quot;Geograph. Begriffe&quot;}]</td><td>&quot;Gesetz zu den Protokollen zum Nordatlantikvertrag über den Beitritt der Republik Finnland und des K…</td><td>&quot;2022-07-08&quot;</td><td>null</td><td>null</td><td>null</td><td>7</td><td>0</td></tr><tr><td>&quot;283063&quot;</td><td>&quot;Impfpflicht gegen COVID-19 bzw. Nachweis über Genesung oder Kontraindikation für Beschäftigte besti…</td><td>&quot;Verkündet&quot;</td><td>&quot;Gesetzgebung&quot;</td><td>&quot;M002&quot;</td><td>[&quot;Gesundheit&quot;]</td><td>&quot;Vorgang&quot;</td><td>20</td><td>[&quot;Ja, laut Gesetzentwurf (Drs 20/188)&quot;, &quot;Ja, laut Verkündung (BGBl I)&quot;]</td><td>[&quot;Fraktion BÜNDNIS 90/DIE GRÜNEN&quot;, &quot;Fraktion der FDP&quot;, &quot;Fraktion der SPD&quot;]</td><td>&quot;2022-07-26T19:57:25+02:00&quot;</td><td>[{false,&quot;Apotheker&quot;,&quot;Sachbegriffe&quot;}, {false,&quot;Arbeitnehmer-Entsendegesetz&quot;,&quot;Rechtsmaterialien&quot;}, … {false,&quot;Zahnarzt&quot;,&quot;Sachbegriffe&quot;}]</td><td>&quot;Gesetz zur Stärkung der Impfprävention gegen COVID-19 und zur Änderung weiterer Vorschriften im Zus…</td><td>&quot;2021-12-10&quot;</td><td>[{&quot;Entschließungsantrag der Fraktion der AfD&quot;,&quot;Entschließungsantrag zum Gesetz zur Stärkung der Impfprävention gegen COVID-19 und zur Änderung weiterer Vorschriften im Zusammenhang mit der COVID-19-Pandemie&quot;,&quot;283133&quot;,20,null}]</td><td>null</td><td>null</td><td>4</td><td>0</td></tr></tbody></table></div>"
      ],
      "text/plain": [
       "shape: (2, 19)\n",
       "┌────────┬─────────────┬─────────────┬─────────────┬───┬─────────┬──────┬─────────────┬────────────┐\n",
       "│ id     ┆ abstract    ┆ beratungsst ┆ vorgangstyp ┆ … ┆ ratsdok ┆ kom  ┆ vorgangsdau ┆ duration_b │\n",
       "│ ---    ┆ ---         ┆ and         ┆ ---         ┆   ┆ ---     ┆ ---  ┆ er          ┆ in         │\n",
       "│ str    ┆ str         ┆ ---         ┆ str         ┆   ┆ str     ┆ str  ┆ ---         ┆ ---        │\n",
       "│        ┆             ┆ str         ┆             ┆   ┆         ┆      ┆ i64         ┆ i64        │\n",
       "╞════════╪═════════════╪═════════════╪═════════════╪═══╪═════════╪══════╪═════════════╪════════════╡\n",
       "│ 289160 ┆ Zustimmung  ┆ Verkündet   ┆ Gesetzgebun ┆ … ┆ null    ┆ null ┆ 7           ┆ 0          │\n",
       "│        ┆ zu den am   ┆             ┆ g           ┆   ┆         ┆      ┆             ┆            │\n",
       "│        ┆ 5. Juli     ┆             ┆             ┆   ┆         ┆      ┆             ┆            │\n",
       "│        ┆ 2022 in     ┆             ┆             ┆   ┆         ┆      ┆             ┆            │\n",
       "│        ┆ Brüssel unt ┆             ┆             ┆   ┆         ┆      ┆             ┆            │\n",
       "│        ┆ erzeichnete ┆             ┆             ┆   ┆         ┆      ┆             ┆            │\n",
       "│        ┆ n           ┆             ┆             ┆   ┆         ┆      ┆             ┆            │\n",
       "│        ┆ Protokollen ┆             ┆             ┆   ┆         ┆      ┆             ┆            │\n",
       "│        ┆ zum Nordatl ┆             ┆             ┆   ┆         ┆      ┆             ┆            │\n",
       "│        ┆ antikvertra ┆             ┆             ┆   ┆         ┆      ┆             ┆            │\n",
       "│        ┆ g übe…      ┆             ┆             ┆   ┆         ┆      ┆             ┆            │\n",
       "│ 283063 ┆ Impfpflicht ┆ Verkündet   ┆ Gesetzgebun ┆ … ┆ null    ┆ null ┆ 4           ┆ 0          │\n",
       "│        ┆ gegen       ┆             ┆ g           ┆   ┆         ┆      ┆             ┆            │\n",
       "│        ┆ COVID-19    ┆             ┆             ┆   ┆         ┆      ┆             ┆            │\n",
       "│        ┆ bzw.        ┆             ┆             ┆   ┆         ┆      ┆             ┆            │\n",
       "│        ┆ Nachweis    ┆             ┆             ┆   ┆         ┆      ┆             ┆            │\n",
       "│        ┆ über        ┆             ┆             ┆   ┆         ┆      ┆             ┆            │\n",
       "│        ┆ Genesung    ┆             ┆             ┆   ┆         ┆      ┆             ┆            │\n",
       "│        ┆ oder Kontra ┆             ┆             ┆   ┆         ┆      ┆             ┆            │\n",
       "│        ┆ indikation  ┆             ┆             ┆   ┆         ┆      ┆             ┆            │\n",
       "│        ┆ für Beschäf ┆             ┆             ┆   ┆         ┆      ┆             ┆            │\n",
       "│        ┆ tigte       ┆             ┆             ┆   ┆         ┆      ┆             ┆            │\n",
       "│        ┆ bestim…     ┆             ┆             ┆   ┆         ┆      ┆             ┆            │\n",
       "└────────┴─────────────┴─────────────┴─────────────┴───┴─────────┴──────┴─────────────┴────────────┘"
      ]
     },
     "execution_count": 7,
     "metadata": {},
     "output_type": "execute_result"
    }
   ],
   "source": [
    "df_gesetze_public_bins = df_gesetze_public.with_columns(pl.from_numpy(duration_bin, schema=['duration_bin']))\n",
    "df_gesetze_public_bins.filter(pl.col('duration_bin') == pl.col('duration_bin').min())"
   ]
  },
  {
   "cell_type": "code",
   "execution_count": 8,
   "id": "aed89740-24dc-4fc5-9508-4d65baee2f2a",
   "metadata": {},
   "outputs": [
    {
     "data": {
      "text/html": [
       "<div><style>\n",
       ".dataframe > thead > tr > th,\n",
       ".dataframe > tbody > tr > td {\n",
       "  text-align: right;\n",
       "  white-space: pre-wrap;\n",
       "}\n",
       "</style>\n",
       "<small>shape: (3, 19)</small><table border=\"1\" class=\"dataframe\"><thead><tr><th>id</th><th>abstract</th><th>beratungsstand</th><th>vorgangstyp</th><th>gesta</th><th>sachgebiet</th><th>typ</th><th>wahlperiode</th><th>zustimmungsbeduerftigkeit</th><th>initiative</th><th>aktualisiert</th><th>deskriptor</th><th>titel</th><th>datum</th><th>vorgang_verlinkung</th><th>ratsdok</th><th>kom</th><th>vorgangsdauer</th><th>duration_bin</th></tr><tr><td>str</td><td>str</td><td>str</td><td>str</td><td>str</td><td>list[str]</td><td>str</td><td>i64</td><td>list[str]</td><td>list[str]</td><td>str</td><td>list[struct[3]]</td><td>str</td><td>str</td><td>list[struct[5]]</td><td>str</td><td>str</td><td>i64</td><td>i64</td></tr></thead><tbody><tr><td>&quot;290305&quot;</td><td>&quot;Anpassung an Vorschriften des EU-Rechts durch Erweiterung der Agrarstrukturerhebung um zusätzlich v…</td><td>&quot;Verkündet&quot;</td><td>&quot;Gesetzgebung&quot;</td><td>&quot;F007&quot;</td><td>[&quot;Landwirtschaft und Ernährung&quot;]</td><td>&quot;Vorgang&quot;</td><td>20</td><td>[&quot;Nein, laut Gesetzentwurf (Drs 362/22)&quot;, &quot;Nein, laut Verkündung (BGBl I)&quot;]</td><td>[&quot;Bundesregierung&quot;]</td><td>&quot;2023-09-06T14:57:55+02:00&quot;</td><td>[{true,&quot;Agrarstatistik&quot;,&quot;Sachbegriffe&quot;}, {true,&quot;Agrarstatistikgesetz&quot;,&quot;Rechtsmaterialien&quot;}, … {false,&quot;Verordnung der EU&quot;,&quot;Sachbegriffe&quot;}]</td><td>&quot;Gesetz zur Änderung des Agrarstatistikgesetzes und des Lebensmittelspezialitätengesetzes&quot;</td><td>&quot;2023-08-31&quot;</td><td>null</td><td>null</td><td>null</td><td>391</td><td>7</td></tr><tr><td>&quot;284432&quot;</td><td>&quot;Entlastung einkommensschwächerer Haushalte durch Einführung eines einmaligen nach der Anzahl der be…</td><td>&quot;Verkündet&quot;</td><td>&quot;Gesetzgebung&quot;</td><td>&quot;P003&quot;</td><td>[&quot;Gesellschaftspolitik, soziale Gruppen&quot;, &quot;Raumordnung, Bau- und Wohnungswesen&quot;, &quot;Soziale Sicherung&quot;]</td><td>&quot;Vorgang&quot;</td><td>20</td><td>[&quot;Nein, laut Gesetzentwurf (Drs 20/689)&quot;, &quot;Nein, laut Verkündung (BGBl I)&quot;]</td><td>[&quot;Fraktion BÜNDNIS 90/DIE GRÜNEN&quot;, &quot;Fraktion der FDP&quot;, &quot;Fraktion der SPD&quot;]</td><td>&quot;2023-08-21T14:27:18+02:00&quot;</td><td>[{false,&quot;Aufstiegsfortbildung&quot;,&quot;Sachbegriffe&quot;}, {false,&quot;Ausbildungsförderung&quot;,&quot;Sachbegriffe&quot;}, … {false,&quot;Wohngeld&quot;,&quot;Sachbegriffe&quot;}]</td><td>&quot;Gesetz zur Gewährung eines einmaligen Heizkostenzuschusses aufgrund stark gestiegener Energiekosten…</td><td>&quot;2023-08-14&quot;</td><td>[{&quot;Entschließungsantrag der Fraktion der CDU/CSU&quot;,&quot;Entschließungsantrag zum Gesetz zur Gewährung eines einmaligen Heizkostenzuschusses aufgrund stark gestiegener Energiekosten (Heizkostenzuschussgesetz - HeizkZuschG)&quot;,&quot;285421&quot;,20,null}, {&quot;Entschließungsantrag der Fraktion DIE LINKE&quot;,&quot;Entschließungsantrag zum Gesetz zur Gewährung eines einmaligen Heizkostenzuschusses aufgrund stark gestiegener Energiekosten (Heizkostenzuschussgesetz - HeizkZuschG)&quot;,&quot;285431&quot;,20,null}]</td><td>null</td><td>null</td><td>545</td><td>7</td></tr><tr><td>&quot;287570&quot;</td><td>&quot;Weitere Erhöhung der Regionalisierungsmittel im Jahr 2022 um insgesamt 3,7 Mrd Euro zur finanzielle…</td><td>&quot;Verkündet&quot;</td><td>&quot;Gesetzgebung&quot;</td><td>&quot;J003&quot;</td><td>[&quot;Verkehr&quot;, &quot;Öffentliche Finanzen, Steuern und Abgaben&quot;]</td><td>&quot;Vorgang&quot;</td><td>20</td><td>[&quot;Ja, laut Gesetzentwurf (Drs 20/1739)&quot;, &quot;Ja, laut Verkündung (BGBl I)&quot;]</td><td>[&quot;Fraktion BÜNDNIS 90/DIE GRÜNEN&quot;, &quot;Fraktion der FDP&quot;, &quot;Fraktion der SPD&quot;]</td><td>&quot;2023-08-02T14:41:22+02:00&quot;</td><td>[{false,&quot;Bericht der Bundesregierung&quot;,&quot;Sachbegriffe&quot;}, {false,&quot;Bundesmittel&quot;,&quot;Sachbegriffe&quot;}, … {true,&quot;Öffentlicher Personennahverkehr&quot;,&quot;Sachbegriffe&quot;}]</td><td>&quot;Siebtes Gesetz zur Änderung des Regionalisierungsgesetzes&quot;</td><td>&quot;2023-07-26&quot;</td><td>[{&quot;Entschließungsantrag der Fraktion der CDU/CSU&quot;,&quot;Entschließungsantrag zum Siebten Gesetz zur Änderung des Regionalisierungsgesetzes&quot;,&quot;287866&quot;,20,null}, {&quot;Entschließungsantrag der Fraktion der AfD&quot;,&quot;Entschließungsantrag zum Siebten Gesetz zur Änderung des Regionalisierungsgesetzes&quot;,&quot;287876&quot;,20,null}]</td><td>null</td><td>null</td><td>442</td><td>7</td></tr></tbody></table></div>"
      ],
      "text/plain": [
       "shape: (3, 19)\n",
       "┌────────┬─────────────┬─────────────┬─────────────┬───┬─────────┬──────┬─────────────┬────────────┐\n",
       "│ id     ┆ abstract    ┆ beratungsst ┆ vorgangstyp ┆ … ┆ ratsdok ┆ kom  ┆ vorgangsdau ┆ duration_b │\n",
       "│ ---    ┆ ---         ┆ and         ┆ ---         ┆   ┆ ---     ┆ ---  ┆ er          ┆ in         │\n",
       "│ str    ┆ str         ┆ ---         ┆ str         ┆   ┆ str     ┆ str  ┆ ---         ┆ ---        │\n",
       "│        ┆             ┆ str         ┆             ┆   ┆         ┆      ┆ i64         ┆ i64        │\n",
       "╞════════╪═════════════╪═════════════╪═════════════╪═══╪═════════╪══════╪═════════════╪════════════╡\n",
       "│ 290305 ┆ Anpassung   ┆ Verkündet   ┆ Gesetzgebun ┆ … ┆ null    ┆ null ┆ 391         ┆ 7          │\n",
       "│        ┆ an Vorschri ┆             ┆ g           ┆   ┆         ┆      ┆             ┆            │\n",
       "│        ┆ ften des    ┆             ┆             ┆   ┆         ┆      ┆             ┆            │\n",
       "│        ┆ EU-Rechts   ┆             ┆             ┆   ┆         ┆      ┆             ┆            │\n",
       "│        ┆ durch       ┆             ┆             ┆   ┆         ┆      ┆             ┆            │\n",
       "│        ┆ Erweiterung ┆             ┆             ┆   ┆         ┆      ┆             ┆            │\n",
       "│        ┆ der Agrarst ┆             ┆             ┆   ┆         ┆      ┆             ┆            │\n",
       "│        ┆ rukturerheb ┆             ┆             ┆   ┆         ┆      ┆             ┆            │\n",
       "│        ┆ ung um      ┆             ┆             ┆   ┆         ┆      ┆             ┆            │\n",
       "│        ┆ zusätzlich  ┆             ┆             ┆   ┆         ┆      ┆             ┆            │\n",
       "│        ┆ ve…         ┆             ┆             ┆   ┆         ┆      ┆             ┆            │\n",
       "│ 284432 ┆ Entlastung  ┆ Verkündet   ┆ Gesetzgebun ┆ … ┆ null    ┆ null ┆ 545         ┆ 7          │\n",
       "│        ┆ einkommenss ┆             ┆ g           ┆   ┆         ┆      ┆             ┆            │\n",
       "│        ┆ chwächerer  ┆             ┆             ┆   ┆         ┆      ┆             ┆            │\n",
       "│        ┆ Haushalte   ┆             ┆             ┆   ┆         ┆      ┆             ┆            │\n",
       "│        ┆ durch       ┆             ┆             ┆   ┆         ┆      ┆             ┆            │\n",
       "│        ┆ Einführung  ┆             ┆             ┆   ┆         ┆      ┆             ┆            │\n",
       "│        ┆ eines       ┆             ┆             ┆   ┆         ┆      ┆             ┆            │\n",
       "│        ┆ einmaligen  ┆             ┆             ┆   ┆         ┆      ┆             ┆            │\n",
       "│        ┆ nach der    ┆             ┆             ┆   ┆         ┆      ┆             ┆            │\n",
       "│        ┆ Anzahl der  ┆             ┆             ┆   ┆         ┆      ┆             ┆            │\n",
       "│        ┆ ber…        ┆             ┆             ┆   ┆         ┆      ┆             ┆            │\n",
       "│ 287570 ┆ Weitere     ┆ Verkündet   ┆ Gesetzgebun ┆ … ┆ null    ┆ null ┆ 442         ┆ 7          │\n",
       "│        ┆ Erhöhung    ┆             ┆ g           ┆   ┆         ┆      ┆             ┆            │\n",
       "│        ┆ der Regiona ┆             ┆             ┆   ┆         ┆      ┆             ┆            │\n",
       "│        ┆ lisierungsm ┆             ┆             ┆   ┆         ┆      ┆             ┆            │\n",
       "│        ┆ ittel im    ┆             ┆             ┆   ┆         ┆      ┆             ┆            │\n",
       "│        ┆ Jahr 2022   ┆             ┆             ┆   ┆         ┆      ┆             ┆            │\n",
       "│        ┆ um          ┆             ┆             ┆   ┆         ┆      ┆             ┆            │\n",
       "│        ┆ insgesamt   ┆             ┆             ┆   ┆         ┆      ┆             ┆            │\n",
       "│        ┆ 3,7 Mrd     ┆             ┆             ┆   ┆         ┆      ┆             ┆            │\n",
       "│        ┆ Euro zur    ┆             ┆             ┆   ┆         ┆      ┆             ┆            │\n",
       "│        ┆ finanzielle ┆             ┆             ┆   ┆         ┆      ┆             ┆            │\n",
       "│        ┆ n…          ┆             ┆             ┆   ┆         ┆      ┆             ┆            │\n",
       "└────────┴─────────────┴─────────────┴─────────────┴───┴─────────┴──────┴─────────────┴────────────┘"
      ]
     },
     "execution_count": 8,
     "metadata": {},
     "output_type": "execute_result"
    }
   ],
   "source": [
    "df_gesetze_public_bins.filter(pl.col('duration_bin') == pl.col('duration_bin').max())"
   ]
  }
 ],
 "metadata": {
  "kernelspec": {
   "display_name": "Python 3 (ipykernel)",
   "language": "python",
   "name": "python3"
  },
  "language_info": {
   "codemirror_mode": {
    "name": "ipython",
    "version": 3
   },
   "file_extension": ".py",
   "mimetype": "text/x-python",
   "name": "python",
   "nbconvert_exporter": "python",
   "pygments_lexer": "ipython3",
   "version": "3.11.5"
  }
 },
 "nbformat": 4,
 "nbformat_minor": 5
}
