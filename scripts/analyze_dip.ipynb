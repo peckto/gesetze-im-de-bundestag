{
 "cells": [
  {
   "cell_type": "code",
   "execution_count": 1,
   "id": "97ad2d24-a37c-4fc7-a95e-6876c49b062c",
   "metadata": {},
   "outputs": [],
   "source": [
    "import json\n",
    "from datetime import date\n",
    "import polars as pl\n",
    "import numpy as np"
   ]
  },
  {
   "cell_type": "code",
   "execution_count": 2,
   "id": "0c6ce133-86f6-4a87-ae73-862b46ed4554",
   "metadata": {},
   "outputs": [
    {
     "data": {
      "text/html": [
       "<div><style>\n",
       ".dataframe > thead > tr > th,\n",
       ".dataframe > tbody > tr > td {\n",
       "  text-align: right;\n",
       "  white-space: pre-wrap;\n",
       "}\n",
       "</style>\n",
       "<small>shape: (15,)</small><table border=\"1\" class=\"dataframe\"><thead><tr><th>beratungsstand</th></tr><tr><td>str</td></tr></thead><tbody><tr><td>&quot;Einbringung abgelehnt&quot;</td></tr><tr><td>&quot;Den Ausschüssen zugewiesen&quot;</td></tr><tr><td>&quot;Überwiesen&quot;</td></tr><tr><td>&quot;Verkündet&quot;</td></tr><tr><td>&quot;Angenommen&quot;</td></tr><tr><td>&quot;Für erledigt erklärt&quot;</td></tr><tr><td>&quot;Bundesrat hat zugestimmt&quot;</td></tr><tr><td>&quot;Dem Bundesrat zugeleitet - Noch nicht beraten&quot;</td></tr><tr><td>&quot;Abgelehnt&quot;</td></tr><tr><td>&quot;Noch nicht beraten&quot;</td></tr><tr><td>&quot;Verabschiedet&quot;</td></tr><tr><td>&quot;Zurückgezogen&quot;</td></tr><tr><td>&quot;Beschlussempfehlung liegt vor&quot;</td></tr><tr><td>&quot;Dem Bundestag zugeleitet - Noch nicht beraten&quot;</td></tr><tr><td>&quot;Zusammengeführt mit... (siehe Vorgangsablauf)&quot;</td></tr></tbody></table></div>"
      ],
      "text/plain": [
       "shape: (15,)\n",
       "Series: 'beratungsstand' [str]\n",
       "[\n",
       "\t\"Einbringung abgelehnt\"\n",
       "\t\"Den Ausschüssen zugewiesen\"\n",
       "\t\"Überwiesen\"\n",
       "\t\"Verkündet\"\n",
       "\t\"Angenommen\"\n",
       "\t\"Für erledigt erklärt\"\n",
       "\t\"Bundesrat hat zugestimmt\"\n",
       "\t\"Dem Bundesrat zugeleitet - Noch nicht beraten\"\n",
       "\t\"Abgelehnt\"\n",
       "\t\"Noch nicht beraten\"\n",
       "\t\"Verabschiedet\"\n",
       "\t\"Zurückgezogen\"\n",
       "\t\"Beschlussempfehlung liegt vor\"\n",
       "\t\"Dem Bundestag zugeleitet - Noch nicht beraten\"\n",
       "\t\"Zusammengeführt mit... (siehe Vorgangsablauf)\"\n",
       "]"
      ]
     },
     "execution_count": 2,
     "metadata": {},
     "output_type": "execute_result"
    }
   ],
   "source": [
    "schema={\n",
    "    'id': pl.Utf8,\n",
    "    'abstract': pl.Utf8,\n",
    "    'beratungsstand': pl.Utf8,\n",
    "    'vorgangstyp': pl.Utf8,\n",
    "    'gesta': pl.Utf8,\n",
    "    'archiv': pl.Utf8,\n",
    "    'sachgebiet': pl.List(pl.Utf8),\n",
    "    'typ': pl.Utf8,\n",
    "    'wahlperiode': pl.UInt64,\n",
    "    'zustimmungsbeduerftigkeit': pl.List(pl.Utf8),\n",
    "    'initiative': pl.List(pl.Utf8),\n",
    "    'aktualisiert': pl.Utf8,\n",
    "    'titel': pl.Utf8,\n",
    "    'datum': pl.Utf8,\n",
    "    'verkuendung': pl.List(pl.Struct([\n",
    "        pl.Field('verkuendungsdatum', pl.Utf8)\n",
    "    ]))\n",
    "}\n",
    "df_vorgang = pl.DataFrame(json.load(open('vorgang.json', encoding='utf-8')), schema=schema)\n",
    "df_gesetze = df_vorgang.filter(pl.col('vorgangstyp') == 'Gesetzgebung')\n",
    "pl.Config(fmt_str_lengths=100)\n",
    "df_gesetze['beratungsstand'].unique()"
   ]
  },
  {
   "cell_type": "code",
   "execution_count": 3,
   "id": "df422da7-434d-407b-99d5-d846824b3ec8",
   "metadata": {},
   "outputs": [],
   "source": [
    "df_vorgangspos = pl.read_json('vorgangsposition.json')\n",
    "df_vorgangspos = df_vorgangspos.with_columns(\n",
    "   pl.col(\"datum\").str.to_date(format=\"%Y-%m-%d\")\n",
    ")\n",
    "df_vorgangspos = df_vorgangspos.filter((pl.col('vorgangstyp') == 'Gesetzgebung') & (pl.col('typ') == 'Vorgangsposition'))\n",
    "df_vorgang_duration = df_vorgangspos.group_by(['vorgang_id']).agg([\n",
    "    pl.col('datum').min().alias('vorgang_start'), \n",
    "])"
   ]
  },
  {
   "cell_type": "code",
   "execution_count": 4,
   "id": "46f61414-9939-4423-910f-41db94f781c8",
   "metadata": {},
   "outputs": [],
   "source": [
    "df_gesetze = df_gesetze.join(df_vorgang_duration.select(['vorgang_id', 'vorgang_start']), left_on='id', right_on='vorgang_id', how='left')"
   ]
  },
  {
   "cell_type": "code",
   "execution_count": 5,
   "id": "89f4ca04-8678-4c2a-8be9-ef935ba42fe5",
   "metadata": {},
   "outputs": [],
   "source": [
    "today = date.today()\n",
    "df_gesetze = df_gesetze.with_columns(\n",
    "    pl.when(pl.col('beratungsstand') == 'Verkündet').then(\n",
    "        pl.col('verkuendung').list.eval(pl.col('').struct.field('verkuendungsdatum').str.to_date(format=\"%Y-%m-%d\")).list.min()\n",
    "    ).when(pl.col('beratungsstand') == 'Abgelehnt').then(\n",
    "        pl.col('datum').str.to_date(format=\"%Y-%m-%d\")\n",
    "    ).otherwise(today).alias('vorgang_end')\n",
    ")\n",
    "df_gesetze = df_gesetze.with_columns((pl.col('vorgang_end') - pl.col('vorgang_start')).dt.days().alias('vorgangsdauer'))"
   ]
  },
  {
   "cell_type": "code",
   "execution_count": 6,
   "id": "2563ad5e-bd77-4fa3-bb9b-ceae20e8ae5e",
   "metadata": {},
   "outputs": [],
   "source": [
    "df_gesetze.write_json('gesetze.json', row_oriented=True)"
   ]
  },
  {
   "cell_type": "code",
   "execution_count": 7,
   "id": "eb76d5f4-c006-4278-8de0-73ce19e2048b",
   "metadata": {},
   "outputs": [
    {
     "data": {
      "text/html": [
       "<div><style>\n",
       ".dataframe > thead > tr > th,\n",
       ".dataframe > tbody > tr > td {\n",
       "  text-align: right;\n",
       "  white-space: pre-wrap;\n",
       "}\n",
       "</style>\n",
       "<small>shape: (8, 3)</small><table border=\"1\" class=\"dataframe\"><thead><tr><th>break_point</th><th>category</th><th>vorgangsdauer_count</th></tr><tr><td>f64</td><td>cat</td><td>u32</td></tr></thead><tbody><tr><td>7.0</td><td>&quot;(-inf, 7.0]&quot;</td><td>1</td></tr><tr><td>14.0</td><td>&quot;(7.0, 14.0]&quot;</td><td>3</td></tr><tr><td>30.0</td><td>&quot;(14.0, 30.0]&quot;</td><td>17</td></tr><tr><td>60.0</td><td>&quot;(30.0, 60.0]&quot;</td><td>20</td></tr><tr><td>120.0</td><td>&quot;(60.0, 120.0]&quot;</td><td>52</td></tr><tr><td>240.0</td><td>&quot;(120.0, 240.0]&quot;</td><td>66</td></tr><tr><td>365.0</td><td>&quot;(240.0, 365.0]&quot;</td><td>3</td></tr><tr><td>inf</td><td>&quot;(365.0, inf]&quot;</td><td>0</td></tr></tbody></table></div>"
      ],
      "text/plain": [
       "shape: (8, 3)\n",
       "┌─────────────┬────────────────┬─────────────────────┐\n",
       "│ break_point ┆ category       ┆ vorgangsdauer_count │\n",
       "│ ---         ┆ ---            ┆ ---                 │\n",
       "│ f64         ┆ cat            ┆ u32                 │\n",
       "╞═════════════╪════════════════╪═════════════════════╡\n",
       "│ 7.0         ┆ (-inf, 7.0]    ┆ 1                   │\n",
       "│ 14.0        ┆ (7.0, 14.0]    ┆ 3                   │\n",
       "│ 30.0        ┆ (14.0, 30.0]   ┆ 17                  │\n",
       "│ 60.0        ┆ (30.0, 60.0]   ┆ 20                  │\n",
       "│ 120.0       ┆ (60.0, 120.0]  ┆ 52                  │\n",
       "│ 240.0       ┆ (120.0, 240.0] ┆ 66                  │\n",
       "│ 365.0       ┆ (240.0, 365.0] ┆ 3                   │\n",
       "│ inf         ┆ (365.0, inf]   ┆ 0                   │\n",
       "└─────────────┴────────────────┴─────────────────────┘"
      ]
     },
     "execution_count": 7,
     "metadata": {},
     "output_type": "execute_result"
    }
   ],
   "source": [
    "df_gesetze_public = df_gesetze.filter(pl.col('beratungsstand') == 'Verkündet')\n",
    "bins = [7, 14, 30, 60, 120, 240, 365]\n",
    "duration_bin = np.digitize(df_gesetze_public.select('vorgangsdauer').to_series(), bins, right=True)\n",
    "df_gesetze_public.select('vorgangsdauer').to_series().hist(bins)"
   ]
  },
  {
   "cell_type": "code",
   "execution_count": 8,
   "id": "f64505de-ecb2-42fa-b269-8f304acebfe2",
   "metadata": {},
   "outputs": [
    {
     "data": {
      "text/html": [
       "<div><style>\n",
       ".dataframe > thead > tr > th,\n",
       ".dataframe > tbody > tr > td {\n",
       "  text-align: right;\n",
       "  white-space: pre-wrap;\n",
       "}\n",
       "</style>\n",
       "<small>shape: (1, 19)</small><table border=\"1\" class=\"dataframe\"><thead><tr><th>id</th><th>abstract</th><th>beratungsstand</th><th>vorgangstyp</th><th>gesta</th><th>archiv</th><th>sachgebiet</th><th>typ</th><th>wahlperiode</th><th>zustimmungsbeduerftigkeit</th><th>initiative</th><th>aktualisiert</th><th>titel</th><th>datum</th><th>verkuendung</th><th>vorgang_start</th><th>vorgang_end</th><th>vorgangsdauer</th><th>duration_bin</th></tr><tr><td>str</td><td>str</td><td>str</td><td>str</td><td>str</td><td>str</td><td>list[str]</td><td>str</td><td>u64</td><td>list[str]</td><td>list[str]</td><td>str</td><td>str</td><td>str</td><td>list[struct[1]]</td><td>date</td><td>date</td><td>i64</td><td>i64</td></tr></thead><tbody><tr><td>&quot;283063&quot;</td><td>&quot;Impfpflicht gegen COVID-19 bzw. Nachweis über Genesung oder Kontraindikation für Beschäftigte besti…</td><td>&quot;Verkündet&quot;</td><td>&quot;Gesetzgebung&quot;</td><td>&quot;M002&quot;</td><td>&quot;XX/2&quot;</td><td>[&quot;Gesundheit&quot;]</td><td>&quot;Vorgang&quot;</td><td>20</td><td>[&quot;Ja, laut Gesetzentwurf (Drs 20/188)&quot;, &quot;Ja, laut Verkündung (BGBl I)&quot;]</td><td>[&quot;Fraktion BÜNDNIS 90/DIE GRÜNEN&quot;, &quot;Fraktion der FDP&quot;, &quot;Fraktion der SPD&quot;]</td><td>&quot;2022-07-26T19:57:25+02:00&quot;</td><td>&quot;Gesetz zur Stärkung der Impfprävention gegen COVID-19 und zur Änderung weiterer Vorschriften im Zus…</td><td>&quot;2021-12-10&quot;</td><td>[{&quot;2021-12-11&quot;}]</td><td>2021-12-06</td><td>2021-12-11</td><td>5</td><td>0</td></tr></tbody></table></div>"
      ],
      "text/plain": [
       "shape: (1, 19)\n",
       "┌────────┬────────────┬────────────┬───────────┬───┬───────────┬───────────┬───────────┬───────────┐\n",
       "│ id     ┆ abstract   ┆ beratungss ┆ vorgangst ┆ … ┆ vorgang_s ┆ vorgang_e ┆ vorgangsd ┆ duration_ │\n",
       "│ ---    ┆ ---        ┆ tand       ┆ yp        ┆   ┆ tart      ┆ nd        ┆ auer      ┆ bin       │\n",
       "│ str    ┆ str        ┆ ---        ┆ ---       ┆   ┆ ---       ┆ ---       ┆ ---       ┆ ---       │\n",
       "│        ┆            ┆ str        ┆ str       ┆   ┆ date      ┆ date      ┆ i64       ┆ i64       │\n",
       "╞════════╪════════════╪════════════╪═══════════╪═══╪═══════════╪═══════════╪═══════════╪═══════════╡\n",
       "│ 283063 ┆ Impfpflich ┆ Verkündet  ┆ Gesetzgeb ┆ … ┆ 2021-12-0 ┆ 2021-12-1 ┆ 5         ┆ 0         │\n",
       "│        ┆ t gegen    ┆            ┆ ung       ┆   ┆ 6         ┆ 1         ┆           ┆           │\n",
       "│        ┆ COVID-19   ┆            ┆           ┆   ┆           ┆           ┆           ┆           │\n",
       "│        ┆ bzw.       ┆            ┆           ┆   ┆           ┆           ┆           ┆           │\n",
       "│        ┆ Nachweis   ┆            ┆           ┆   ┆           ┆           ┆           ┆           │\n",
       "│        ┆ über       ┆            ┆           ┆   ┆           ┆           ┆           ┆           │\n",
       "│        ┆ Genesung   ┆            ┆           ┆   ┆           ┆           ┆           ┆           │\n",
       "│        ┆ oder Kontr ┆            ┆           ┆   ┆           ┆           ┆           ┆           │\n",
       "│        ┆ aindikatio ┆            ┆           ┆   ┆           ┆           ┆           ┆           │\n",
       "│        ┆ n für Besc ┆            ┆           ┆   ┆           ┆           ┆           ┆           │\n",
       "│        ┆ häftigte   ┆            ┆           ┆   ┆           ┆           ┆           ┆           │\n",
       "│        ┆ bestim…    ┆            ┆           ┆   ┆           ┆           ┆           ┆           │\n",
       "└────────┴────────────┴────────────┴───────────┴───┴───────────┴───────────┴───────────┴───────────┘"
      ]
     },
     "execution_count": 8,
     "metadata": {},
     "output_type": "execute_result"
    }
   ],
   "source": [
    "df_gesetze_public_bins = df_gesetze_public.with_columns(pl.from_numpy(duration_bin, schema=['duration_bin']))\n",
    "df_gesetze_public_bins.filter(pl.col('duration_bin') == pl.col('duration_bin').min())"
   ]
  },
  {
   "cell_type": "code",
   "execution_count": 9,
   "id": "aed89740-24dc-4fc5-9508-4d65baee2f2a",
   "metadata": {},
   "outputs": [
    {
     "data": {
      "text/html": [
       "<div><style>\n",
       ".dataframe > thead > tr > th,\n",
       ".dataframe > tbody > tr > td {\n",
       "  text-align: right;\n",
       "  white-space: pre-wrap;\n",
       "}\n",
       "</style>\n",
       "<small>shape: (3, 19)</small><table border=\"1\" class=\"dataframe\"><thead><tr><th>id</th><th>abstract</th><th>beratungsstand</th><th>vorgangstyp</th><th>gesta</th><th>archiv</th><th>sachgebiet</th><th>typ</th><th>wahlperiode</th><th>zustimmungsbeduerftigkeit</th><th>initiative</th><th>aktualisiert</th><th>titel</th><th>datum</th><th>verkuendung</th><th>vorgang_start</th><th>vorgang_end</th><th>vorgangsdauer</th><th>duration_bin</th></tr><tr><td>str</td><td>str</td><td>str</td><td>str</td><td>str</td><td>str</td><td>list[str]</td><td>str</td><td>u64</td><td>list[str]</td><td>list[str]</td><td>str</td><td>str</td><td>str</td><td>list[struct[1]]</td><td>date</td><td>date</td><td>i64</td><td>i64</td></tr></thead><tbody><tr><td>&quot;292499&quot;</td><td>&quot;Schrittweise Einführung einer Kennzeichnungspflicht für Lebensmittel tierischen Ursprungs, beginnen…</td><td>&quot;Verkündet&quot;</td><td>&quot;Gesetzgebung&quot;</td><td>&quot;F008&quot;</td><td>null</td><td>[&quot;Landwirtschaft und Ernährung&quot;]</td><td>&quot;Vorgang&quot;</td><td>20</td><td>[&quot;Nein, laut Gesetzentwurf (Drs 505/22)&quot;, &quot;Nein, laut Verkündung (BGBl I)&quot;]</td><td>[&quot;Bundesregierung&quot;]</td><td>&quot;2023-08-24T16:05:21+02:00&quot;</td><td>&quot;Gesetz zur Kennzeichnung von Lebensmitteln mit der Haltungsform der Tiere, von denen die Lebensmitt…</td><td>&quot;2023-07-07&quot;</td><td>[{&quot;2023-08-23&quot;}]</td><td>2022-10-14</td><td>2023-08-23</td><td>313</td><td>6</td></tr><tr><td>&quot;290260&quot;</td><td>&quot;Umsetzung der sog. EU-Whistleblower-Richtlinie für einen verbesserten Hinweisgeberschutz und zur Sc…</td><td>&quot;Verkündet&quot;</td><td>&quot;Gesetzgebung&quot;</td><td>&quot;C034&quot;</td><td>&quot;XX/136&quot;</td><td>[&quot;Arbeit und Beschäftigung&quot;, &quot;Recht&quot;, … &quot;Wirtschaft&quot;]</td><td>&quot;Vorgang&quot;</td><td>20</td><td>[&quot;Ja, laut Gesetzentwurf (Drs 372/22)&quot;, &quot;Ja, laut Verkündung (BGBl I)&quot;]</td><td>[&quot;Bundesregierung&quot;]</td><td>&quot;2023-06-14T12:20:41+02:00&quot;</td><td>&quot;Gesetz für einen besseren Schutz hinweisgebender Personen sowie zur Umsetzung der Richtlinie zum Sc…</td><td>&quot;2023-05-12&quot;</td><td>[{&quot;2023-06-02&quot;}]</td><td>2022-08-05</td><td>2023-06-02</td><td>301</td><td>6</td></tr><tr><td>&quot;287336&quot;</td><td>&quot;Zur Stärkung der Mitgliedschaftsrechte und Förderung ehrenamtlichen Engagements Verstetigung pandem…</td><td>&quot;Verkündet&quot;</td><td>&quot;Gesetzgebung&quot;</td><td>&quot;C025&quot;</td><td>&quot;XX/125&quot;</td><td>[&quot;Gesellschaftspolitik, soziale Gruppen&quot;, &quot;Medien, Kommunikation und Informationstechnik&quot;, &quot;Recht&quot;]</td><td>&quot;Vorgang&quot;</td><td>20</td><td>[&quot;Nein, laut Gesetzesantrag (Drs 193/22)&quot;, &quot;Nein, laut Verkündung (BGBl I)&quot;]</td><td>[&quot;Bayern&quot;]</td><td>&quot;2023-03-31T12:30:36+02:00&quot;</td><td>&quot;Gesetz zur Ermöglichung hybrider und virtueller Mitgliederversammlungen im Vereinsrecht&quot;</td><td>&quot;2023-03-03&quot;</td><td>[{&quot;2023-03-20&quot;}]</td><td>2022-05-04</td><td>2023-03-20</td><td>320</td><td>6</td></tr></tbody></table></div>"
      ],
      "text/plain": [
       "shape: (3, 19)\n",
       "┌────────┬────────────┬────────────┬───────────┬───┬───────────┬───────────┬───────────┬───────────┐\n",
       "│ id     ┆ abstract   ┆ beratungss ┆ vorgangst ┆ … ┆ vorgang_s ┆ vorgang_e ┆ vorgangsd ┆ duration_ │\n",
       "│ ---    ┆ ---        ┆ tand       ┆ yp        ┆   ┆ tart      ┆ nd        ┆ auer      ┆ bin       │\n",
       "│ str    ┆ str        ┆ ---        ┆ ---       ┆   ┆ ---       ┆ ---       ┆ ---       ┆ ---       │\n",
       "│        ┆            ┆ str        ┆ str       ┆   ┆ date      ┆ date      ┆ i64       ┆ i64       │\n",
       "╞════════╪════════════╪════════════╪═══════════╪═══╪═══════════╪═══════════╪═══════════╪═══════════╡\n",
       "│ 292499 ┆ Schrittwei ┆ Verkündet  ┆ Gesetzgeb ┆ … ┆ 2022-10-1 ┆ 2023-08-2 ┆ 313       ┆ 6         │\n",
       "│        ┆ se         ┆            ┆ ung       ┆   ┆ 4         ┆ 3         ┆           ┆           │\n",
       "│        ┆ Einführung ┆            ┆           ┆   ┆           ┆           ┆           ┆           │\n",
       "│        ┆ einer Kenn ┆            ┆           ┆   ┆           ┆           ┆           ┆           │\n",
       "│        ┆ zeichnungs ┆            ┆           ┆   ┆           ┆           ┆           ┆           │\n",
       "│        ┆ pflicht    ┆            ┆           ┆   ┆           ┆           ┆           ┆           │\n",
       "│        ┆ für Lebens ┆            ┆           ┆   ┆           ┆           ┆           ┆           │\n",
       "│        ┆ mittel     ┆            ┆           ┆   ┆           ┆           ┆           ┆           │\n",
       "│        ┆ tierischen ┆            ┆           ┆   ┆           ┆           ┆           ┆           │\n",
       "│        ┆ Ursprungs, ┆            ┆           ┆   ┆           ┆           ┆           ┆           │\n",
       "│        ┆ beginnend… ┆            ┆           ┆   ┆           ┆           ┆           ┆           │\n",
       "│ 290260 ┆ Umsetzung  ┆ Verkündet  ┆ Gesetzgeb ┆ … ┆ 2022-08-0 ┆ 2023-06-0 ┆ 301       ┆ 6         │\n",
       "│        ┆ der sog.   ┆            ┆ ung       ┆   ┆ 5         ┆ 2         ┆           ┆           │\n",
       "│        ┆ EU-Whistle ┆            ┆           ┆   ┆           ┆           ┆           ┆           │\n",
       "│        ┆ blower-Ric ┆            ┆           ┆   ┆           ┆           ┆           ┆           │\n",
       "│        ┆ htlinie    ┆            ┆           ┆   ┆           ┆           ┆           ┆           │\n",
       "│        ┆ für einen  ┆            ┆           ┆   ┆           ┆           ┆           ┆           │\n",
       "│        ┆ verbessert ┆            ┆           ┆   ┆           ┆           ┆           ┆           │\n",
       "│        ┆ en Hinweis ┆            ┆           ┆   ┆           ┆           ┆           ┆           │\n",
       "│        ┆ geberschut ┆            ┆           ┆   ┆           ┆           ┆           ┆           │\n",
       "│        ┆ z und zur  ┆            ┆           ┆   ┆           ┆           ┆           ┆           │\n",
       "│        ┆ Sch…       ┆            ┆           ┆   ┆           ┆           ┆           ┆           │\n",
       "│ 287336 ┆ Zur        ┆ Verkündet  ┆ Gesetzgeb ┆ … ┆ 2022-05-0 ┆ 2023-03-2 ┆ 320       ┆ 6         │\n",
       "│        ┆ Stärkung   ┆            ┆ ung       ┆   ┆ 4         ┆ 0         ┆           ┆           │\n",
       "│        ┆ der Mitgli ┆            ┆           ┆   ┆           ┆           ┆           ┆           │\n",
       "│        ┆ edschaftsr ┆            ┆           ┆   ┆           ┆           ┆           ┆           │\n",
       "│        ┆ echte und  ┆            ┆           ┆   ┆           ┆           ┆           ┆           │\n",
       "│        ┆ Förderung  ┆            ┆           ┆   ┆           ┆           ┆           ┆           │\n",
       "│        ┆ ehrenamtli ┆            ┆           ┆   ┆           ┆           ┆           ┆           │\n",
       "│        ┆ chen Engag ┆            ┆           ┆   ┆           ┆           ┆           ┆           │\n",
       "│        ┆ ements Ver ┆            ┆           ┆   ┆           ┆           ┆           ┆           │\n",
       "│        ┆ stetigung  ┆            ┆           ┆   ┆           ┆           ┆           ┆           │\n",
       "│        ┆ pandemi…   ┆            ┆           ┆   ┆           ┆           ┆           ┆           │\n",
       "└────────┴────────────┴────────────┴───────────┴───┴───────────┴───────────┴───────────┴───────────┘"
      ]
     },
     "execution_count": 9,
     "metadata": {},
     "output_type": "execute_result"
    }
   ],
   "source": [
    "df_gesetze_public_bins.filter(pl.col('duration_bin') == pl.col('duration_bin').max())"
   ]
  }
 ],
 "metadata": {
  "kernelspec": {
   "display_name": "Python 3 (ipykernel)",
   "language": "python",
   "name": "python3"
  },
  "language_info": {
   "codemirror_mode": {
    "name": "ipython",
    "version": 3
   },
   "file_extension": ".py",
   "mimetype": "text/x-python",
   "name": "python",
   "nbconvert_exporter": "python",
   "pygments_lexer": "ipython3",
   "version": "3.11.5"
  }
 },
 "nbformat": 4,
 "nbformat_minor": 5
}
