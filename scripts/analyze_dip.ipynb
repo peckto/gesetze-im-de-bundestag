{
 "cells": [
  {
   "cell_type": "code",
   "execution_count": 1,
   "id": "97ad2d24-a37c-4fc7-a95e-6876c49b062c",
   "metadata": {},
   "outputs": [],
   "source": [
    "import json\n",
    "from datetime import date\n",
    "import polars as pl\n",
    "import numpy as np"
   ]
  },
  {
   "cell_type": "code",
   "execution_count": 2,
   "id": "0c6ce133-86f6-4a87-ae73-862b46ed4554",
   "metadata": {},
   "outputs": [
    {
     "data": {
      "text/html": [
       "<div><style>\n",
       ".dataframe > thead > tr,\n",
       ".dataframe > tbody > tr {\n",
       "  text-align: right;\n",
       "  white-space: pre-wrap;\n",
       "}\n",
       "</style>\n",
       "<small>shape: (22,)</small><table border=\"1\" class=\"dataframe\"><thead><tr><th>beratungsstand</th></tr><tr><td>str</td></tr></thead><tbody><tr><td>&quot;1. Durchgang im Bundesrat abgeschlossen&quot;</td></tr><tr><td>&quot;Für erledigt erklärt&quot;</td></tr><tr><td>&quot;Bundesrat hat zugestimmt&quot;</td></tr><tr><td>&quot;Bundesrat hat Zustimmung versagt&quot;</td></tr><tr><td>&quot;Verabschiedet&quot;</td></tr><tr><td>&quot;Im Vermittlungsverfahren&quot;</td></tr><tr><td>&quot;Bundesrat hat keinen Einspruch eingelegt&quot;</td></tr><tr><td>&quot;Beschlussempfehlung liegt vor&quot;</td></tr><tr><td>&quot;Einbringung abgelehnt&quot;</td></tr><tr><td>&quot;Überwiesen&quot;</td></tr><tr><td>&quot;Bundesrat hat Vermittlungsausschuss nicht angerufen&quot;</td></tr><tr><td>&quot;Dem Bundesrat zugeleitet - Noch nicht beraten&quot;</td></tr><tr><td>&quot;Verkündet&quot;</td></tr><tr><td>&quot;Für mit dem Grundgesetz unvereinbar erklärt&quot;</td></tr><tr><td>&quot;Zusammengeführt mit... (siehe Vorgangsablauf)&quot;</td></tr><tr><td>&quot;Dem Bundestag zugeleitet - Noch nicht beraten&quot;</td></tr><tr><td>&quot;Abgeschlossen - Ergebnis siehe Vorgangsablauf&quot;</td></tr><tr><td>&quot;Den Ausschüssen zugewiesen&quot;</td></tr><tr><td>&quot;Abgeschlossen&quot;</td></tr><tr><td>&quot;Noch nicht beraten&quot;</td></tr><tr><td>&quot;Zurückgezogen&quot;</td></tr><tr><td>&quot;Abgelehnt&quot;</td></tr></tbody></table></div>"
      ],
      "text/plain": [
       "shape: (22,)\n",
       "Series: 'beratungsstand' [str]\n",
       "[\n",
       "\t\"1. Durchgang im Bundesrat abgeschlossen\"\n",
       "\t\"Für erledigt erklärt\"\n",
       "\t\"Bundesrat hat zugestimmt\"\n",
       "\t\"Bundesrat hat Zustimmung versagt\"\n",
       "\t\"Verabschiedet\"\n",
       "\t\"Im Vermittlungsverfahren\"\n",
       "\t\"Bundesrat hat keinen Einspruch eingelegt\"\n",
       "\t\"Beschlussempfehlung liegt vor\"\n",
       "\t\"Einbringung abgelehnt\"\n",
       "\t\"Überwiesen\"\n",
       "\t\"Bundesrat hat Vermittlungsausschuss nicht angerufen\"\n",
       "\t\"Dem Bundesrat zugeleitet - Noch nicht beraten\"\n",
       "\t\"Verkündet\"\n",
       "\t\"Für mit dem Grundgesetz unvereinbar erklärt\"\n",
       "\t\"Zusammengeführt mit... (siehe Vorgangsablauf)\"\n",
       "\t\"Dem Bundestag zugeleitet - Noch nicht beraten\"\n",
       "\t\"Abgeschlossen - Ergebnis siehe Vorgangsablauf\"\n",
       "\t\"Den Ausschüssen zugewiesen\"\n",
       "\t\"Abgeschlossen\"\n",
       "\t\"Noch nicht beraten\"\n",
       "\t\"Zurückgezogen\"\n",
       "\t\"Abgelehnt\"\n",
       "]"
      ]
     },
     "execution_count": 2,
     "metadata": {},
     "output_type": "execute_result"
    }
   ],
   "source": [
    "schema={\n",
    "    'id': pl.Utf8,\n",
    "    'abstract': pl.Utf8,\n",
    "    'beratungsstand': pl.Utf8,\n",
    "    'vorgangstyp': pl.Utf8,\n",
    "    'gesta': pl.Utf8,\n",
    "    'archiv': pl.Utf8,\n",
    "    'sachgebiet': pl.List(pl.Utf8),\n",
    "    'typ': pl.Utf8,\n",
    "    'wahlperiode': pl.UInt64,\n",
    "    'zustimmungsbeduerftigkeit': pl.List(pl.Utf8),\n",
    "    'initiative': pl.List(pl.Utf8),\n",
    "    'deskriptor': pl.List(pl.Struct([\n",
    "        pl.Field('fundstelle', pl.Boolean),\n",
    "        pl.Field('name', pl.Utf8),\n",
    "        pl.Field('typ', pl.Utf8),\n",
    "    ])),\n",
    "    'aktualisiert': pl.Utf8,\n",
    "    'titel': pl.Utf8,\n",
    "    'datum': pl.Utf8,\n",
    "    'verkuendung': pl.List(pl.Struct([\n",
    "        pl.Field('verkuendungsdatum', pl.Utf8)\n",
    "    ]))\n",
    "}\n",
    "df_vorgang = pl.DataFrame(json.load(open('vorgang.json', encoding='utf-8')), schema=schema)\n",
    "df_gesetze = df_vorgang.filter(pl.col('vorgangstyp') == 'Gesetzgebung')\n",
    "pl.Config(fmt_str_lengths=100)\n",
    "df_gesetze['beratungsstand'].unique()"
   ]
  },
  {
   "cell_type": "code",
   "execution_count": 3,
   "id": "df422da7-434d-407b-99d5-d846824b3ec8",
   "metadata": {},
   "outputs": [],
   "source": [
    "df_vorgangspos = pl.read_json('vorgangsposition.json')\n",
    "df_vorgangspos = df_vorgangspos.with_columns(\n",
    "   pl.col(\"datum\").str.to_date(format=\"%Y-%m-%d\")\n",
    ")\n",
    "df_vorgangspos = df_vorgangspos.filter((pl.col('vorgangstyp') == 'Gesetzgebung') & (pl.col('typ') == 'Vorgangsposition'))\n",
    "df_vorgang_duration = df_vorgangspos.group_by(['vorgang_id']).agg([\n",
    "    pl.col('datum').min().alias('vorgang_start'), \n",
    "])"
   ]
  },
  {
   "cell_type": "code",
   "execution_count": 4,
   "id": "7d9a7b0e-e1d9-491a-bf8d-bce622d6594f",
   "metadata": {},
   "outputs": [
    {
     "data": {
      "text/html": [
       "<div><style>\n",
       ".dataframe > thead > tr,\n",
       ".dataframe > tbody > tr {\n",
       "  text-align: right;\n",
       "  white-space: pre-wrap;\n",
       "}\n",
       "</style>\n",
       "<small>shape: (5, 16)</small><table border=\"1\" class=\"dataframe\"><thead><tr><th>id</th><th>abstract</th><th>beratungsstand</th><th>vorgangstyp</th><th>gesta</th><th>archiv</th><th>sachgebiet</th><th>typ</th><th>wahlperiode</th><th>zustimmungsbeduerftigkeit</th><th>initiative</th><th>deskriptor</th><th>aktualisiert</th><th>titel</th><th>datum</th><th>verkuendung</th></tr><tr><td>str</td><td>str</td><td>str</td><td>str</td><td>str</td><td>str</td><td>list[str]</td><td>str</td><td>u64</td><td>list[str]</td><td>list[str]</td><td>list[struct[3]]</td><td>str</td><td>str</td><td>str</td><td>list[struct[1]]</td></tr></thead><tbody><tr><td>&quot;308776&quot;</td><td>&quot;Zustimmung zu dem am 21. Juli 2023 in Lauterbourg unterzeichneten Abkommen: Standardisierung grenzü…</td><td>&quot;Dem Bundestag zugeleitet - Noch nicht beraten&quot;</td><td>&quot;Gesetzgebung&quot;</td><td>&quot;XK002&quot;</td><td>null</td><td>[&quot;Arbeit und Beschäftigung&quot;, &quot;Bildung und Erziehung&quot;]</td><td>&quot;Vorgang&quot;</td><td>20</td><td>[&quot;Ja, laut Gesetzentwurf (Drs 76/24)&quot;]</td><td>[&quot;Bundesregierung&quot;]</td><td>[{false,&quot;Ausbildungsvertrag&quot;,&quot;Sachbegriffe&quot;}, {false,&quot;Auswärtige Kultur- und Bildungspolitik&quot;,&quot;Sachbegriffe&quot;}, … {false,&quot;Teilzeitarbeit&quot;,&quot;Sachbegriffe&quot;}]</td><td>&quot;2024-03-25T15:18:40+01:00&quot;</td><td>&quot;Gesetz zu dem Abkommen vom 21. Juli 2023 zwischen der Regierung der Bundesrepublik Deutschland und …</td><td>&quot;2024-03-25&quot;</td><td>null</td></tr><tr><td>&quot;308709&quot;</td><td>&quot;Zusammenfassung und anwendungsbezogene Konkretisierung der sich aus der Anwendung des BEPS-MLI erge…</td><td>&quot;Dem Bundestag zugeleitet - Noch nicht beraten&quot;</td><td>&quot;Gesetzgebung&quot;</td><td>&quot;D057&quot;</td><td>null</td><td>[&quot;Öffentliche Finanzen, Steuern und Abgaben&quot;]</td><td>&quot;Vorgang&quot;</td><td>20</td><td>[&quot;Ja, laut Gesetzentwurf (Drs 75/24)&quot;]</td><td>[&quot;Bundesregierung&quot;]</td><td>[{true,&quot;BEPS-MLI-Anwendungsgesetz&quot;,&quot;Rechtsmaterialien&quot;}, {false,&quot;Bundeszentralamt für Steuern&quot;,&quot;Institutionen&quot;}, … {false,&quot;Unternehmensbesteuerung&quot;,&quot;Sachbegriffe&quot;}]</td><td>&quot;2024-03-25T15:24:10+01:00&quot;</td><td>&quot;Gesetz zur Anwendung des Mehrseitigen Übereinkommens vom 24. November 2016 und zu weiteren Maßnahme…</td><td>&quot;2024-03-25&quot;</td><td>null</td></tr><tr><td>&quot;308703&quot;</td><td>&quot;Zur Sicherstellung einer tat- und schuldangemessenen Reaktion im Einzelfall bei Fallkonstellationen…</td><td>&quot;Überwiesen&quot;</td><td>&quot;Gesetzgebung&quot;</td><td>&quot;C084&quot;</td><td>null</td><td>[&quot;Gesellschaftspolitik, soziale Gruppen&quot;, &quot;Recht&quot;]</td><td>&quot;Vorgang&quot;</td><td>20</td><td>[&quot;Nein, laut Gesetzentwurf (Drs 74/24 (bes.eilbed.))&quot;]</td><td>[&quot;Bundesregierung&quot;]</td><td>[{true,&quot;Gesetz zur Anpassung der Mindeststrafen des § 184b Absatz 1 Satz 1 und Absatz 3 des Strafgesetzbuches&quot;,&quot;Rechtsmaterialien&quot;}, {false,&quot;Gesetz zur Bekämpfung sexualisierter Gewalt gegen Kinder&quot;,&quot;Rechtsmaterialien&quot;}, … {false,&quot;Strafzumessung&quot;,&quot;Sachbegriffe&quot;}]</td><td>&quot;2024-03-25T13:28:46+01:00&quot;</td><td>&quot;Gesetz zur Anpassung der Mindeststrafen des § 184b Absatz 1 Satz 1 und Absatz 3 des Strafgesetzbuch…</td><td>&quot;2024-03-25&quot;</td><td>null</td></tr><tr><td>&quot;308700&quot;</td><td>&quot;Umsetzung von EU-Regelungen im Bereich der GAP betr. Einführung der sozialen Konditionalität zur En…</td><td>&quot;Dem Bundestag zugeleitet - Noch nicht beraten&quot;</td><td>&quot;Gesetzgebung&quot;</td><td>&quot;F017&quot;</td><td>null</td><td>[&quot;Landwirtschaft und Ernährung&quot;]</td><td>&quot;Vorgang&quot;</td><td>20</td><td>[&quot;Nein, laut Gesetzentwurf (Drs 70/24)&quot;]</td><td>[&quot;Bundesregierung&quot;]</td><td>[{true,&quot;Agrarsubvention&quot;,&quot;Sachbegriffe&quot;}, {false,&quot;Arbeits- und Sozialstandards&quot;,&quot;Sachbegriffe&quot;}, … {false,&quot;Verordnung der EU&quot;,&quot;Sachbegriffe&quot;}]</td><td>&quot;2024-03-25T15:21:09+01:00&quot;</td><td>&quot;Erstes Gesetz zur Änderung des GAP-Konditionalitäten-Gesetzes&quot;</td><td>&quot;2024-03-25&quot;</td><td>null</td></tr><tr><td>&quot;307621&quot;</td><td>&quot;Behebung struktureller Probleme im Bundeshaushalt und Einleitung der qualitativen Konsolidierung zu…</td><td>&quot;Bundesrat hat Vermittlungsausschuss nicht angerufen&quot;</td><td>&quot;Gesetzgebung&quot;</td><td>&quot;D056&quot;</td><td>null</td><td>[&quot;Öffentliche Finanzen, Steuern und Abgaben&quot;]</td><td>&quot;Vorgang&quot;</td><td>20</td><td>[&quot;Nein, laut Gesetzentwurf (Drs 20/9999)&quot;]</td><td>[&quot;Fraktion BÜNDNIS 90/DIE GRÜNEN&quot;, &quot;Fraktion der FDP&quot;, &quot;Fraktion der SPD&quot;]</td><td>[{false,&quot;Agrardiesel&quot;,&quot;Sachbegriffe&quot;}, {false,&quot;Arbeitslosenversicherung&quot;,&quot;Sachbegriffe&quot;}, … {false,&quot;Öffentliche Einnahmen&quot;,&quot;Sachbegriffe&quot;}]</td><td>&quot;2024-03-22T11:56:31+01:00&quot;</td><td>&quot;Zweites Haushaltsfinanzierungsgesetz 2024&quot;</td><td>&quot;2024-03-22&quot;</td><td>null</td></tr></tbody></table></div>"
      ],
      "text/plain": [
       "shape: (5, 16)\n",
       "┌────────┬────────────┬────────────┬───────────┬───┬───────────┬───────────┬───────────┬───────────┐\n",
       "│ id     ┆ abstract   ┆ beratungss ┆ vorgangst ┆ … ┆ aktualisi ┆ titel     ┆ datum     ┆ verkuendu │\n",
       "│ ---    ┆ ---        ┆ tand       ┆ yp        ┆   ┆ ert       ┆ ---       ┆ ---       ┆ ng        │\n",
       "│ str    ┆ str        ┆ ---        ┆ ---       ┆   ┆ ---       ┆ str       ┆ str       ┆ ---       │\n",
       "│        ┆            ┆ str        ┆ str       ┆   ┆ str       ┆           ┆           ┆ list[stru │\n",
       "│        ┆            ┆            ┆           ┆   ┆           ┆           ┆           ┆ ct[1]]    │\n",
       "╞════════╪════════════╪════════════╪═══════════╪═══╪═══════════╪═══════════╪═══════════╪═══════════╡\n",
       "│ 308776 ┆ Zustimmung ┆ Dem        ┆ Gesetzgeb ┆ … ┆ 2024-03-2 ┆ Gesetz zu ┆ 2024-03-2 ┆ null      │\n",
       "│        ┆ zu dem am  ┆ Bundestag  ┆ ung       ┆   ┆ 5T15:18:4 ┆ dem       ┆ 5         ┆           │\n",
       "│        ┆ 21. Juli   ┆ zugeleitet ┆           ┆   ┆ 0+01:00   ┆ Abkommen  ┆           ┆           │\n",
       "│        ┆ 2023 in    ┆ - Noch     ┆           ┆   ┆           ┆ vom 21.   ┆           ┆           │\n",
       "│        ┆ Lauterbour ┆ nicht      ┆           ┆   ┆           ┆ Juli 2023 ┆           ┆           │\n",
       "│        ┆ g unterzei ┆ beraten    ┆           ┆   ┆           ┆ zwischen  ┆           ┆           │\n",
       "│        ┆ chneten    ┆            ┆           ┆   ┆           ┆ der       ┆           ┆           │\n",
       "│        ┆ Abkommen:  ┆            ┆           ┆   ┆           ┆ Regierung ┆           ┆           │\n",
       "│        ┆ Standardis ┆            ┆           ┆   ┆           ┆ der Bunde ┆           ┆           │\n",
       "│        ┆ ierung     ┆            ┆           ┆   ┆           ┆ srepublik ┆           ┆           │\n",
       "│        ┆ grenzüb…   ┆            ┆           ┆   ┆           ┆ Deutschla ┆           ┆           │\n",
       "│        ┆            ┆            ┆           ┆   ┆           ┆ nd und d… ┆           ┆           │\n",
       "│ 308709 ┆ Zusammenfa ┆ Dem        ┆ Gesetzgeb ┆ … ┆ 2024-03-2 ┆ Gesetz    ┆ 2024-03-2 ┆ null      │\n",
       "│        ┆ ssung und  ┆ Bundestag  ┆ ung       ┆   ┆ 5T15:24:1 ┆ zur       ┆ 5         ┆           │\n",
       "│        ┆ anwendungs ┆ zugeleitet ┆           ┆   ┆ 0+01:00   ┆ Anwendung ┆           ┆           │\n",
       "│        ┆ bezogene   ┆ - Noch     ┆           ┆   ┆           ┆ des Mehrs ┆           ┆           │\n",
       "│        ┆ Konkretisi ┆ nicht      ┆           ┆   ┆           ┆ eitigen   ┆           ┆           │\n",
       "│        ┆ erung der  ┆ beraten    ┆           ┆   ┆           ┆ Übereinko ┆           ┆           │\n",
       "│        ┆ sich aus   ┆            ┆           ┆   ┆           ┆ mmens vom ┆           ┆           │\n",
       "│        ┆ der        ┆            ┆           ┆   ┆           ┆ 24.       ┆           ┆           │\n",
       "│        ┆ Anwendung  ┆            ┆           ┆   ┆           ┆ November  ┆           ┆           │\n",
       "│        ┆ des        ┆            ┆           ┆   ┆           ┆ 2016 und  ┆           ┆           │\n",
       "│        ┆ BEPS-MLI   ┆            ┆           ┆   ┆           ┆ zu        ┆           ┆           │\n",
       "│        ┆ ergeb…     ┆            ┆           ┆   ┆           ┆ weiteren  ┆           ┆           │\n",
       "│        ┆            ┆            ┆           ┆   ┆           ┆ Maßnahmen ┆           ┆           │\n",
       "│ 308703 ┆ Zur Sicher ┆ Überwiesen ┆ Gesetzgeb ┆ … ┆ 2024-03-2 ┆ Gesetz    ┆ 2024-03-2 ┆ null      │\n",
       "│        ┆ stellung   ┆            ┆ ung       ┆   ┆ 5T13:28:4 ┆ zur       ┆ 5         ┆           │\n",
       "│        ┆ einer tat- ┆            ┆           ┆   ┆ 6+01:00   ┆ Anpassung ┆           ┆           │\n",
       "│        ┆ und schuld ┆            ┆           ┆   ┆           ┆ der Minde ┆           ┆           │\n",
       "│        ┆ angemessen ┆            ┆           ┆   ┆           ┆ ststrafen ┆           ┆           │\n",
       "│        ┆ en         ┆            ┆           ┆   ┆           ┆ des §     ┆           ┆           │\n",
       "│        ┆ Reaktion   ┆            ┆           ┆   ┆           ┆ 184b      ┆           ┆           │\n",
       "│        ┆ im         ┆            ┆           ┆   ┆           ┆ Absatz 1  ┆           ┆           │\n",
       "│        ┆ Einzelfall ┆            ┆           ┆   ┆           ┆ Satz 1    ┆           ┆           │\n",
       "│        ┆ bei Fallko ┆            ┆           ┆   ┆           ┆ und       ┆           ┆           │\n",
       "│        ┆ nstellatio ┆            ┆           ┆   ┆           ┆ Absatz 3  ┆           ┆           │\n",
       "│        ┆ nen …      ┆            ┆           ┆   ┆           ┆ des Straf ┆           ┆           │\n",
       "│        ┆            ┆            ┆           ┆   ┆           ┆ gesetzbuc ┆           ┆           │\n",
       "│        ┆            ┆            ┆           ┆   ┆           ┆ he…       ┆           ┆           │\n",
       "│ 308700 ┆ Umsetzung  ┆ Dem        ┆ Gesetzgeb ┆ … ┆ 2024-03-2 ┆ Erstes    ┆ 2024-03-2 ┆ null      │\n",
       "│        ┆ von EU-Reg ┆ Bundestag  ┆ ung       ┆   ┆ 5T15:21:0 ┆ Gesetz    ┆ 5         ┆           │\n",
       "│        ┆ elungen im ┆ zugeleitet ┆           ┆   ┆ 9+01:00   ┆ zur       ┆           ┆           │\n",
       "│        ┆ Bereich    ┆ - Noch     ┆           ┆   ┆           ┆ Änderung  ┆           ┆           │\n",
       "│        ┆ der GAP    ┆ nicht      ┆           ┆   ┆           ┆ des GAP-K ┆           ┆           │\n",
       "│        ┆ betr.      ┆ beraten    ┆           ┆   ┆           ┆ onditiona ┆           ┆           │\n",
       "│        ┆ Einführung ┆            ┆           ┆   ┆           ┆ litäten-G ┆           ┆           │\n",
       "│        ┆ der        ┆            ┆           ┆   ┆           ┆ esetzes   ┆           ┆           │\n",
       "│        ┆ sozialen   ┆            ┆           ┆   ┆           ┆           ┆           ┆           │\n",
       "│        ┆ Konditiona ┆            ┆           ┆   ┆           ┆           ┆           ┆           │\n",
       "│        ┆ lität zur  ┆            ┆           ┆   ┆           ┆           ┆           ┆           │\n",
       "│        ┆ Ent…       ┆            ┆           ┆   ┆           ┆           ┆           ┆           │\n",
       "│ 307621 ┆ Behebung   ┆ Bundesrat  ┆ Gesetzgeb ┆ … ┆ 2024-03-2 ┆ Zweites   ┆ 2024-03-2 ┆ null      │\n",
       "│        ┆ strukturel ┆ hat Vermit ┆ ung       ┆   ┆ 2T11:56:3 ┆ Haushalts ┆ 2         ┆           │\n",
       "│        ┆ ler        ┆ tlungsauss ┆           ┆   ┆ 1+01:00   ┆ finanzier ┆           ┆           │\n",
       "│        ┆ Probleme   ┆ chuss      ┆           ┆   ┆           ┆ ungsgeset ┆           ┆           │\n",
       "│        ┆ im Bundesh ┆ nicht      ┆           ┆   ┆           ┆ z 2024    ┆           ┆           │\n",
       "│        ┆ aushalt    ┆ angerufen  ┆           ┆   ┆           ┆           ┆           ┆           │\n",
       "│        ┆ und        ┆            ┆           ┆   ┆           ┆           ┆           ┆           │\n",
       "│        ┆ Einleitung ┆            ┆           ┆   ┆           ┆           ┆           ┆           │\n",
       "│        ┆ der qualit ┆            ┆           ┆   ┆           ┆           ┆           ┆           │\n",
       "│        ┆ ativen Kon ┆            ┆           ┆   ┆           ┆           ┆           ┆           │\n",
       "│        ┆ solidierun ┆            ┆           ┆   ┆           ┆           ┆           ┆           │\n",
       "│        ┆ g zur…     ┆            ┆           ┆   ┆           ┆           ┆           ┆           │\n",
       "└────────┴────────────┴────────────┴───────────┴───┴───────────┴───────────┴───────────┴───────────┘"
      ]
     },
     "execution_count": 4,
     "metadata": {},
     "output_type": "execute_result"
    }
   ],
   "source": [
    "df_gesetze.head()"
   ]
  },
  {
   "cell_type": "code",
   "execution_count": 5,
   "id": "46f61414-9939-4423-910f-41db94f781c8",
   "metadata": {},
   "outputs": [],
   "source": [
    "df_gesetze = df_gesetze.join(df_vorgang_duration.select(['vorgang_id', 'vorgang_start']), left_on='id', right_on='vorgang_id', how='left')"
   ]
  },
  {
   "cell_type": "code",
   "execution_count": 6,
   "id": "89f4ca04-8678-4c2a-8be9-ef935ba42fe5",
   "metadata": {},
   "outputs": [],
   "source": [
    "today = date.today()\n",
    "df_gesetze = df_gesetze.with_columns(\n",
    "    pl.when(pl.col('beratungsstand') == 'Verkündet').then(\n",
    "        pl.col('verkuendung').list.eval(pl.col('').struct.field('verkuendungsdatum').str.to_date(format=\"%Y-%m-%d\")).list.min()\n",
    "    ).when(pl.col('beratungsstand') == 'Abgelehnt').then(\n",
    "        pl.col('datum').str.to_date(format=\"%Y-%m-%d\")\n",
    "    ).otherwise(today).alias('vorgang_end')\n",
    ")\n",
    "df_gesetze = df_gesetze.with_columns((pl.col('vorgang_end') - pl.col('vorgang_start')).dt.total_days().alias('vorgangsdauer'))"
   ]
  },
  {
   "cell_type": "code",
   "execution_count": 7,
   "id": "3c39d006-5656-4a1e-9cb8-f3d0fe5ab2b7",
   "metadata": {},
   "outputs": [],
   "source": [
    "reg_frag = ['Fraktion BÜNDNIS 90/DIE GRÜNEN', 'Fraktion der FDP', 'Fraktion der SPD']\n",
    "\n",
    "def fix_initiative(x):\n",
    "    return pl.when(x.list.set_intersection(reg_frag).len == len(reg_frag)).then(\n",
    "        x.list.set_difference(reg_frag)\n",
    "    ).otherwise(x)\n",
    "\n",
    "df_gesetze = df_gesetze.with_columns(pl.when(pl.col('initiative').list.set_intersection(reg_frag).list.len() == len(reg_frag)).then(\n",
    "        pl.col('initiative').list.set_difference(reg_frag).list.concat(pl.Series(['Bundesregierung']))\n",
    "    ).otherwise(pl.col('initiative')).alias('initiative'))"
   ]
  },
  {
   "cell_type": "code",
   "execution_count": 8,
   "id": "d497e172-3e80-46f3-a795-26dc0f720a69",
   "metadata": {},
   "outputs": [],
   "source": [
    "df_gesetze = df_gesetze.with_columns(pl.col('deskriptor').list.eval(pl.element().struct.field('name')).alias('keywords'))"
   ]
  },
  {
   "cell_type": "code",
   "execution_count": 9,
   "id": "2563ad5e-bd77-4fa3-bb9b-ceae20e8ae5e",
   "metadata": {},
   "outputs": [],
   "source": [
    "df_gesetze.select(pl.col(\"*\").exclude(\"abstract\", \"vorgangstyp\", \"gesta\", \"archiv\", \"typ\", \"deskriptor\")).write_json('gesetze.json', row_oriented=True)"
   ]
  },
  {
   "cell_type": "code",
   "execution_count": 10,
   "id": "eb76d5f4-c006-4278-8de0-73ce19e2048b",
   "metadata": {},
   "outputs": [
    {
     "data": {
      "text/html": [
       "<div><style>\n",
       ".dataframe > thead > tr,\n",
       ".dataframe > tbody > tr {\n",
       "  text-align: right;\n",
       "  white-space: pre-wrap;\n",
       "}\n",
       "</style>\n",
       "<small>shape: (8, 3)</small><table border=\"1\" class=\"dataframe\"><thead><tr><th>break_point</th><th>category</th><th>vorgangsdauer_count</th></tr><tr><td>f64</td><td>cat</td><td>u32</td></tr></thead><tbody><tr><td>7.0</td><td>&quot;(-inf, 7.0]&quot;</td><td>1</td></tr><tr><td>14.0</td><td>&quot;(7.0, 14.0]&quot;</td><td>3</td></tr><tr><td>30.0</td><td>&quot;(14.0, 30.0]&quot;</td><td>19</td></tr><tr><td>60.0</td><td>&quot;(30.0, 60.0]&quot;</td><td>22</td></tr><tr><td>120.0</td><td>&quot;(60.0, 120.0]&quot;</td><td>70</td></tr><tr><td>240.0</td><td>&quot;(120.0, 240.0]&quot;</td><td>103</td></tr><tr><td>365.0</td><td>&quot;(240.0, 365.0]&quot;</td><td>5</td></tr><tr><td>inf</td><td>&quot;(365.0, inf]&quot;</td><td>1</td></tr></tbody></table></div>"
      ],
      "text/plain": [
       "shape: (8, 3)\n",
       "┌─────────────┬────────────────┬─────────────────────┐\n",
       "│ break_point ┆ category       ┆ vorgangsdauer_count │\n",
       "│ ---         ┆ ---            ┆ ---                 │\n",
       "│ f64         ┆ cat            ┆ u32                 │\n",
       "╞═════════════╪════════════════╪═════════════════════╡\n",
       "│ 7.0         ┆ (-inf, 7.0]    ┆ 1                   │\n",
       "│ 14.0        ┆ (7.0, 14.0]    ┆ 3                   │\n",
       "│ 30.0        ┆ (14.0, 30.0]   ┆ 19                  │\n",
       "│ 60.0        ┆ (30.0, 60.0]   ┆ 22                  │\n",
       "│ 120.0       ┆ (60.0, 120.0]  ┆ 70                  │\n",
       "│ 240.0       ┆ (120.0, 240.0] ┆ 103                 │\n",
       "│ 365.0       ┆ (240.0, 365.0] ┆ 5                   │\n",
       "│ inf         ┆ (365.0, inf]   ┆ 1                   │\n",
       "└─────────────┴────────────────┴─────────────────────┘"
      ]
     },
     "execution_count": 10,
     "metadata": {},
     "output_type": "execute_result"
    }
   ],
   "source": [
    "df_gesetze_public = df_gesetze.filter(pl.col('beratungsstand') == 'Verkündet')\n",
    "bins = [7, 14, 30, 60, 120, 240, 365]\n",
    "duration_bin = np.digitize(df_gesetze_public.select('vorgangsdauer').to_series(), bins, right=True)\n",
    "df_gesetze_public.select('vorgangsdauer').to_series().hist(bins)"
   ]
  },
  {
   "cell_type": "code",
   "execution_count": 11,
   "id": "f64505de-ecb2-42fa-b269-8f304acebfe2",
   "metadata": {},
   "outputs": [
    {
     "data": {
      "text/html": [
       "<div><style>\n",
       ".dataframe > thead > tr,\n",
       ".dataframe > tbody > tr {\n",
       "  text-align: right;\n",
       "  white-space: pre-wrap;\n",
       "}\n",
       "</style>\n",
       "<small>shape: (1, 21)</small><table border=\"1\" class=\"dataframe\"><thead><tr><th>id</th><th>abstract</th><th>beratungsstand</th><th>vorgangstyp</th><th>gesta</th><th>archiv</th><th>sachgebiet</th><th>typ</th><th>wahlperiode</th><th>zustimmungsbeduerftigkeit</th><th>initiative</th><th>deskriptor</th><th>aktualisiert</th><th>titel</th><th>datum</th><th>verkuendung</th><th>vorgang_start</th><th>vorgang_end</th><th>vorgangsdauer</th><th>keywords</th><th>duration_bin</th></tr><tr><td>str</td><td>str</td><td>str</td><td>str</td><td>str</td><td>str</td><td>list[str]</td><td>str</td><td>u64</td><td>list[str]</td><td>list[str]</td><td>list[struct[3]]</td><td>str</td><td>str</td><td>str</td><td>list[struct[1]]</td><td>date</td><td>date</td><td>i64</td><td>list[str]</td><td>i64</td></tr></thead><tbody><tr><td>&quot;283063&quot;</td><td>&quot;Impfpflicht gegen COVID-19 bzw. Nachweis über Genesung oder Kontraindikation für Beschäftigte besti…</td><td>&quot;Verkündet&quot;</td><td>&quot;Gesetzgebung&quot;</td><td>&quot;M002&quot;</td><td>&quot;XX/2&quot;</td><td>[&quot;Gesundheit&quot;]</td><td>&quot;Vorgang&quot;</td><td>20</td><td>[&quot;Ja, laut Gesetzentwurf (Drs 20/188)&quot;, &quot;Ja, laut Verkündung (BGBl I)&quot;]</td><td>[&quot;Bundesregierung&quot;]</td><td>[{false,&quot;Apotheker&quot;,&quot;Sachbegriffe&quot;}, {false,&quot;Arbeitnehmer-Entsendegesetz&quot;,&quot;Rechtsmaterialien&quot;}, … {false,&quot;Zahnarzt&quot;,&quot;Sachbegriffe&quot;}]</td><td>&quot;2022-07-26T19:57:25+02:00&quot;</td><td>&quot;Gesetz zur Stärkung der Impfprävention gegen COVID-19 und zur Änderung weiterer Vorschriften im Zus…</td><td>&quot;2021-12-10&quot;</td><td>[{&quot;2021-12-11&quot;}]</td><td>2021-12-06</td><td>2021-12-11</td><td>5</td><td>[&quot;Apotheker&quot;, &quot;Arbeitnehmer-Entsendegesetz&quot;, … &quot;Zahnarzt&quot;]</td><td>0</td></tr></tbody></table></div>"
      ],
      "text/plain": [
       "shape: (1, 21)\n",
       "┌────────┬────────────┬────────────┬───────────┬───┬───────────┬───────────┬───────────┬───────────┐\n",
       "│ id     ┆ abstract   ┆ beratungss ┆ vorgangst ┆ … ┆ vorgang_e ┆ vorgangsd ┆ keywords  ┆ duration_ │\n",
       "│ ---    ┆ ---        ┆ tand       ┆ yp        ┆   ┆ nd        ┆ auer      ┆ ---       ┆ bin       │\n",
       "│ str    ┆ str        ┆ ---        ┆ ---       ┆   ┆ ---       ┆ ---       ┆ list[str] ┆ ---       │\n",
       "│        ┆            ┆ str        ┆ str       ┆   ┆ date      ┆ i64       ┆           ┆ i64       │\n",
       "╞════════╪════════════╪════════════╪═══════════╪═══╪═══════════╪═══════════╪═══════════╪═══════════╡\n",
       "│ 283063 ┆ Impfpflich ┆ Verkündet  ┆ Gesetzgeb ┆ … ┆ 2021-12-1 ┆ 5         ┆ [\"Apothek ┆ 0         │\n",
       "│        ┆ t gegen    ┆            ┆ ung       ┆   ┆ 1         ┆           ┆ er\", \"Arb ┆           │\n",
       "│        ┆ COVID-19   ┆            ┆           ┆   ┆           ┆           ┆ eitnehmer ┆           │\n",
       "│        ┆ bzw.       ┆            ┆           ┆   ┆           ┆           ┆ -Entsende ┆           │\n",
       "│        ┆ Nachweis   ┆            ┆           ┆   ┆           ┆           ┆ gesetz\",  ┆           │\n",
       "│        ┆ über       ┆            ┆           ┆   ┆           ┆           ┆ … \"Zahnar ┆           │\n",
       "│        ┆ Genesung   ┆            ┆           ┆   ┆           ┆           ┆ zt\"]      ┆           │\n",
       "│        ┆ oder Kontr ┆            ┆           ┆   ┆           ┆           ┆           ┆           │\n",
       "│        ┆ aindikatio ┆            ┆           ┆   ┆           ┆           ┆           ┆           │\n",
       "│        ┆ n für Besc ┆            ┆           ┆   ┆           ┆           ┆           ┆           │\n",
       "│        ┆ häftigte   ┆            ┆           ┆   ┆           ┆           ┆           ┆           │\n",
       "│        ┆ bestim…    ┆            ┆           ┆   ┆           ┆           ┆           ┆           │\n",
       "└────────┴────────────┴────────────┴───────────┴───┴───────────┴───────────┴───────────┴───────────┘"
      ]
     },
     "execution_count": 11,
     "metadata": {},
     "output_type": "execute_result"
    }
   ],
   "source": [
    "df_gesetze_public_bins = df_gesetze_public.with_columns(pl.from_numpy(duration_bin, schema=['duration_bin']))\n",
    "df_gesetze_public_bins.filter(pl.col('duration_bin') == pl.col('duration_bin').min())"
   ]
  },
  {
   "cell_type": "code",
   "execution_count": 12,
   "id": "aed89740-24dc-4fc5-9508-4d65baee2f2a",
   "metadata": {},
   "outputs": [
    {
     "data": {
      "text/html": [
       "<div><style>\n",
       ".dataframe > thead > tr,\n",
       ".dataframe > tbody > tr {\n",
       "  text-align: right;\n",
       "  white-space: pre-wrap;\n",
       "}\n",
       "</style>\n",
       "<small>shape: (1, 21)</small><table border=\"1\" class=\"dataframe\"><thead><tr><th>id</th><th>abstract</th><th>beratungsstand</th><th>vorgangstyp</th><th>gesta</th><th>archiv</th><th>sachgebiet</th><th>typ</th><th>wahlperiode</th><th>zustimmungsbeduerftigkeit</th><th>initiative</th><th>deskriptor</th><th>aktualisiert</th><th>titel</th><th>datum</th><th>verkuendung</th><th>vorgang_start</th><th>vorgang_end</th><th>vorgangsdauer</th><th>keywords</th><th>duration_bin</th></tr><tr><td>str</td><td>str</td><td>str</td><td>str</td><td>str</td><td>str</td><td>list[str]</td><td>str</td><td>u64</td><td>list[str]</td><td>list[str]</td><td>list[struct[3]]</td><td>str</td><td>str</td><td>str</td><td>list[struct[1]]</td><td>date</td><td>date</td><td>i64</td><td>list[str]</td><td>i64</td></tr></thead><tbody><tr><td>&quot;297317&quot;</td><td>null</td><td>&quot;Verkündet&quot;</td><td>&quot;Gesetzgebung&quot;</td><td>&quot;XB002&quot;</td><td>&quot;XX/225&quot;</td><td>[&quot;Europapolitik und Europäische Union&quot;]</td><td>&quot;Vorgang&quot;</td><td>20</td><td>[&quot;Ja, laut Gesetzentwurf (Drs 104/23)&quot;, &quot;Ja, laut Verkündung (BGBl II)&quot;]</td><td>[&quot;Bundesregierung&quot;]</td><td>[{false,&quot;Europawahl&quot;,&quot;Sachbegriffe&quot;}, {false,&quot;Europäisches Parlament&quot;,&quot;Institutionen&quot;}, {false,&quot;Sperrklausel&quot;,&quot;Sachbegriffe&quot;}]</td><td>&quot;2024-03-13T16:36:41+01:00&quot;</td><td>&quot;Gesetz zu dem Beschluss (EU, Euratom) 2018/994 des Rates der Europäischen Union vom 13. Juli 2018 z…</td><td>&quot;2023-07-07&quot;</td><td>[{&quot;2024-03-13&quot;}]</td><td>2023-03-10</td><td>2024-03-13</td><td>369</td><td>[&quot;Europawahl&quot;, &quot;Europäisches Parlament&quot;, &quot;Sperrklausel&quot;]</td><td>7</td></tr></tbody></table></div>"
      ],
      "text/plain": [
       "shape: (1, 21)\n",
       "┌────────┬──────────┬────────────┬────────────┬───┬────────────┬───────────┬───────────┬───────────┐\n",
       "│ id     ┆ abstract ┆ beratungss ┆ vorgangsty ┆ … ┆ vorgang_en ┆ vorgangsd ┆ keywords  ┆ duration_ │\n",
       "│ ---    ┆ ---      ┆ tand       ┆ p          ┆   ┆ d          ┆ auer      ┆ ---       ┆ bin       │\n",
       "│ str    ┆ str      ┆ ---        ┆ ---        ┆   ┆ ---        ┆ ---       ┆ list[str] ┆ ---       │\n",
       "│        ┆          ┆ str        ┆ str        ┆   ┆ date       ┆ i64       ┆           ┆ i64       │\n",
       "╞════════╪══════════╪════════════╪════════════╪═══╪════════════╪═══════════╪═══════════╪═══════════╡\n",
       "│ 297317 ┆ null     ┆ Verkündet  ┆ Gesetzgebu ┆ … ┆ 2024-03-13 ┆ 369       ┆ [\"Europaw ┆ 7         │\n",
       "│        ┆          ┆            ┆ ng         ┆   ┆            ┆           ┆ ahl\", \"Eu ┆           │\n",
       "│        ┆          ┆            ┆            ┆   ┆            ┆           ┆ ropäische ┆           │\n",
       "│        ┆          ┆            ┆            ┆   ┆            ┆           ┆ s Parlame ┆           │\n",
       "│        ┆          ┆            ┆            ┆   ┆            ┆           ┆ nt\", \"Spe ┆           │\n",
       "│        ┆          ┆            ┆            ┆   ┆            ┆           ┆ rrklausel ┆           │\n",
       "│        ┆          ┆            ┆            ┆   ┆            ┆           ┆ \"]        ┆           │\n",
       "└────────┴──────────┴────────────┴────────────┴───┴────────────┴───────────┴───────────┴───────────┘"
      ]
     },
     "execution_count": 12,
     "metadata": {},
     "output_type": "execute_result"
    }
   ],
   "source": [
    "df_gesetze_public_bins.filter(pl.col('duration_bin') == pl.col('duration_bin').max())"
   ]
  }
 ],
 "metadata": {
  "kernelspec": {
   "display_name": "Python 3 (ipykernel)",
   "language": "python",
   "name": "python3"
  },
  "language_info": {
   "codemirror_mode": {
    "name": "ipython",
    "version": 3
   },
   "file_extension": ".py",
   "mimetype": "text/x-python",
   "name": "python",
   "nbconvert_exporter": "python",
   "pygments_lexer": "ipython3",
   "version": "3.11.6"
  }
 },
 "nbformat": 4,
 "nbformat_minor": 5
}
