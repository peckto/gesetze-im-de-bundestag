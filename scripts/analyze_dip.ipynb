{
 "cells": [
  {
   "cell_type": "code",
   "execution_count": 1,
   "id": "97ad2d24-a37c-4fc7-a95e-6876c49b062c",
   "metadata": {},
   "outputs": [
    {
     "name": "stderr",
     "output_type": "stream",
     "text": [
      "[nltk_data] Downloading package stopwords to /home/tobias/nltk_data...\n",
      "[nltk_data]   Package stopwords is already up-to-date!\n"
     ]
    },
    {
     "data": {
      "text/plain": [
       "True"
      ]
     },
     "execution_count": 1,
     "metadata": {},
     "output_type": "execute_result"
    }
   ],
   "source": [
    "import json\n",
    "import time\n",
    "import re\n",
    "import urllib\n",
    "from datetime import date\n",
    "import polars as pl\n",
    "import numpy as np\n",
    "import textdistance as td\n",
    "import requests\n",
    "from bs4 import BeautifulSoup\n",
    "import nltk\n",
    "from nltk.stem.cistem import Cistem\n",
    "from nltk.corpus import stopwords\n",
    "nltk.download('stopwords')"
   ]
  },
  {
   "cell_type": "code",
   "execution_count": 2,
   "id": "0c6ce133-86f6-4a87-ae73-862b46ed4554",
   "metadata": {},
   "outputs": [
    {
     "data": {
      "text/html": [
       "<div><style>\n",
       ".dataframe > thead > tr,\n",
       ".dataframe > tbody > tr {\n",
       "  text-align: right;\n",
       "  white-space: pre-wrap;\n",
       "}\n",
       "</style>\n",
       "<small>shape: (22,)</small><table border=\"1\" class=\"dataframe\"><thead><tr><th>beratungsstand</th></tr><tr><td>str</td></tr></thead><tbody><tr><td>&quot;1. Durchgang im Bundesrat abgeschlossen&quot;</td></tr><tr><td>&quot;Zusammengeführt mit... (siehe Vorgangsablauf)&quot;</td></tr><tr><td>&quot;Verabschiedet&quot;</td></tr><tr><td>&quot;Für erledigt erklärt&quot;</td></tr><tr><td>&quot;Überwiesen&quot;</td></tr><tr><td>&quot;Verkündet&quot;</td></tr><tr><td>&quot;Den Ausschüssen zugewiesen&quot;</td></tr><tr><td>&quot;Im Vermittlungsverfahren&quot;</td></tr><tr><td>&quot;Noch nicht beraten&quot;</td></tr><tr><td>&quot;Zurückgezogen&quot;</td></tr><tr><td>&quot;Beschlussempfehlung liegt vor&quot;</td></tr><tr><td>&quot;Bundesrat hat Vermittlungsausschuss nicht angerufen&quot;</td></tr><tr><td>&quot;Dem Bundestag zugeleitet - Noch nicht beraten&quot;</td></tr><tr><td>&quot;Einbringung beschlossen&quot;</td></tr><tr><td>&quot;Abgeschlossen - Ergebnis siehe Vorgangsablauf&quot;</td></tr><tr><td>&quot;Für mit dem Grundgesetz unvereinbar erklärt&quot;</td></tr><tr><td>&quot;Bundesrat hat Zustimmung versagt&quot;</td></tr><tr><td>&quot;Einbringung abgelehnt&quot;</td></tr><tr><td>&quot;Dem Bundesrat zugeleitet - Noch nicht beraten&quot;</td></tr><tr><td>&quot;Abgeschlossen&quot;</td></tr><tr><td>&quot;Abgelehnt&quot;</td></tr><tr><td>&quot;Bundesrat hat zugestimmt&quot;</td></tr></tbody></table></div>"
      ],
      "text/plain": [
       "shape: (22,)\n",
       "Series: 'beratungsstand' [str]\n",
       "[\n",
       "\t\"1. Durchgang im Bundesrat abgeschlossen\"\n",
       "\t\"Zusammengeführt mit... (siehe Vorgangsablauf)\"\n",
       "\t\"Verabschiedet\"\n",
       "\t\"Für erledigt erklärt\"\n",
       "\t\"Überwiesen\"\n",
       "\t\"Verkündet\"\n",
       "\t\"Den Ausschüssen zugewiesen\"\n",
       "\t\"Im Vermittlungsverfahren\"\n",
       "\t\"Noch nicht beraten\"\n",
       "\t\"Zurückgezogen\"\n",
       "\t\"Beschlussempfehlung liegt vor\"\n",
       "\t\"Bundesrat hat Vermittlungsausschuss nicht angerufen\"\n",
       "\t\"Dem Bundestag zugeleitet - Noch nicht beraten\"\n",
       "\t\"Einbringung beschlossen\"\n",
       "\t\"Abgeschlossen - Ergebnis siehe Vorgangsablauf\"\n",
       "\t\"Für mit dem Grundgesetz unvereinbar erklärt\"\n",
       "\t\"Bundesrat hat Zustimmung versagt\"\n",
       "\t\"Einbringung abgelehnt\"\n",
       "\t\"Dem Bundesrat zugeleitet - Noch nicht beraten\"\n",
       "\t\"Abgeschlossen\"\n",
       "\t\"Abgelehnt\"\n",
       "\t\"Bundesrat hat zugestimmt\"\n",
       "]"
      ]
     },
     "execution_count": 2,
     "metadata": {},
     "output_type": "execute_result"
    }
   ],
   "source": [
    "schema={\n",
    "    'id': pl.Utf8,\n",
    "    'abstract': pl.Utf8,\n",
    "    'beratungsstand': pl.Utf8,\n",
    "    'vorgangstyp': pl.Utf8,\n",
    "    'gesta': pl.Utf8,\n",
    "    'archiv': pl.Utf8,\n",
    "    'sachgebiet': pl.List(pl.Utf8),\n",
    "    'typ': pl.Utf8,\n",
    "    'wahlperiode': pl.UInt64,\n",
    "    'zustimmungsbeduerftigkeit': pl.List(pl.Utf8),\n",
    "    'initiative': pl.List(pl.Utf8),\n",
    "    'deskriptor': pl.List(pl.Struct([\n",
    "        pl.Field('fundstelle', pl.Boolean),\n",
    "        pl.Field('name', pl.Utf8),\n",
    "        pl.Field('typ', pl.Utf8),\n",
    "    ])),\n",
    "    'aktualisiert': pl.Utf8,\n",
    "    'titel': pl.Utf8,\n",
    "    'datum': pl.Utf8,\n",
    "    'verkuendung': pl.List(pl.Struct([\n",
    "        pl.Field('verkuendungsdatum', pl.Utf8)\n",
    "    ]))\n",
    "}\n",
    "df_vorgang = pl.DataFrame(json.load(open('vorgang.json', encoding='utf-8')), schema=schema)\n",
    "df_gesetze = df_vorgang.filter(pl.col('vorgangstyp') == 'Gesetzgebung')\n",
    "pl.Config(fmt_str_lengths=100)\n",
    "df_gesetze['beratungsstand'].unique()"
   ]
  },
  {
   "cell_type": "code",
   "execution_count": 3,
   "id": "df422da7-434d-407b-99d5-d846824b3ec8",
   "metadata": {},
   "outputs": [],
   "source": [
    "df_vorgangspos = pl.read_json('vorgangsposition.json')\n",
    "df_vorgangspos = df_vorgangspos.with_columns(\n",
    "   pl.col(\"datum\").str.to_date(format=\"%Y-%m-%d\")\n",
    ")\n",
    "df_vorgangspos_gesetzgebung = df_vorgangspos.filter((pl.col('vorgangstyp') == 'Gesetzgebung') & (pl.col('typ') == 'Vorgangsposition'))\n",
    "df_vorgang_duration = df_vorgangspos_gesetzgebung.group_by(['vorgang_id']).agg([\n",
    "    pl.col('datum').min().alias('vorgang_start'), \n",
    "])"
   ]
  },
  {
   "cell_type": "code",
   "execution_count": 4,
   "id": "7d9a7b0e-e1d9-491a-bf8d-bce622d6594f",
   "metadata": {},
   "outputs": [
    {
     "data": {
      "text/html": [
       "<div><style>\n",
       ".dataframe > thead > tr,\n",
       ".dataframe > tbody > tr {\n",
       "  text-align: right;\n",
       "  white-space: pre-wrap;\n",
       "}\n",
       "</style>\n",
       "<small>shape: (5, 16)</small><table border=\"1\" class=\"dataframe\"><thead><tr><th>id</th><th>abstract</th><th>beratungsstand</th><th>vorgangstyp</th><th>gesta</th><th>archiv</th><th>sachgebiet</th><th>typ</th><th>wahlperiode</th><th>zustimmungsbeduerftigkeit</th><th>initiative</th><th>deskriptor</th><th>aktualisiert</th><th>titel</th><th>datum</th><th>verkuendung</th></tr><tr><td>str</td><td>str</td><td>str</td><td>str</td><td>str</td><td>str</td><td>list[str]</td><td>str</td><td>u64</td><td>list[str]</td><td>list[str]</td><td>list[struct[3]]</td><td>str</td><td>str</td><td>str</td><td>list[struct[1]]</td></tr></thead><tbody><tr><td>&quot;314435&quot;</td><td>&quot;Verbesserung des Schutzes von Vollstreckungsbeamten und gleichgestellten Personen sowie von Hilfskr…</td><td>&quot;Dem Bundesrat zugeleitet - Noch nicht beraten&quot;</td><td>&quot;Gesetzgebung&quot;</td><td>&quot;C108&quot;</td><td>null</td><td>[&quot;Innere Sicherheit&quot;, &quot;Recht&quot;]</td><td>&quot;Vorgang&quot;</td><td>20</td><td>[&quot;Nein, laut Gesetzesantrag (Drs 343/34)&quot;]</td><td>[&quot;Hessen&quot;]</td><td>[{false,&quot;Behinderung von Rettungskräften&quot;,&quot;Freier Deskriptor&quot;}, {false,&quot;Bundeswehrangehöriger&quot;,&quot;Sachbegriffe&quot;}, … {true,&quot;Widerstand gegen die Staatsgewalt&quot;,&quot;Sachbegriffe&quot;}]</td><td>&quot;2024-07-30T11:45:46+02:00&quot;</td><td>&quot;Gesetz zum Schutz von Vollstreckungsbeamten und ihnen gleichgestellten Personen&quot;</td><td>&quot;2024-07-25&quot;</td><td>null</td></tr><tr><td>&quot;312310&quot;</td><td>null</td><td>&quot;Dem Bundestag zugeleitet - Noch nicht beraten&quot;</td><td>&quot;Gesetzgebung&quot;</td><td>&quot;O003&quot;</td><td>null</td><td>[&quot;Kultur&quot;]</td><td>&quot;Vorgang&quot;</td><td>20</td><td>[&quot;Ja, laut Gesetzentwurf (Drs 239/24)&quot;]</td><td>[&quot;Bundesregierung&quot;]</td><td>[{false,&quot;Ausfuhr&quot;,&quot;Sachbegriffe&quot;}, {false,&quot;Beauftragter der Bundesregierung für Kultur und Medien&quot;,&quot;Institutionen&quot;}, … {false,&quot;Zuständigkeit&quot;,&quot;Sachbegriffe&quot;}]</td><td>&quot;2024-07-25T10:34:11+02:00&quot;</td><td>&quot;Erstes Gesetz zur Änderung des Kulturgutschutzgesetzes (KGSGÄndG)&quot;</td><td>&quot;2024-07-24&quot;</td><td>null</td></tr><tr><td>&quot;312306&quot;</td><td>&quot;&lt;strong&gt;Anpassung an aktuelle Entwicklungen bei Elektromobilität, Stromspeicherung, Stromerzeugung …</td><td>&quot;Dem Bundestag zugeleitet - Noch nicht beraten&quot;</td><td>&quot;Gesetzgebung&quot;</td><td>&quot;D059&quot;</td><td>null</td><td>[&quot;Energie&quot;, &quot;Öffentliche Finanzen, Steuern und Abgaben&quot;]</td><td>&quot;Vorgang&quot;</td><td>20</td><td>[&quot;Nein, laut Gesetzentwurf (Drs 232/24)&quot;]</td><td>[&quot;Bundesregierung&quot;]</td><td>[{false,&quot;Bürokratie&quot;,&quot;Sachbegriffe&quot;}, {false,&quot;Elektrizitätserzeugung&quot;,&quot;Sachbegriffe&quot;}, … {false,&quot;Verordnung der EU&quot;,&quot;Sachbegriffe&quot;}]</td><td>&quot;2024-07-25T10:56:09+02:00&quot;</td><td>&quot;Gesetz zur Modernisierung und zum Bürokratieabbau im Strom- und Energiesteuerrecht&quot;</td><td>&quot;2024-07-24&quot;</td><td>null</td></tr><tr><td>&quot;312280&quot;</td><td>null</td><td>&quot;Dem Bundestag zugeleitet - Noch nicht beraten&quot;</td><td>&quot;Gesetzgebung&quot;</td><td>&quot;B070&quot;</td><td>null</td><td>[&quot;Innere Sicherheit&quot;, &quot;Medien, Kommunikation und Informationstechnik&quot;, &quot;Staat und Verwaltung&quot;]</td><td>&quot;Vorgang&quot;</td><td>20</td><td>[&quot;Ja, laut Gesetzentwurf (Drs 236/24)&quot;]</td><td>[&quot;Bundesregierung&quot;]</td><td>[{false,&quot;Abgeordneter&quot;,&quot;Sachbegriffe&quot;}, {false,&quot;Auskunfterteilung&quot;,&quot;Sachbegriffe&quot;}, … {false,&quot;Zweite Bundesmeldedatenübermittlungsverordnung&quot;,&quot;Rechtsmaterialien&quot;}]</td><td>&quot;2024-07-24T15:43:02+02:00&quot;</td><td>&quot;Drittes Gesetz zur Änderung des Bundesmeldegesetzes (3. BMGÄndG)&quot;</td><td>&quot;2024-07-24&quot;</td><td>null</td></tr><tr><td>&quot;314138&quot;</td><td>null</td><td>&quot;Dem Bundesrat zugeleitet - Noch nicht beraten&quot;</td><td>&quot;Gesetzgebung&quot;</td><td>&quot;G029&quot;</td><td>null</td><td>[&quot;Soziale Sicherung&quot;]</td><td>&quot;Vorgang&quot;</td><td>20</td><td>[&quot;Ja, laut Gesetzesantrag (Drs 333/24)&quot;]</td><td>[&quot;Bayern&quot;]</td><td>[{false,&quot;Bundesmittel&quot;,&quot;Sachbegriffe&quot;}, {false,&quot;Energiepreis&quot;,&quot;Sachbegriffe&quot;}, … {false,&quot;Verpflegung&quot;,&quot;Sachbegriffe&quot;}]</td><td>&quot;2024-07-23T16:47:34+02:00&quot;</td><td>&quot;... Gesetz zur Änderung des Zwölften Buches Sozialgesetzbuch&quot;</td><td>&quot;2024-07-17&quot;</td><td>null</td></tr></tbody></table></div>"
      ],
      "text/plain": [
       "shape: (5, 16)\n",
       "┌────────┬────────────┬────────────┬───────────┬───┬───────────┬───────────┬───────────┬───────────┐\n",
       "│ id     ┆ abstract   ┆ beratungss ┆ vorgangst ┆ … ┆ aktualisi ┆ titel     ┆ datum     ┆ verkuendu │\n",
       "│ ---    ┆ ---        ┆ tand       ┆ yp        ┆   ┆ ert       ┆ ---       ┆ ---       ┆ ng        │\n",
       "│ str    ┆ str        ┆ ---        ┆ ---       ┆   ┆ ---       ┆ str       ┆ str       ┆ ---       │\n",
       "│        ┆            ┆ str        ┆ str       ┆   ┆ str       ┆           ┆           ┆ list[stru │\n",
       "│        ┆            ┆            ┆           ┆   ┆           ┆           ┆           ┆ ct[1]]    │\n",
       "╞════════╪════════════╪════════════╪═══════════╪═══╪═══════════╪═══════════╪═══════════╪═══════════╡\n",
       "│ 314435 ┆ Verbesseru ┆ Dem        ┆ Gesetzgeb ┆ … ┆ 2024-07-3 ┆ Gesetz    ┆ 2024-07-2 ┆ null      │\n",
       "│        ┆ ng des     ┆ Bundesrat  ┆ ung       ┆   ┆ 0T11:45:4 ┆ zum       ┆ 5         ┆           │\n",
       "│        ┆ Schutzes   ┆ zugeleitet ┆           ┆   ┆ 6+02:00   ┆ Schutz    ┆           ┆           │\n",
       "│        ┆ von Vollst ┆ - Noch     ┆           ┆   ┆           ┆ von Volls ┆           ┆           │\n",
       "│        ┆ reckungsbe ┆ nicht      ┆           ┆   ┆           ┆ treckungs ┆           ┆           │\n",
       "│        ┆ amten und  ┆ beraten    ┆           ┆   ┆           ┆ beamten   ┆           ┆           │\n",
       "│        ┆ gleichgest ┆            ┆           ┆   ┆           ┆ und ihnen ┆           ┆           │\n",
       "│        ┆ ellten     ┆            ┆           ┆   ┆           ┆ gleichges ┆           ┆           │\n",
       "│        ┆ Personen   ┆            ┆           ┆   ┆           ┆ tellten   ┆           ┆           │\n",
       "│        ┆ sowie von  ┆            ┆           ┆   ┆           ┆ Personen  ┆           ┆           │\n",
       "│        ┆ Hilfskrä…  ┆            ┆           ┆   ┆           ┆           ┆           ┆           │\n",
       "│ 312310 ┆ null       ┆ Dem        ┆ Gesetzgeb ┆ … ┆ 2024-07-2 ┆ Erstes    ┆ 2024-07-2 ┆ null      │\n",
       "│        ┆            ┆ Bundestag  ┆ ung       ┆   ┆ 5T10:34:1 ┆ Gesetz    ┆ 4         ┆           │\n",
       "│        ┆            ┆ zugeleitet ┆           ┆   ┆ 1+02:00   ┆ zur       ┆           ┆           │\n",
       "│        ┆            ┆ - Noch     ┆           ┆   ┆           ┆ Änderung  ┆           ┆           │\n",
       "│        ┆            ┆ nicht      ┆           ┆   ┆           ┆ des Kultu ┆           ┆           │\n",
       "│        ┆            ┆ beraten    ┆           ┆   ┆           ┆ rgutschut ┆           ┆           │\n",
       "│        ┆            ┆            ┆           ┆   ┆           ┆ zgesetzes ┆           ┆           │\n",
       "│        ┆            ┆            ┆           ┆   ┆           ┆ (KGSGÄndG ┆           ┆           │\n",
       "│        ┆            ┆            ┆           ┆   ┆           ┆ )         ┆           ┆           │\n",
       "│ 312306 ┆ <strong>An ┆ Dem        ┆ Gesetzgeb ┆ … ┆ 2024-07-2 ┆ Gesetz    ┆ 2024-07-2 ┆ null      │\n",
       "│        ┆ passung an ┆ Bundestag  ┆ ung       ┆   ┆ 5T10:56:0 ┆ zur Moder ┆ 4         ┆           │\n",
       "│        ┆ aktuelle   ┆ zugeleitet ┆           ┆   ┆ 9+02:00   ┆ nisierung ┆           ┆           │\n",
       "│        ┆ Entwicklun ┆ - Noch     ┆           ┆   ┆           ┆ und zum   ┆           ┆           │\n",
       "│        ┆ gen bei    ┆ nicht      ┆           ┆   ┆           ┆ Bürokrati ┆           ┆           │\n",
       "│        ┆ Elektromob ┆ beraten    ┆           ┆   ┆           ┆ eabbau im ┆           ┆           │\n",
       "│        ┆ ilität,    ┆            ┆           ┆   ┆           ┆ Strom-    ┆           ┆           │\n",
       "│        ┆ Stromspeic ┆            ┆           ┆   ┆           ┆ und Energ ┆           ┆           │\n",
       "│        ┆ herung,    ┆            ┆           ┆   ┆           ┆ iesteuerr ┆           ┆           │\n",
       "│        ┆ Stromerzeu ┆            ┆           ┆   ┆           ┆ echt      ┆           ┆           │\n",
       "│        ┆ gung a…    ┆            ┆           ┆   ┆           ┆           ┆           ┆           │\n",
       "│ 312280 ┆ null       ┆ Dem        ┆ Gesetzgeb ┆ … ┆ 2024-07-2 ┆ Drittes   ┆ 2024-07-2 ┆ null      │\n",
       "│        ┆            ┆ Bundestag  ┆ ung       ┆   ┆ 4T15:43:0 ┆ Gesetz    ┆ 4         ┆           │\n",
       "│        ┆            ┆ zugeleitet ┆           ┆   ┆ 2+02:00   ┆ zur       ┆           ┆           │\n",
       "│        ┆            ┆ - Noch     ┆           ┆   ┆           ┆ Änderung  ┆           ┆           │\n",
       "│        ┆            ┆ nicht      ┆           ┆   ┆           ┆ des Bunde ┆           ┆           │\n",
       "│        ┆            ┆ beraten    ┆           ┆   ┆           ┆ smeldeges ┆           ┆           │\n",
       "│        ┆            ┆            ┆           ┆   ┆           ┆ etzes (3. ┆           ┆           │\n",
       "│        ┆            ┆            ┆           ┆   ┆           ┆ BMGÄndG)  ┆           ┆           │\n",
       "│ 314138 ┆ null       ┆ Dem        ┆ Gesetzgeb ┆ … ┆ 2024-07-2 ┆ ...       ┆ 2024-07-1 ┆ null      │\n",
       "│        ┆            ┆ Bundesrat  ┆ ung       ┆   ┆ 3T16:47:3 ┆ Gesetz    ┆ 7         ┆           │\n",
       "│        ┆            ┆ zugeleitet ┆           ┆   ┆ 4+02:00   ┆ zur       ┆           ┆           │\n",
       "│        ┆            ┆ - Noch     ┆           ┆   ┆           ┆ Änderung  ┆           ┆           │\n",
       "│        ┆            ┆ nicht      ┆           ┆   ┆           ┆ des       ┆           ┆           │\n",
       "│        ┆            ┆ beraten    ┆           ┆   ┆           ┆ Zwölften  ┆           ┆           │\n",
       "│        ┆            ┆            ┆           ┆   ┆           ┆ Buches    ┆           ┆           │\n",
       "│        ┆            ┆            ┆           ┆   ┆           ┆ Sozialges ┆           ┆           │\n",
       "│        ┆            ┆            ┆           ┆   ┆           ┆ etzbuch   ┆           ┆           │\n",
       "└────────┴────────────┴────────────┴───────────┴───┴───────────┴───────────┴───────────┴───────────┘"
      ]
     },
     "execution_count": 4,
     "metadata": {},
     "output_type": "execute_result"
    }
   ],
   "source": [
    "df_gesetze.head()"
   ]
  },
  {
   "cell_type": "code",
   "execution_count": 5,
   "id": "46f61414-9939-4423-910f-41db94f781c8",
   "metadata": {},
   "outputs": [],
   "source": [
    "df_gesetze = df_gesetze.join(df_vorgang_duration.select(['vorgang_id', 'vorgang_start']), left_on='id', right_on='vorgang_id', how='left')"
   ]
  },
  {
   "cell_type": "code",
   "execution_count": 6,
   "id": "1b58a67e-21a4-42a0-af79-4509ce935344",
   "metadata": {},
   "outputs": [],
   "source": [
    "#df_vorgang_docs = df_vorgangspos.filter(pl.col('dokumentart') == 'Drucksache').group_by('vorgang_id').agg(pl.col('fundstelle').struct.field(\"dokumentnummer\").explode())\n",
    "#df_gesetze = df_gesetze.join(df_vorgang_docs.select(['vorgang_id', 'dokumentnummer']), left_on='id', right_on='vorgang_id', how='left')"
   ]
  },
  {
   "cell_type": "code",
   "execution_count": 7,
   "id": "89f4ca04-8678-4c2a-8be9-ef935ba42fe5",
   "metadata": {},
   "outputs": [],
   "source": [
    "today = date.today()\n",
    "df_gesetze = df_gesetze.with_columns(\n",
    "    pl.when(pl.col('beratungsstand') == 'Verkündet').then(\n",
    "        pl.col('verkuendung').list.eval(pl.col('').struct.field('verkuendungsdatum').str.to_date(format=\"%Y-%m-%d\")).list.min()\n",
    "    ).when(pl.col('beratungsstand') == 'Abgelehnt').then(\n",
    "        pl.col('datum').str.to_date(format=\"%Y-%m-%d\")\n",
    "    ).otherwise(today).alias('vorgang_end')\n",
    ")\n",
    "df_gesetze = df_gesetze.with_columns((pl.col('vorgang_end') - pl.col('vorgang_start')).dt.total_days().alias('vorgangsdauer'))"
   ]
  },
  {
   "cell_type": "code",
   "execution_count": 8,
   "id": "3c39d006-5656-4a1e-9cb8-f3d0fe5ab2b7",
   "metadata": {},
   "outputs": [],
   "source": [
    "reg_frag = ['Fraktion BÜNDNIS 90/DIE GRÜNEN', 'Fraktion der FDP', 'Fraktion der SPD']\n",
    "\n",
    "def fix_initiative(x):\n",
    "    return pl.when(x.list.set_intersection(reg_frag).len == len(reg_frag)).then(\n",
    "        x.list.set_difference(reg_frag)\n",
    "    ).otherwise(x)\n",
    "\n",
    "df_gesetze = df_gesetze.with_columns(pl.when(pl.col('initiative').list.set_intersection(reg_frag).list.len() == len(reg_frag)).then(\n",
    "        pl.col('initiative').list.set_difference(reg_frag).list.concat(pl.Series(['Bundesregierung']))\n",
    "    ).otherwise(pl.col('initiative')).alias('initiative'))"
   ]
  },
  {
   "cell_type": "code",
   "execution_count": 9,
   "id": "d497e172-3e80-46f3-a795-26dc0f720a69",
   "metadata": {},
   "outputs": [],
   "source": [
    "df_gesetze = df_gesetze.with_columns(pl.col('deskriptor').list.eval(pl.element().struct.field('name')).alias('keywords'))"
   ]
  },
  {
   "cell_type": "code",
   "execution_count": 10,
   "id": "2563ad5e-bd77-4fa3-bb9b-ceae20e8ae5e",
   "metadata": {},
   "outputs": [],
   "source": [
    "df_gesetze.select(pl.col(\"*\").exclude(\"abstract\", \"vorgangstyp\", \"gesta\", \"archiv\", \"typ\", \"deskriptor\")).write_json('gesetze.json', row_oriented=True)"
   ]
  },
  {
   "cell_type": "code",
   "execution_count": 11,
   "id": "eb76d5f4-c006-4278-8de0-73ce19e2048b",
   "metadata": {},
   "outputs": [
    {
     "data": {
      "text/html": [
       "<div><style>\n",
       ".dataframe > thead > tr,\n",
       ".dataframe > tbody > tr {\n",
       "  text-align: right;\n",
       "  white-space: pre-wrap;\n",
       "}\n",
       "</style>\n",
       "<small>shape: (8, 3)</small><table border=\"1\" class=\"dataframe\"><thead><tr><th>break_point</th><th>category</th><th>vorgangsdauer_count</th></tr><tr><td>f64</td><td>cat</td><td>u32</td></tr></thead><tbody><tr><td>7.0</td><td>&quot;(-inf, 7.0]&quot;</td><td>1</td></tr><tr><td>14.0</td><td>&quot;(7.0, 14.0]&quot;</td><td>3</td></tr><tr><td>30.0</td><td>&quot;(14.0, 30.0]&quot;</td><td>20</td></tr><tr><td>60.0</td><td>&quot;(30.0, 60.0]&quot;</td><td>24</td></tr><tr><td>120.0</td><td>&quot;(60.0, 120.0]&quot;</td><td>75</td></tr><tr><td>240.0</td><td>&quot;(120.0, 240.0]&quot;</td><td>127</td></tr><tr><td>365.0</td><td>&quot;(240.0, 365.0]&quot;</td><td>15</td></tr><tr><td>inf</td><td>&quot;(365.0, inf]&quot;</td><td>4</td></tr></tbody></table></div>"
      ],
      "text/plain": [
       "shape: (8, 3)\n",
       "┌─────────────┬────────────────┬─────────────────────┐\n",
       "│ break_point ┆ category       ┆ vorgangsdauer_count │\n",
       "│ ---         ┆ ---            ┆ ---                 │\n",
       "│ f64         ┆ cat            ┆ u32                 │\n",
       "╞═════════════╪════════════════╪═════════════════════╡\n",
       "│ 7.0         ┆ (-inf, 7.0]    ┆ 1                   │\n",
       "│ 14.0        ┆ (7.0, 14.0]    ┆ 3                   │\n",
       "│ 30.0        ┆ (14.0, 30.0]   ┆ 20                  │\n",
       "│ 60.0        ┆ (30.0, 60.0]   ┆ 24                  │\n",
       "│ 120.0       ┆ (60.0, 120.0]  ┆ 75                  │\n",
       "│ 240.0       ┆ (120.0, 240.0] ┆ 127                 │\n",
       "│ 365.0       ┆ (240.0, 365.0] ┆ 15                  │\n",
       "│ inf         ┆ (365.0, inf]   ┆ 4                   │\n",
       "└─────────────┴────────────────┴─────────────────────┘"
      ]
     },
     "execution_count": 11,
     "metadata": {},
     "output_type": "execute_result"
    }
   ],
   "source": [
    "df_gesetze_public = df_gesetze.filter(pl.col('beratungsstand') == 'Verkündet')\n",
    "bins = [7, 14, 30, 60, 120, 240, 365]\n",
    "duration_bin = np.digitize(df_gesetze_public.select('vorgangsdauer').to_series(), bins, right=True)\n",
    "df_gesetze_public.select('vorgangsdauer').to_series().hist(bins)"
   ]
  },
  {
   "cell_type": "code",
   "execution_count": 12,
   "id": "f64505de-ecb2-42fa-b269-8f304acebfe2",
   "metadata": {},
   "outputs": [
    {
     "data": {
      "text/html": [
       "<div><style>\n",
       ".dataframe > thead > tr,\n",
       ".dataframe > tbody > tr {\n",
       "  text-align: right;\n",
       "  white-space: pre-wrap;\n",
       "}\n",
       "</style>\n",
       "<small>shape: (1, 21)</small><table border=\"1\" class=\"dataframe\"><thead><tr><th>id</th><th>abstract</th><th>beratungsstand</th><th>vorgangstyp</th><th>gesta</th><th>archiv</th><th>sachgebiet</th><th>typ</th><th>wahlperiode</th><th>zustimmungsbeduerftigkeit</th><th>initiative</th><th>deskriptor</th><th>aktualisiert</th><th>titel</th><th>datum</th><th>verkuendung</th><th>vorgang_start</th><th>vorgang_end</th><th>vorgangsdauer</th><th>keywords</th><th>duration_bin</th></tr><tr><td>str</td><td>str</td><td>str</td><td>str</td><td>str</td><td>str</td><td>list[str]</td><td>str</td><td>u64</td><td>list[str]</td><td>list[str]</td><td>list[struct[3]]</td><td>str</td><td>str</td><td>str</td><td>list[struct[1]]</td><td>date</td><td>date</td><td>i64</td><td>list[str]</td><td>i64</td></tr></thead><tbody><tr><td>&quot;283063&quot;</td><td>&quot;Impfpflicht gegen COVID-19 bzw. Nachweis über Genesung oder Kontraindikation für Beschäftigte besti…</td><td>&quot;Verkündet&quot;</td><td>&quot;Gesetzgebung&quot;</td><td>&quot;M002&quot;</td><td>&quot;XX/2&quot;</td><td>[&quot;Gesundheit&quot;]</td><td>&quot;Vorgang&quot;</td><td>20</td><td>[&quot;Ja, laut Gesetzentwurf (Drs 20/188)&quot;, &quot;Ja, laut Verkündung (BGBl I)&quot;]</td><td>[&quot;Bundesregierung&quot;]</td><td>[{false,&quot;Apotheker&quot;,&quot;Sachbegriffe&quot;}, {false,&quot;Arbeitnehmer-Entsendegesetz&quot;,&quot;Rechtsmaterialien&quot;}, … {false,&quot;Zahnarzt&quot;,&quot;Sachbegriffe&quot;}]</td><td>&quot;2022-07-26T19:57:25+02:00&quot;</td><td>&quot;Gesetz zur Stärkung der Impfprävention gegen COVID-19 und zur Änderung weiterer Vorschriften im Zus…</td><td>&quot;2021-12-10&quot;</td><td>[{&quot;2021-12-11&quot;}]</td><td>2021-12-06</td><td>2021-12-11</td><td>5</td><td>[&quot;Apotheker&quot;, &quot;Arbeitnehmer-Entsendegesetz&quot;, … &quot;Zahnarzt&quot;]</td><td>0</td></tr></tbody></table></div>"
      ],
      "text/plain": [
       "shape: (1, 21)\n",
       "┌────────┬────────────┬────────────┬───────────┬───┬───────────┬───────────┬───────────┬───────────┐\n",
       "│ id     ┆ abstract   ┆ beratungss ┆ vorgangst ┆ … ┆ vorgang_e ┆ vorgangsd ┆ keywords  ┆ duration_ │\n",
       "│ ---    ┆ ---        ┆ tand       ┆ yp        ┆   ┆ nd        ┆ auer      ┆ ---       ┆ bin       │\n",
       "│ str    ┆ str        ┆ ---        ┆ ---       ┆   ┆ ---       ┆ ---       ┆ list[str] ┆ ---       │\n",
       "│        ┆            ┆ str        ┆ str       ┆   ┆ date      ┆ i64       ┆           ┆ i64       │\n",
       "╞════════╪════════════╪════════════╪═══════════╪═══╪═══════════╪═══════════╪═══════════╪═══════════╡\n",
       "│ 283063 ┆ Impfpflich ┆ Verkündet  ┆ Gesetzgeb ┆ … ┆ 2021-12-1 ┆ 5         ┆ [\"Apothek ┆ 0         │\n",
       "│        ┆ t gegen    ┆            ┆ ung       ┆   ┆ 1         ┆           ┆ er\", \"Arb ┆           │\n",
       "│        ┆ COVID-19   ┆            ┆           ┆   ┆           ┆           ┆ eitnehmer ┆           │\n",
       "│        ┆ bzw.       ┆            ┆           ┆   ┆           ┆           ┆ -Entsende ┆           │\n",
       "│        ┆ Nachweis   ┆            ┆           ┆   ┆           ┆           ┆ gesetz\",  ┆           │\n",
       "│        ┆ über       ┆            ┆           ┆   ┆           ┆           ┆ … \"Zahnar ┆           │\n",
       "│        ┆ Genesung   ┆            ┆           ┆   ┆           ┆           ┆ zt\"]      ┆           │\n",
       "│        ┆ oder Kontr ┆            ┆           ┆   ┆           ┆           ┆           ┆           │\n",
       "│        ┆ aindikatio ┆            ┆           ┆   ┆           ┆           ┆           ┆           │\n",
       "│        ┆ n für Besc ┆            ┆           ┆   ┆           ┆           ┆           ┆           │\n",
       "│        ┆ häftigte   ┆            ┆           ┆   ┆           ┆           ┆           ┆           │\n",
       "│        ┆ bestim…    ┆            ┆           ┆   ┆           ┆           ┆           ┆           │\n",
       "└────────┴────────────┴────────────┴───────────┴───┴───────────┴───────────┴───────────┴───────────┘"
      ]
     },
     "execution_count": 12,
     "metadata": {},
     "output_type": "execute_result"
    }
   ],
   "source": [
    "df_gesetze_public_bins = df_gesetze_public.with_columns(pl.from_numpy(duration_bin, schema=['duration_bin']))\n",
    "df_gesetze_public_bins.filter(pl.col('duration_bin') == pl.col('duration_bin').min())"
   ]
  },
  {
   "cell_type": "code",
   "execution_count": 13,
   "id": "aed89740-24dc-4fc5-9508-4d65baee2f2a",
   "metadata": {},
   "outputs": [
    {
     "data": {
      "text/html": [
       "<div><style>\n",
       ".dataframe > thead > tr,\n",
       ".dataframe > tbody > tr {\n",
       "  text-align: right;\n",
       "  white-space: pre-wrap;\n",
       "}\n",
       "</style>\n",
       "<small>shape: (4, 21)</small><table border=\"1\" class=\"dataframe\"><thead><tr><th>id</th><th>abstract</th><th>beratungsstand</th><th>vorgangstyp</th><th>gesta</th><th>archiv</th><th>sachgebiet</th><th>typ</th><th>wahlperiode</th><th>zustimmungsbeduerftigkeit</th><th>initiative</th><th>deskriptor</th><th>aktualisiert</th><th>titel</th><th>datum</th><th>verkuendung</th><th>vorgang_start</th><th>vorgang_end</th><th>vorgangsdauer</th><th>keywords</th><th>duration_bin</th></tr><tr><td>str</td><td>str</td><td>str</td><td>str</td><td>str</td><td>str</td><td>list[str]</td><td>str</td><td>u64</td><td>list[str]</td><td>list[str]</td><td>list[struct[3]]</td><td>str</td><td>str</td><td>str</td><td>list[struct[1]]</td><td>date</td><td>date</td><td>i64</td><td>list[str]</td><td>i64</td></tr></thead><tbody><tr><td>&quot;300155&quot;</td><td>&quot;Erweiterung und Flexibilisierung des Einsatzes von Videokonferenztechnik in der Zivilgerichtsbarkei…</td><td>&quot;Verkündet&quot;</td><td>&quot;Gesetzgebung&quot;</td><td>&quot;C055&quot;</td><td>&quot;XX/260&quot;</td><td>[&quot;Medien, Kommunikation und Informationstechnik&quot;, &quot;Recht&quot;]</td><td>&quot;Vorgang&quot;</td><td>20</td><td>[&quot;Nein, laut Gesetzentwurf (Drs 228/23)&quot;, &quot;Nein, laut Verkündung (BGBl I)&quot;]</td><td>[&quot;Bundesregierung&quot;]</td><td>[{false,&quot;Abgabenordnung&quot;,&quot;Rechtsmaterialien&quot;}, {false,&quot;Arbeitsgerichtsbarkeit&quot;,&quot;Sachbegriffe&quot;}, … {false,&quot;Zivilprozessordnung&quot;,&quot;Rechtsmaterialien&quot;}]</td><td>&quot;2024-07-26T13:48:33+02:00&quot;</td><td>&quot;Gesetz zur Förderung des Einsatzes von Videokonferenztechnik in der Zivilgerichtsbarkeit und den Fa…</td><td>&quot;2024-06-14&quot;</td><td>[{&quot;2024-07-18&quot;}]</td><td>2023-05-26</td><td>2024-07-18</td><td>419</td><td>[&quot;Abgabenordnung&quot;, &quot;Arbeitsgerichtsbarkeit&quot;, … &quot;Zivilprozessordnung&quot;]</td><td>7</td></tr><tr><td>&quot;300144&quot;</td><td>&quot;Weiterentwicklung nutzerfreundlicher digitaler Services der Verwaltung: Bereitstellung zentrale Bas…</td><td>&quot;Verkündet&quot;</td><td>&quot;Gesetzgebung&quot;</td><td>&quot;B039&quot;</td><td>&quot;XX/264&quot;</td><td>[&quot;Medien, Kommunikation und Informationstechnik&quot;, &quot;Staat und Verwaltung&quot;]</td><td>&quot;Vorgang&quot;</td><td>20</td><td>[&quot;Ja, laut Gesetzentwurf (Drs 226/23)&quot;, &quot;Ja, laut Verkündung (BGBl I)&quot;]</td><td>[&quot;Bundesregierung&quot;]</td><td>[{false,&quot;Abgabenordnung&quot;,&quot;Rechtsmaterialien&quot;}, {false,&quot;Barrierefreiheit&quot;,&quot;Sachbegriffe&quot;}, … {false,&quot;Öffentliche Verwaltung&quot;,&quot;Sachbegriffe&quot;}]</td><td>&quot;2024-07-26T13:49:51+02:00&quot;</td><td>&quot;Gesetz zur Änderung des Onlinezugangsgesetzes sowie weiterer Vorschriften zur Digitalisierung der V…</td><td>&quot;2024-06-14&quot;</td><td>[{&quot;2024-07-23&quot;}]</td><td>2023-05-26</td><td>2024-07-23</td><td>424</td><td>[&quot;Abgabenordnung&quot;, &quot;Barrierefreiheit&quot;, … &quot;Öffentliche Verwaltung&quot;]</td><td>7</td></tr><tr><td>&quot;299229&quot;</td><td>&quot;Ausschöpfung der Potenziale im Bereich Immissionsschutzrecht zwecks Treibhausgasneutralität im Jahr…</td><td>&quot;Verkündet&quot;</td><td>&quot;Gesetzgebung&quot;</td><td>&quot;N016&quot;</td><td>&quot;XX/255&quot;</td><td>[&quot;Energie&quot;, &quot;Umwelt&quot;]</td><td>&quot;Vorgang&quot;</td><td>20</td><td>[&quot;Ja, laut Gesetzentwurf (Drs 201/23)&quot;, &quot;Ja, laut Verkündung (BGBl I)&quot;]</td><td>[&quot;Bundesregierung&quot;]</td><td>[{false,&quot;Baumaßnahme&quot;,&quot;Sachbegriffe&quot;}, {false,&quot;Bausanierung&quot;,&quot;Sachbegriffe&quot;}, … {false,&quot;Windenergieanlage&quot;,&quot;Sachbegriffe&quot;}]</td><td>&quot;2024-07-26T13:46:18+02:00&quot;</td><td>&quot;Gesetz zur Verbesserung des Klimaschutzes beim Immissionsschutz, zur Beschleunigung immissionsschut…</td><td>&quot;2024-06-14&quot;</td><td>[{&quot;2024-07-08&quot;}]</td><td>2023-05-05</td><td>2024-07-08</td><td>430</td><td>[&quot;Baumaßnahme&quot;, &quot;Bausanierung&quot;, … &quot;Windenergieanlage&quot;]</td><td>7</td></tr><tr><td>&quot;297317&quot;</td><td>null</td><td>&quot;Verkündet&quot;</td><td>&quot;Gesetzgebung&quot;</td><td>&quot;XB002&quot;</td><td>&quot;XX/225&quot;</td><td>[&quot;Europapolitik und Europäische Union&quot;]</td><td>&quot;Vorgang&quot;</td><td>20</td><td>[&quot;Ja, laut Gesetzentwurf (Drs 104/23)&quot;, &quot;Ja, laut Verkündung (BGBl II)&quot;]</td><td>[&quot;Bundesregierung&quot;]</td><td>[{false,&quot;Europawahl&quot;,&quot;Sachbegriffe&quot;}, {false,&quot;Europäisches Parlament&quot;,&quot;Institutionen&quot;}, {false,&quot;Sperrklausel&quot;,&quot;Sachbegriffe&quot;}]</td><td>&quot;2024-03-13T16:36:41+01:00&quot;</td><td>&quot;Gesetz zu dem Beschluss (EU, Euratom) 2018/994 des Rates der Europäischen Union vom 13. Juli 2018 z…</td><td>&quot;2023-07-07&quot;</td><td>[{&quot;2024-03-13&quot;}]</td><td>2023-03-10</td><td>2024-03-13</td><td>369</td><td>[&quot;Europawahl&quot;, &quot;Europäisches Parlament&quot;, &quot;Sperrklausel&quot;]</td><td>7</td></tr></tbody></table></div>"
      ],
      "text/plain": [
       "shape: (4, 21)\n",
       "┌────────┬────────────┬────────────┬───────────┬───┬───────────┬───────────┬───────────┬───────────┐\n",
       "│ id     ┆ abstract   ┆ beratungss ┆ vorgangst ┆ … ┆ vorgang_e ┆ vorgangsd ┆ keywords  ┆ duration_ │\n",
       "│ ---    ┆ ---        ┆ tand       ┆ yp        ┆   ┆ nd        ┆ auer      ┆ ---       ┆ bin       │\n",
       "│ str    ┆ str        ┆ ---        ┆ ---       ┆   ┆ ---       ┆ ---       ┆ list[str] ┆ ---       │\n",
       "│        ┆            ┆ str        ┆ str       ┆   ┆ date      ┆ i64       ┆           ┆ i64       │\n",
       "╞════════╪════════════╪════════════╪═══════════╪═══╪═══════════╪═══════════╪═══════════╪═══════════╡\n",
       "│ 300155 ┆ Erweiterun ┆ Verkündet  ┆ Gesetzgeb ┆ … ┆ 2024-07-1 ┆ 419       ┆ [\"Abgaben ┆ 7         │\n",
       "│        ┆ g und Flex ┆            ┆ ung       ┆   ┆ 8         ┆           ┆ ordnung\", ┆           │\n",
       "│        ┆ ibilisieru ┆            ┆           ┆   ┆           ┆           ┆ \"Arbeitsg ┆           │\n",
       "│        ┆ ng des     ┆            ┆           ┆   ┆           ┆           ┆ erichtsba ┆           │\n",
       "│        ┆ Einsatzes  ┆            ┆           ┆   ┆           ┆           ┆ rkeit\", … ┆           │\n",
       "│        ┆ von Videok ┆            ┆           ┆   ┆           ┆           ┆ \"Zivilpro ┆           │\n",
       "│        ┆ onferenzte ┆            ┆           ┆   ┆           ┆           ┆ zessordnu ┆           │\n",
       "│        ┆ chnik in   ┆            ┆           ┆   ┆           ┆           ┆ ng\"]      ┆           │\n",
       "│        ┆ der Zivilg ┆            ┆           ┆   ┆           ┆           ┆           ┆           │\n",
       "│        ┆ erichtsbar ┆            ┆           ┆   ┆           ┆           ┆           ┆           │\n",
       "│        ┆ keit…      ┆            ┆           ┆   ┆           ┆           ┆           ┆           │\n",
       "│ 300144 ┆ Weiterentw ┆ Verkündet  ┆ Gesetzgeb ┆ … ┆ 2024-07-2 ┆ 424       ┆ [\"Abgaben ┆ 7         │\n",
       "│        ┆ icklung    ┆            ┆ ung       ┆   ┆ 3         ┆           ┆ ordnung\", ┆           │\n",
       "│        ┆ nutzerfreu ┆            ┆           ┆   ┆           ┆           ┆ \"Barriere ┆           │\n",
       "│        ┆ ndlicher   ┆            ┆           ┆   ┆           ┆           ┆ freiheit\" ┆           │\n",
       "│        ┆ digitaler  ┆            ┆           ┆   ┆           ┆           ┆ , … \"Öffe ┆           │\n",
       "│        ┆ Services   ┆            ┆           ┆   ┆           ┆           ┆ ntliche   ┆           │\n",
       "│        ┆ der Verwal ┆            ┆           ┆   ┆           ┆           ┆ Verwaltun ┆           │\n",
       "│        ┆ tung: Bere ┆            ┆           ┆   ┆           ┆           ┆ g\"]       ┆           │\n",
       "│        ┆ itstellung ┆            ┆           ┆   ┆           ┆           ┆           ┆           │\n",
       "│        ┆ zentrale   ┆            ┆           ┆   ┆           ┆           ┆           ┆           │\n",
       "│        ┆ Basi…      ┆            ┆           ┆   ┆           ┆           ┆           ┆           │\n",
       "│ 299229 ┆ Ausschöpfu ┆ Verkündet  ┆ Gesetzgeb ┆ … ┆ 2024-07-0 ┆ 430       ┆ [\"Baumaßn ┆ 7         │\n",
       "│        ┆ ng der     ┆            ┆ ung       ┆   ┆ 8         ┆           ┆ ahme\",    ┆           │\n",
       "│        ┆ Potenziale ┆            ┆           ┆   ┆           ┆           ┆ \"Bausanie ┆           │\n",
       "│        ┆ im Bereich ┆            ┆           ┆   ┆           ┆           ┆ rung\", …  ┆           │\n",
       "│        ┆ Immissions ┆            ┆           ┆   ┆           ┆           ┆ \"Windener ┆           │\n",
       "│        ┆ schutzrech ┆            ┆           ┆   ┆           ┆           ┆ gieanlage ┆           │\n",
       "│        ┆ t zwecks   ┆            ┆           ┆   ┆           ┆           ┆ \"]        ┆           │\n",
       "│        ┆ Treibhausg ┆            ┆           ┆   ┆           ┆           ┆           ┆           │\n",
       "│        ┆ asneutrali ┆            ┆           ┆   ┆           ┆           ┆           ┆           │\n",
       "│        ┆ tät im     ┆            ┆           ┆   ┆           ┆           ┆           ┆           │\n",
       "│        ┆ Jahr …     ┆            ┆           ┆   ┆           ┆           ┆           ┆           │\n",
       "│ 297317 ┆ null       ┆ Verkündet  ┆ Gesetzgeb ┆ … ┆ 2024-03-1 ┆ 369       ┆ [\"Europaw ┆ 7         │\n",
       "│        ┆            ┆            ┆ ung       ┆   ┆ 3         ┆           ┆ ahl\", \"Eu ┆           │\n",
       "│        ┆            ┆            ┆           ┆   ┆           ┆           ┆ ropäische ┆           │\n",
       "│        ┆            ┆            ┆           ┆   ┆           ┆           ┆ s Parlame ┆           │\n",
       "│        ┆            ┆            ┆           ┆   ┆           ┆           ┆ nt\", \"Spe ┆           │\n",
       "│        ┆            ┆            ┆           ┆   ┆           ┆           ┆ rrklausel ┆           │\n",
       "│        ┆            ┆            ┆           ┆   ┆           ┆           ┆ \"]        ┆           │\n",
       "└────────┴────────────┴────────────┴───────────┴───┴───────────┴───────────┴───────────┴───────────┘"
      ]
     },
     "execution_count": 13,
     "metadata": {},
     "output_type": "execute_result"
    }
   ],
   "source": [
    "df_gesetze_public_bins.filter(pl.col('duration_bin') == pl.col('duration_bin').max())"
   ]
  },
  {
   "cell_type": "code",
   "execution_count": 14,
   "id": "6d953f03-1ad3-483b-988e-9e72e188452b",
   "metadata": {},
   "outputs": [],
   "source": [
    "def map_gesetze(tokens):\n",
    "    overlap = df_gesetze.with_columns(pl.col('titel.stem').map_elements(lambda x: td.lcsstr.normalized_similarity(tokens, x)).alias('similarity')).select(['titel', 'titel.stem', 'id', 'similarity'])\n",
    "    overlap_ = overlap.sort('similarity', descending=True)\n",
    "    overlap = overlap_.filter(pl.col('similarity') > 0.5)\n",
    "    if overlap.shape[0] == 0:\n",
    "        print(f'Warning: Count not find any Gesetze with similarity > 0.5: {tokens}')\n",
    "        print(overlap_.head())\n",
    "        return None\n",
    "    if overlap.shape[0] > 1:\n",
    "        if overlap.row(1, named=True)['similarity'] * 2 > overlap.row(0, named=True)['similarity'] and overlap.row(0, named=True)['similarity'] != 1:\n",
    "            print(f'Error: could not map gesetz: {tokens}')\n",
    "            print(overlap.head())\n",
    "            return None\n",
    "    #print(tokens)\n",
    "    #print(overlap.head())\n",
    "    return overlap.row(0, named=True)\n",
    "\n",
    "bad_words = [\n",
    "    'beratung',\n",
    "    'gebrach',\n",
    "    'entwurf',\n",
    "    'eine'\n",
    "]\n",
    "stopwords_german = stopwords.words('german')\n",
    "def rm_stop_words(txt):\n",
    "    words = txt.split()\n",
    "    words = list(filter(lambda x: x not in stopwords_german, words))\n",
    "    return ' '.join(words)\n",
    "    \n",
    "def pre_process(txt):\n",
    "    txt = txt.split('eingebrach', 1)[1]\n",
    "    txt = ' '.join(txt.split())\n",
    "    txt = re.sub(r'[a-z]\\)\\(', '', txt)\n",
    "    txt = re.sub(r'des von (der|den) .*(fraktio|bundesregierung)', '', txt)\n",
    "    txt = re.sub(r'^–', '', txt)\n",
    "    for word in bad_words:\n",
    "        txt = txt.replace(word, '', 1)\n",
    "    return rm_stop_words(txt)\n",
    "\n",
    "stemmer = Cistem()\n",
    "def stem(txt):\n",
    "    words = []\n",
    "    for word in txt.split():\n",
    "        words.append(stemmer.segment(word)[0])\n",
    "    return ' '.join(words)\n",
    "\n",
    "def map_top_gesetze(soup):\n",
    "    tagesordnung = {}\n",
    "    for conf in soup.find_all('div', {'class': 'bt-conference-title'}):\n",
    "        sitzung = conf.text.strip()\n",
    "        print(sitzung)\n",
    "        top_l = []\n",
    "        for thema in conf.parent.parent.find_all('td', {'data-th': 'Thema'}):\n",
    "            if thema.p:\n",
    "                for top in str(thema.p).split('<br/><br/>'):\n",
    "                    top = BeautifulSoup(top, 'lxml')\n",
    "                    vorgang_id = None\n",
    "                    for a in top.find_all('a'):\n",
    "                        drucksache = df_vorgangspos.filter((pl.col('dokumentart') == 'Drucksache') & (pl.col('fundstelle').struct.field(\"drucksachetyp\") == 'Gesetzentwurf') & (pl.col('fundstelle').struct.field(\"pdf_url\") == a['href']))\n",
    "                        if drucksache.shape[0] == 0:\n",
    "                            continue\n",
    "                        if drucksache.shape[0] == 1:\n",
    "                            vorgang_id_new = drucksache.row(0, named=True)['vorgang_id']\n",
    "                            if vorgang_id and vorgang_id != vorgang_id_new:\n",
    "                                raise RuntimeError('vorgang id missmatch')\n",
    "                            vorgang_id = vorgang_id_new\n",
    "                        if drucksache.shape[0] > 1:\n",
    "                            print(drucksache)\n",
    "                            raise RuntimeError('Found multiple vorgang ids for document')\n",
    "                    if vorgang_id:\n",
    "                        gesetz = df_gesetze.filter(pl.col('id') == vorgang_id).row(0, named=True)\n",
    "                        print('* ' + gesetz['titel'])\n",
    "                        top_l.append(gesetz)\n",
    "                    else:\n",
    "                        txt_ = top.get_text(' ')\n",
    "                        for txt in txt_.split('Drucksache'):\n",
    "                            if 'gesetz' in txt.lower() and 'entwurf' in txt.lower():\n",
    "                                txt = stem(txt)\n",
    "                                txt = pre_process(txt)\n",
    "                                gesetz = map_gesetze(txt)\n",
    "                                if gesetz is not None:\n",
    "                                    print('* ' + gesetz['titel'])\n",
    "                                    top_l.append(gesetz)\n",
    "        print()\n",
    "        tagesordnung[sitzung] = top_l\n",
    "    return tagesordnung\n",
    "\n",
    "def get_tagesordnung_gesetze(kw):\n",
    "    res = requests.get('https://www.bundestag.de/apps/plenar/plenar/conferenceweekDetail.form', {'year': 2024, 'week': kw, 'limit': 10})\n",
    "    time.sleep(0.3)\n",
    "    soup = BeautifulSoup(res.text, 'lxml')\n",
    "    return map_top_gesetze(soup)"
   ]
  },
  {
   "cell_type": "code",
   "execution_count": 15,
   "id": "08fee33d-a1d7-408a-bfeb-805a22e126bb",
   "metadata": {},
   "outputs": [],
   "source": [
    "df_gesetze = df_gesetze.with_columns(pl.col('titel').map_elements(stem).map_elements(rm_stop_words).alias('titel.stem'))"
   ]
  },
  {
   "cell_type": "code",
   "execution_count": 16,
   "id": "47f3e4d1-9700-4abc-84f2-06293eb565cd",
   "metadata": {},
   "outputs": [],
   "source": [
    "#df_vorgangspos.filter((pl.col('dokumentart') == 'Drucksache')).select(pl.col('fundstelle').struct.field(\"pdf_url\"))\n",
    "#df_vorgangspos.filter(pl.col('fundstelle').struct.field(\"pdf_url\").eq('https://dserver.bundestag.de/btd/20/106/2010664.pdf'))"
   ]
  },
  {
   "cell_type": "code",
   "execution_count": 17,
   "id": "9d99ca02-9aa7-4dc8-a983-df30439ba5bf",
   "metadata": {},
   "outputs": [
    {
     "name": "stdout",
     "output_type": "stream",
     "text": [
      "10. September 2024 (183. Sitzung)\n",
      "Error: could not map gesetz: gesetz feststellung bundeshaushaltspla haushaltsjahr 2025 (haushaltsgesetz 2025 – hg 2025)\n",
      "shape: (3, 4)\n",
      "┌─────────────────────────────────────────┬──────────────────────────────────┬────────┬────────────┐\n",
      "│ titel                                   ┆ titel.stem                       ┆ id     ┆ similarity │\n",
      "│ ---                                     ┆ ---                              ┆ ---    ┆ ---        │\n",
      "│ str                                     ┆ str                              ┆ str    ┆ f64        │\n",
      "╞═════════════════════════════════════════╪══════════════════════════════════╪════════╪════════════╡\n",
      "│ Gesetz über die Feststellung des        ┆ gesetz feststellung              ┆ 302729 ┆ 0.622222   │\n",
      "│ Bundeshaushaltsplans für das            ┆ bundeshaushaltspla haushaltsjahr ┆        ┆            │\n",
      "│ Haushaltsjahr 2024 (Haushaltsgesetz 20… ┆ 2024 (haushaltsgesetz 2024 - hg  ┆        ┆            │\n",
      "│                                         ┆ 2024)                            ┆        ┆            │\n",
      "│ Gesetz über die Feststellung des        ┆ gesetz feststellung              ┆ 290223 ┆ 0.622222   │\n",
      "│ Bundeshaushaltsplans für das            ┆ bundeshaushaltspla haushaltsjahr ┆        ┆            │\n",
      "│ Haushaltsjahr 2023 (Haushaltsgesetz 20… ┆ 2023 (haushaltsgesetz 2023)      ┆        ┆            │\n",
      "│ Gesetz über die Feststellung des        ┆ gesetz feststellung              ┆ 285457 ┆ 0.622222   │\n",
      "│ Bundeshaushaltsplans für das            ┆ bundeshaushaltspla haushaltsjahr ┆        ┆            │\n",
      "│ Haushaltsjahr 2022 (Haushaltsgesetz 20… ┆ 2022 (haushaltsgesetz 2022)      ┆        ┆            │\n",
      "└─────────────────────────────────────────┴──────────────────────────────────┴────────┴────────────┘\n",
      "\n",
      "11. September 2024 (184. Sitzung)\n",
      "\n",
      "12. September 2024 (185. Sitzung)\n",
      "\n",
      "13. September 2024 (186. Sitzung)\n",
      "\n"
     ]
    }
   ],
   "source": [
    "res = requests.get('https://www.bundestag.de/tagesordnung')\n",
    "soup = BeautifulSoup(res.text, 'lxml')\n",
    "div = soup.find('div', {'class': 'bt-module-row bt-module-row-sitzungsablauf'})\n",
    "url = urllib.parse.urlparse(div['data-dataloader-url'])\n",
    "week = int(urllib.parse.parse_qs(url.query)['week'][0])\n",
    "\n",
    "top = {}\n",
    "for prev in range(1, 10):\n",
    "    tagesordnung = get_tagesordnung_gesetze(week - prev)\n",
    "    if tagesordnung:\n",
    "        top.update(tagesordnung)\n",
    "        break\n",
    "top.update(get_tagesordnung_gesetze(week))\n",
    "for prev in range(1, 10):\n",
    "    tagesordnung = get_tagesordnung_gesetze(week + prev)\n",
    "    if tagesordnung:\n",
    "        top.update(tagesordnung)\n",
    "        break"
   ]
  },
  {
   "cell_type": "code",
   "execution_count": 18,
   "id": "60617dda-dea8-431a-bd18-a5cb6c985df5",
   "metadata": {},
   "outputs": [],
   "source": [
    "json.dump({day: [gesetz['id'] for gesetz in value] for day, value in top.items()}, open('tagesordnung.json', 'wt'))"
   ]
  },
  {
   "cell_type": "code",
   "execution_count": 19,
   "id": "1510372d-0e77-4675-a50b-3f9f8b7f755f",
   "metadata": {},
   "outputs": [
    {
     "data": {
      "text/plain": [
       "'gesetz rechtssich einführung'"
      ]
     },
     "execution_count": 19,
     "metadata": {},
     "output_type": "execute_result"
    }
   ],
   "source": [
    "pre_process(stem('Erste Beratung des von der CDU/CSU-Fraktion eingebrachten Gesetzentwurfs zur rechtssicheren Einführung '))"
   ]
  },
  {
   "cell_type": "code",
   "execution_count": 20,
   "id": "77137b23-6398-4652-aec1-695302139583",
   "metadata": {},
   "outputs": [
    {
     "data": {
      "text/plain": [
       "'gesetz durchführung'"
      ]
     },
     "execution_count": 20,
     "metadata": {},
     "output_type": "execute_result"
    }
   ],
   "source": [
    "pre_process(stem(' – Zweite und dritte Beratung des von der Bundesregierung eingebrachten Entwurfs eines Gesetzes zur Durchführung'))"
   ]
  },
  {
   "cell_type": "code",
   "execution_count": 21,
   "id": "a4b8d356-0f72-407c-b571-f378428eac75",
   "metadata": {},
   "outputs": [
    {
     "data": {
      "text/plain": [
       "'zweit gesetz änderung umweltstatistikgesetz'"
      ]
     },
     "execution_count": 21,
     "metadata": {},
     "output_type": "execute_result"
    }
   ],
   "source": [
    "pre_process(stem('a) Zweite und dritte Beratung des von der Bundesregierung eingebrachten Entwurfs eines Zweiten Gesetzes zur Änderung des Umweltstatistikgesetzes  '))"
   ]
  }
 ],
 "metadata": {
  "kernelspec": {
   "display_name": "Python 3 (ipykernel)",
   "language": "python",
   "name": "python3"
  },
  "language_info": {
   "codemirror_mode": {
    "name": "ipython",
    "version": 3
   },
   "file_extension": ".py",
   "mimetype": "text/x-python",
   "name": "python",
   "nbconvert_exporter": "python",
   "pygments_lexer": "ipython3",
   "version": "3.12.4"
  }
 },
 "nbformat": 4,
 "nbformat_minor": 5
}
